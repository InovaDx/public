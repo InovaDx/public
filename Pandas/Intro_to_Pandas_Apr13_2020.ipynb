{
 "cells": [
  {
   "cell_type": "markdown",
   "metadata": {
    "toc": true
   },
   "source": [
    "<h1>Table of Contents<span class=\"tocSkip\"></span></h1>\n",
    "<div class=\"toc\"><ul class=\"toc-item\"><li><span><a href=\"#Introduction-to-Pandas\" data-toc-modified-id=\"Introduction-to-Pandas-1\"><span class=\"toc-item-num\">1&nbsp;&nbsp;</span>Introduction to Pandas</a></span><ul class=\"toc-item\"><li><span><a href=\"#From-the-Pandas-documentation:\" data-toc-modified-id=\"From-the-Pandas-documentation:-1.1\"><span class=\"toc-item-num\">1.1&nbsp;&nbsp;</span>From the Pandas documentation:</a></span><ul class=\"toc-item\"><li><span><a href=\"#10-Minutes-Intro-to-Pandas\" data-toc-modified-id=\"10-Minutes-Intro-to-Pandas-1.1.1\"><span class=\"toc-item-num\">1.1.1&nbsp;&nbsp;</span>10 Minutes Intro to Pandas</a></span></li></ul></li><li><span><a href=\"#Set-up-Pandas-default-params\" data-toc-modified-id=\"Set-up-Pandas-default-params-1.2\"><span class=\"toc-item-num\">1.2&nbsp;&nbsp;</span>Set up Pandas default params</a></span></li><li><span><a href=\"#Data-structures\" data-toc-modified-id=\"Data-structures-1.3\"><span class=\"toc-item-num\">1.3&nbsp;&nbsp;</span>Data structures</a></span><ul class=\"toc-item\"><li><span><a href=\"#1.-Series\" data-toc-modified-id=\"1.-Series-1.3.1\"><span class=\"toc-item-num\">1.3.1&nbsp;&nbsp;</span>1. Series</a></span></li><li><span><a href=\"#2.-Dataframes\" data-toc-modified-id=\"2.-Dataframes-1.3.2\"><span class=\"toc-item-num\">1.3.2&nbsp;&nbsp;</span>2. Dataframes</a></span></li><li><span><a href=\"#3.-Panel-Data\" data-toc-modified-id=\"3.-Panel-Data-1.3.3\"><span class=\"toc-item-num\">1.3.3&nbsp;&nbsp;</span>3. <a href=\"http://pandas.pydata.org/pandas-docs/stable/generated/pandas.Panel.html\" target=\"_blank\">Panel Data</a></a></span></li></ul></li><li><span><a href=\"#So,-what-is-a-Pandas-Dataframe\" data-toc-modified-id=\"So,-what-is-a-Pandas-Dataframe-1.4\"><span class=\"toc-item-num\">1.4&nbsp;&nbsp;</span>So, what is a Pandas Dataframe</a></span></li><li><span><a href=\"#Load-a-data-set----read_*\" data-toc-modified-id=\"Load-a-data-set----read_*-1.5\"><span class=\"toc-item-num\">1.5&nbsp;&nbsp;</span>Load a data set -- read_*</a></span><ul class=\"toc-item\"><li><span><a href=\"#&quot;Census-Income&quot;-dataset\" data-toc-modified-id=\"&quot;Census-Income&quot;-dataset-1.5.1\"><span class=\"toc-item-num\">1.5.1&nbsp;&nbsp;</span>\"Census Income\" dataset</a></span></li><li><span><a href=\"#Q:-What's-happening-in-the-above-cell?\" data-toc-modified-id=\"Q:-What's-happening-in-the-above-cell?-1.5.2\"><span class=\"toc-item-num\">1.5.2&nbsp;&nbsp;</span>Q: What's happening in the above cell?</a></span></li></ul></li><li><span><a href=\"#Viewing-Data\" data-toc-modified-id=\"Viewing-Data-1.6\"><span class=\"toc-item-num\">1.6&nbsp;&nbsp;</span>Viewing Data</a></span><ul class=\"toc-item\"><li><span><a href=\"#info\" data-toc-modified-id=\"info-1.6.1\"><span class=\"toc-item-num\">1.6.1&nbsp;&nbsp;</span>info</a></span></li><li><span><a href=\"#Head\" data-toc-modified-id=\"Head-1.6.2\"><span class=\"toc-item-num\">1.6.2&nbsp;&nbsp;</span>Head</a></span></li><li><span><a href=\"#Tail\" data-toc-modified-id=\"Tail-1.6.3\"><span class=\"toc-item-num\">1.6.3&nbsp;&nbsp;</span>Tail</a></span></li><li><span><a href=\"#Sample\" data-toc-modified-id=\"Sample-1.6.4\"><span class=\"toc-item-num\">1.6.4&nbsp;&nbsp;</span>Sample</a></span></li><li><span><a href=\"#Columns\" data-toc-modified-id=\"Columns-1.6.5\"><span class=\"toc-item-num\">1.6.5&nbsp;&nbsp;</span>Columns</a></span></li><li><span><a href=\"#Column-Types\" data-toc-modified-id=\"Column-Types-1.6.6\"><span class=\"toc-item-num\">1.6.6&nbsp;&nbsp;</span>Column Types</a></span></li></ul></li><li><span><a href=\"#Rename-columns\" data-toc-modified-id=\"Rename-columns-1.7\"><span class=\"toc-item-num\">1.7&nbsp;&nbsp;</span>Rename columns</a></span></li><li><span><a href=\"#Descriptives\" data-toc-modified-id=\"Descriptives-1.8\"><span class=\"toc-item-num\">1.8&nbsp;&nbsp;</span>Descriptives</a></span><ul class=\"toc-item\"><li><span><a href=\"#Describe\" data-toc-modified-id=\"Describe-1.8.1\"><span class=\"toc-item-num\">1.8.1&nbsp;&nbsp;</span>Describe</a></span></li><li><span><a href=\"#value_counts\" data-toc-modified-id=\"value_counts-1.8.2\"><span class=\"toc-item-num\">1.8.2&nbsp;&nbsp;</span>value_counts</a></span></li></ul></li><li><span><a href=\"#Comprehension-Question:\" data-toc-modified-id=\"Comprehension-Question:-1.9\"><span class=\"toc-item-num\">1.9&nbsp;&nbsp;</span>Comprehension Question:</a></span><ul class=\"toc-item\"><li><span><a href=\"#Unique\" data-toc-modified-id=\"Unique-1.9.1\"><span class=\"toc-item-num\">1.9.1&nbsp;&nbsp;</span>Unique</a></span></li></ul></li><li><span><a href=\"#Selecting-rows-and-columns\" data-toc-modified-id=\"Selecting-rows-and-columns-1.10\"><span class=\"toc-item-num\">1.10&nbsp;&nbsp;</span>Selecting rows and columns</a></span><ul class=\"toc-item\"><li><span><a href=\"#.loc\" data-toc-modified-id=\".loc-1.10.1\"><span class=\"toc-item-num\">1.10.1&nbsp;&nbsp;</span>.loc</a></span></li><li><span><a href=\"#.iloc\" data-toc-modified-id=\".iloc-1.10.2\"><span class=\"toc-item-num\">1.10.2&nbsp;&nbsp;</span>.iloc</a></span></li></ul></li><li><span><a href=\"#Question:\" data-toc-modified-id=\"Question:-1.11\"><span class=\"toc-item-num\">1.11&nbsp;&nbsp;</span>Question:</a></span></li><li><span><a href=\"#Filtering\" data-toc-modified-id=\"Filtering-1.12\"><span class=\"toc-item-num\">1.12&nbsp;&nbsp;</span>Filtering</a></span></li><li><span><a href=\"#Now-Filter-on-Sex\" data-toc-modified-id=\"Now-Filter-on-Sex-1.13\"><span class=\"toc-item-num\">1.13&nbsp;&nbsp;</span>Now Filter on Sex</a></span></li><li><span><a href=\"#Now-Filter-on-Gender-and-Age-between-30-and-40\" data-toc-modified-id=\"Now-Filter-on-Gender-and-Age-between-30-and-40-1.14\"><span class=\"toc-item-num\">1.14&nbsp;&nbsp;</span>Now Filter on Gender and Age between 30 and 40</a></span></li><li><span><a href=\"#Find-Nulls\" data-toc-modified-id=\"Find-Nulls-1.15\"><span class=\"toc-item-num\">1.15&nbsp;&nbsp;</span>Find Nulls</a></span></li><li><span><a href=\"#Fill-nulls\" data-toc-modified-id=\"Fill-nulls-1.16\"><span class=\"toc-item-num\">1.16&nbsp;&nbsp;</span>Fill nulls</a></span></li><li><span><a href=\"#Drop-nulls\" data-toc-modified-id=\"Drop-nulls-1.17\"><span class=\"toc-item-num\">1.17&nbsp;&nbsp;</span>Drop nulls</a></span></li><li><span><a href=\"#Groupby\" data-toc-modified-id=\"Groupby-1.18\"><span class=\"toc-item-num\">1.18&nbsp;&nbsp;</span>Groupby</a></span></li><li><span><a href=\"#Sorting\" data-toc-modified-id=\"Sorting-1.19\"><span class=\"toc-item-num\">1.19&nbsp;&nbsp;</span>Sorting</a></span><ul class=\"toc-item\"><li><span><a href=\"#sort_index()-to-sort-by-index\" data-toc-modified-id=\"sort_index()-to-sort-by-index-1.19.1\"><span class=\"toc-item-num\">1.19.1&nbsp;&nbsp;</span>sort_index() to sort by index</a></span></li><li><span><a href=\"#sort_values()-to-sort-by-values\" data-toc-modified-id=\"sort_values()-to-sort-by-values-1.19.2\"><span class=\"toc-item-num\">1.19.2&nbsp;&nbsp;</span>sort_values() to sort by values</a></span></li></ul></li></ul></li></ul></div>"
   ]
  },
  {
   "cell_type": "code",
   "execution_count": 1,
   "metadata": {
    "ExecuteTime": {
     "end_time": "2020-04-14T18:28:10.190298Z",
     "start_time": "2020-04-14T18:28:10.183366Z"
    },
    "slideshow": {
     "slide_type": "skip"
    }
   },
   "outputs": [],
   "source": [
    "# Python 2 & 3 Compatibility\n",
    "from __future__ import print_function, division"
   ]
  },
  {
   "cell_type": "markdown",
   "metadata": {
    "slideshow": {
     "slide_type": "slide"
    }
   },
   "source": [
    "# Introduction to Pandas"
   ]
  },
  {
   "cell_type": "markdown",
   "metadata": {},
   "source": [
    "## From the Pandas documentation:\n",
    "\n",
    "Here are just a few of the things that pandas does well:\n",
    "\n",
    "- Easy handling of **missing data** (represented as NaN) in floating point as well as non-floating point data\n",
    "- Size mutability: columns can be **inserted and deleted** from DataFrame and higher dimensional objects\n",
    "- Automatic and explicit **data alignment**: objects can be explicitly aligned to a set of labels, or the user can simply ignore the labels and let Series, DataFrame, etc. automatically align the data for you in computations\n",
    "- Powerful, flexible **group by** functionality to perform split-apply-combine operations on data sets, for both aggregating and transforming data\n",
    "- Make it **easy to convert** ragged, differently-indexed data in other Python and NumPy data structures into DataFrame objects\n",
    "- Intelligent **label-based slicing**, **fancy indexing**, and **subsetting** of large data sets\n",
    "- Intuitive **merging** and **joining** data sets\n",
    "- Flexible **reshaping** and **pivoting** of data sets\n",
    "- **Hierarchical labeling** of axes (possible to have multiple labels per tick)\n",
    "- **Robust IO tools** for loading data from flat files (CSV and delimited), Excel files, databases, and saving / loading data from the ultrafast HDF5 format\n",
    "- **Time series**-specific functionality: date range generation and frequency conversion, moving window statistics, moving window linear regressions, date shifting and lagging, etc."
   ]
  },
  {
   "cell_type": "markdown",
   "metadata": {
    "slideshow": {
     "slide_type": "slide"
    }
   },
   "source": [
    "### 10 Minutes Intro to Pandas ###\n",
    "http://pandas.pydata.org/pandas-docs/stable/10min.html"
   ]
  },
  {
   "cell_type": "markdown",
   "metadata": {
    "slideshow": {
     "slide_type": "slide"
    }
   },
   "source": [
    "## Set up Pandas default params"
   ]
  },
  {
   "cell_type": "code",
   "execution_count": 2,
   "metadata": {
    "ExecuteTime": {
     "end_time": "2020-04-14T18:28:11.404103Z",
     "start_time": "2020-04-14T18:28:10.207257Z"
    },
    "slideshow": {
     "slide_type": "fragment"
    }
   },
   "outputs": [],
   "source": [
    "# imports a library 'pandas', names it as 'pd'\n",
    "import pandas as pd\n",
    "import numpy as np\n",
    "import matplotlib.pyplot as plt\n",
    "\n",
    "from IPython.display import Image\n",
    "\n",
    "# enables inline plots, without it plots don't show up in the notebook\n",
    "%matplotlib inline"
   ]
  },
  {
   "cell_type": "code",
   "execution_count": 3,
   "metadata": {
    "ExecuteTime": {
     "end_time": "2020-04-14T18:28:11.411024Z",
     "start_time": "2020-04-14T18:28:11.406039Z"
    },
    "slideshow": {
     "slide_type": "fragment"
    }
   },
   "outputs": [
    {
     "name": "stdout",
     "output_type": "stream",
     "text": [
      "Pandas version: 1.0.3\n",
      "Numpy version: 1.18.1\n"
     ]
    }
   ],
   "source": [
    "print(\"Pandas version:\",pd.__version__)\n",
    "print(\"Numpy version:\",np.__version__)"
   ]
  },
  {
   "cell_type": "code",
   "execution_count": 4,
   "metadata": {
    "ExecuteTime": {
     "end_time": "2020-04-14T18:28:11.419004Z",
     "start_time": "2020-04-14T18:28:11.414018Z"
    },
    "slideshow": {
     "slide_type": "fragment"
    }
   },
   "outputs": [],
   "source": [
    "# various options in pandas\n",
    "pd.set_option('display.max_columns', None)\n",
    "pd.set_option('display.max_rows', 25)\n",
    "pd.set_option('display.precision', 3)"
   ]
  },
  {
   "cell_type": "markdown",
   "metadata": {
    "slideshow": {
     "slide_type": "slide"
    }
   },
   "source": [
    "## Data structures"
   ]
  },
  {
   "cell_type": "markdown",
   "metadata": {
    "slideshow": {
     "slide_type": "fragment"
    }
   },
   "source": [
    "### 1. Series\n",
    "\n",
    "One Dimensional Array / Vector of Values (Think these as your data columns).  One important aspect of them is that they carry an \"index\" (which you can think of as a row indicator)."
   ]
  },
  {
   "cell_type": "markdown",
   "metadata": {
    "slideshow": {
     "slide_type": "fragment"
    }
   },
   "source": [
    "### 2. Dataframes\n",
    "\n",
    "Think of DataFrame as a Table with Columns.  This is the workhorse of everything you will do with data analysis.  Learning Pandas and its functions can be challenging, but stick with it and ask questions.  Structurally, a DataFrame can be thought of as a collection of Series objects with the same index."
   ]
  },
  {
   "cell_type": "markdown",
   "metadata": {
    "slideshow": {
     "slide_type": "fragment"
    }
   },
   "source": [
    "### 3. [Panel Data](http://pandas.pydata.org/pandas-docs/stable/generated/pandas.Panel.html)\n",
    "\n",
    "Three Dimensional Arrays  (Mentioned for reference, but we will not get much into these)"
   ]
  },
  {
   "cell_type": "markdown",
   "metadata": {
    "slideshow": {
     "slide_type": "slide"
    }
   },
   "source": [
    "## So, what is a Pandas Dataframe"
   ]
  },
  {
   "cell_type": "code",
   "execution_count": 5,
   "metadata": {
    "ExecuteTime": {
     "end_time": "2020-04-14T18:28:11.485823Z",
     "start_time": "2020-04-14T18:28:11.420998Z"
    },
    "slideshow": {
     "slide_type": "fragment"
    }
   },
   "outputs": [],
   "source": [
    "pd.Series?"
   ]
  },
  {
   "cell_type": "code",
   "execution_count": 6,
   "metadata": {
    "ExecuteTime": {
     "end_time": "2020-04-14T18:28:11.495797Z",
     "start_time": "2020-04-14T18:28:11.486822Z"
    },
    "slideshow": {
     "slide_type": "fragment"
    }
   },
   "outputs": [
    {
     "data": {
      "text/plain": [
       "0    1.0\n",
       "1    3.0\n",
       "2    5.0\n",
       "3    NaN\n",
       "4    6.0\n",
       "5    8.0\n",
       "dtype: float64"
      ]
     },
     "execution_count": 6,
     "metadata": {},
     "output_type": "execute_result"
    }
   ],
   "source": [
    "## Make a Series\n",
    "s = pd.Series([1,3,5,np.nan,6,8])\n",
    "\n",
    "s"
   ]
  },
  {
   "cell_type": "code",
   "execution_count": 7,
   "metadata": {
    "ExecuteTime": {
     "end_time": "2020-04-14T18:28:11.507765Z",
     "start_time": "2020-04-14T18:28:11.497791Z"
    },
    "slideshow": {
     "slide_type": "subslide"
    }
   },
   "outputs": [],
   "source": [
    "pd.DataFrame?"
   ]
  },
  {
   "cell_type": "code",
   "execution_count": 8,
   "metadata": {
    "ExecuteTime": {
     "end_time": "2020-04-14T18:28:11.526714Z",
     "start_time": "2020-04-14T18:28:11.509760Z"
    },
    "slideshow": {
     "slide_type": "fragment"
    }
   },
   "outputs": [
    {
     "data": {
      "text/html": [
       "<div>\n",
       "<style scoped>\n",
       "    .dataframe tbody tr th:only-of-type {\n",
       "        vertical-align: middle;\n",
       "    }\n",
       "\n",
       "    .dataframe tbody tr th {\n",
       "        vertical-align: top;\n",
       "    }\n",
       "\n",
       "    .dataframe thead th {\n",
       "        text-align: right;\n",
       "    }\n",
       "</style>\n",
       "<table border=\"1\" class=\"dataframe\">\n",
       "  <thead>\n",
       "    <tr style=\"text-align: right;\">\n",
       "      <th></th>\n",
       "      <th>A</th>\n",
       "      <th>B</th>\n",
       "      <th>C</th>\n",
       "      <th>D</th>\n",
       "    </tr>\n",
       "  </thead>\n",
       "  <tbody>\n",
       "    <tr>\n",
       "      <th>0</th>\n",
       "      <td>-0.205</td>\n",
       "      <td>0.817</td>\n",
       "      <td>0.834</td>\n",
       "      <td>-0.985</td>\n",
       "    </tr>\n",
       "    <tr>\n",
       "      <th>1</th>\n",
       "      <td>-0.466</td>\n",
       "      <td>0.029</td>\n",
       "      <td>0.164</td>\n",
       "      <td>-0.845</td>\n",
       "    </tr>\n",
       "    <tr>\n",
       "      <th>2</th>\n",
       "      <td>0.481</td>\n",
       "      <td>0.316</td>\n",
       "      <td>1.186</td>\n",
       "      <td>-0.735</td>\n",
       "    </tr>\n",
       "    <tr>\n",
       "      <th>3</th>\n",
       "      <td>-0.244</td>\n",
       "      <td>-0.295</td>\n",
       "      <td>2.297</td>\n",
       "      <td>-0.381</td>\n",
       "    </tr>\n",
       "    <tr>\n",
       "      <th>4</th>\n",
       "      <td>0.013</td>\n",
       "      <td>2.512</td>\n",
       "      <td>1.847</td>\n",
       "      <td>1.083</td>\n",
       "    </tr>\n",
       "    <tr>\n",
       "      <th>5</th>\n",
       "      <td>1.612</td>\n",
       "      <td>-0.215</td>\n",
       "      <td>-0.289</td>\n",
       "      <td>0.660</td>\n",
       "    </tr>\n",
       "  </tbody>\n",
       "</table>\n",
       "</div>"
      ],
      "text/plain": [
       "       A      B      C      D\n",
       "0 -0.205  0.817  0.834 -0.985\n",
       "1 -0.466  0.029  0.164 -0.845\n",
       "2  0.481  0.316  1.186 -0.735\n",
       "3 -0.244 -0.295  2.297 -0.381\n",
       "4  0.013  2.512  1.847  1.083\n",
       "5  1.612 -0.215 -0.289  0.660"
      ]
     },
     "execution_count": 8,
     "metadata": {},
     "output_type": "execute_result"
    }
   ],
   "source": [
    "## Make a dataframe from a numpy array\n",
    "df1 = pd.DataFrame(np.random.randn(6,4), columns=list('ABCD')) \n",
    "df1"
   ]
  },
  {
   "cell_type": "code",
   "execution_count": 9,
   "metadata": {
    "ExecuteTime": {
     "end_time": "2020-04-14T18:28:11.560624Z",
     "start_time": "2020-04-14T18:28:11.529707Z"
    },
    "slideshow": {
     "slide_type": "subslide"
    }
   },
   "outputs": [
    {
     "data": {
      "text/html": [
       "<div>\n",
       "<style scoped>\n",
       "    .dataframe tbody tr th:only-of-type {\n",
       "        vertical-align: middle;\n",
       "    }\n",
       "\n",
       "    .dataframe tbody tr th {\n",
       "        vertical-align: top;\n",
       "    }\n",
       "\n",
       "    .dataframe thead th {\n",
       "        text-align: right;\n",
       "    }\n",
       "</style>\n",
       "<table border=\"1\" class=\"dataframe\">\n",
       "  <thead>\n",
       "    <tr style=\"text-align: right;\">\n",
       "      <th></th>\n",
       "      <th>A</th>\n",
       "      <th>B</th>\n",
       "      <th>C</th>\n",
       "      <th>D</th>\n",
       "      <th>E</th>\n",
       "      <th>F</th>\n",
       "    </tr>\n",
       "  </thead>\n",
       "  <tbody>\n",
       "    <tr>\n",
       "      <th>0</th>\n",
       "      <td>1.0</td>\n",
       "      <td>2013-01-02</td>\n",
       "      <td>1.0</td>\n",
       "      <td>3</td>\n",
       "      <td>test</td>\n",
       "      <td>foo</td>\n",
       "    </tr>\n",
       "    <tr>\n",
       "      <th>1</th>\n",
       "      <td>1.0</td>\n",
       "      <td>2013-01-02</td>\n",
       "      <td>1.0</td>\n",
       "      <td>3</td>\n",
       "      <td>train</td>\n",
       "      <td>foo</td>\n",
       "    </tr>\n",
       "    <tr>\n",
       "      <th>2</th>\n",
       "      <td>1.0</td>\n",
       "      <td>2013-01-02</td>\n",
       "      <td>1.0</td>\n",
       "      <td>3</td>\n",
       "      <td>test</td>\n",
       "      <td>foo</td>\n",
       "    </tr>\n",
       "    <tr>\n",
       "      <th>3</th>\n",
       "      <td>1.0</td>\n",
       "      <td>2013-01-02</td>\n",
       "      <td>1.0</td>\n",
       "      <td>3</td>\n",
       "      <td>train</td>\n",
       "      <td>foo</td>\n",
       "    </tr>\n",
       "  </tbody>\n",
       "</table>\n",
       "</div>"
      ],
      "text/plain": [
       "     A          B    C  D      E    F\n",
       "0  1.0 2013-01-02  1.0  3   test  foo\n",
       "1  1.0 2013-01-02  1.0  3  train  foo\n",
       "2  1.0 2013-01-02  1.0  3   test  foo\n",
       "3  1.0 2013-01-02  1.0  3  train  foo"
      ]
     },
     "execution_count": 9,
     "metadata": {},
     "output_type": "execute_result"
    }
   ],
   "source": [
    "## Make a dataframe from a dictionary\n",
    "df2 = pd.DataFrame({ 'A' : 1., \\\n",
    "                    'B' : pd.Timestamp('20130102'), \\\n",
    "                    'C' : pd.Series(1,index=list(range(4)),dtype='float32'), \\\n",
    "                    'D' : np.array([3] * 4,dtype='int32'), \\\n",
    "                    'E' : pd.Categorical([\"test\",\"train\",\"test\",\"train\"]), \\\n",
    "                    'F' : 'foo' })\n",
    "df2"
   ]
  },
  {
   "cell_type": "markdown",
   "metadata": {
    "slideshow": {
     "slide_type": "slide"
    }
   },
   "source": [
    "## Load a data set -- read_*"
   ]
  },
  {
   "cell_type": "markdown",
   "metadata": {
    "slideshow": {
     "slide_type": "fragment"
    }
   },
   "source": [
    "### \"Census Income\" dataset\n",
    "\n",
    "http://archive.ics.uci.edu/ml/  \n",
    "pandas can load a lot more than csvs, this tutorial shows how pandas can read excel, sql, and even copy and paste...\n",
    "http://www.gregreda.com/2013/10/26/intro-to-pandas-data-structures/"
   ]
  },
  {
   "cell_type": "code",
   "execution_count": 10,
   "metadata": {
    "ExecuteTime": {
     "end_time": "2020-04-14T18:28:13.370992Z",
     "start_time": "2020-04-14T18:28:11.563616Z"
    },
    "slideshow": {
     "slide_type": "subslide"
    }
   },
   "outputs": [],
   "source": [
    "# download the data and name the columns\n",
    "cols = ['age', 'workclass', 'fnlwgt', 'education', 'education_num',\n",
    "        'marital_status', 'occupation', 'relationship', 'ethnicity',\n",
    "        'gender', 'capital_gain', 'capital_loss', 'hours_per_week',\n",
    "        'country_of_origin', 'income']\n",
    "\n",
    "df = pd.read_csv('http://archive.ics.uci.edu/ml/machine-learning-databases/adult/adult.data',\n",
    "                       names = cols)"
   ]
  },
  {
   "cell_type": "markdown",
   "metadata": {
    "slideshow": {
     "slide_type": "fragment"
    }
   },
   "source": [
    "### Q: What's happening in the above cell?"
   ]
  },
  {
   "cell_type": "code",
   "execution_count": 11,
   "metadata": {
    "ExecuteTime": {
     "end_time": "2020-04-14T18:28:13.664641Z",
     "start_time": "2020-04-14T18:28:13.372774Z"
    }
   },
   "outputs": [],
   "source": [
    "# can easily read in excel files, don't need to specify column names because they're\n",
    "# already given in the Dataset sheet\n",
    "inova_df = pd.read_excel('./../datasets/Randomized_Data_Science_Training_Data_Apr13_2020.xlsx',\n",
    "                   sheet_name='Dataset')"
   ]
  },
  {
   "cell_type": "markdown",
   "metadata": {
    "slideshow": {
     "slide_type": "slide"
    }
   },
   "source": [
    "## Viewing Data\n",
    "\n",
    "* .info() \n",
    "* .head()\n",
    "* .tail()\n",
    "* .columns\n",
    "* .values\n",
    "* .dtype"
   ]
  },
  {
   "cell_type": "markdown",
   "metadata": {
    "slideshow": {
     "slide_type": "subslide"
    }
   },
   "source": [
    "### info\n",
    "\n",
    "Displays the Columns, Types, Rows and the memory used by the dataframe"
   ]
  },
  {
   "cell_type": "code",
   "execution_count": 12,
   "metadata": {
    "ExecuteTime": {
     "end_time": "2020-04-14T18:28:13.685581Z",
     "start_time": "2020-04-14T18:28:13.666627Z"
    },
    "slideshow": {
     "slide_type": "fragment"
    }
   },
   "outputs": [
    {
     "name": "stdout",
     "output_type": "stream",
     "text": [
      "<class 'pandas.core.frame.DataFrame'>\n",
      "RangeIndex: 347 entries, 0 to 346\n",
      "Data columns (total 11 columns):\n",
      " #   Column               Non-Null Count  Dtype         \n",
      "---  ------               --------------  -----         \n",
      " 0   Random_Age           347 non-null    int64         \n",
      " 1   Sex                  347 non-null    object        \n",
      " 2   Date_of_last_visit   347 non-null    datetime64[ns]\n",
      " 3   Random_CCP2          301 non-null    float64       \n",
      " 4   Random_CCP3          314 non-null    float64       \n",
      " 5   Random_RF            290 non-null    float64       \n",
      " 6   Tenderness_in_hands  347 non-null    object        \n",
      " 7   EMS                  336 non-null    object        \n",
      " 8   Smoking_status       340 non-null    object        \n",
      " 9   Score                346 non-null    float64       \n",
      " 10  Diagnosis            347 non-null    object        \n",
      "dtypes: datetime64[ns](1), float64(4), int64(1), object(5)\n",
      "memory usage: 29.9+ KB\n"
     ]
    }
   ],
   "source": [
    "# we can see there are no null values\n",
    "# columns with numerical values are type int64, no need to set data type\n",
    "\n",
    "inova_df.info()"
   ]
  },
  {
   "cell_type": "markdown",
   "metadata": {
    "slideshow": {
     "slide_type": "subslide"
    }
   },
   "source": [
    "### Head\n",
    "\n",
    "Displays the first few rows in the dataframe"
   ]
  },
  {
   "cell_type": "code",
   "execution_count": 13,
   "metadata": {
    "ExecuteTime": {
     "end_time": "2020-04-14T18:28:13.730456Z",
     "start_time": "2020-04-14T18:28:13.694554Z"
    },
    "slideshow": {
     "slide_type": "subslide"
    }
   },
   "outputs": [
    {
     "data": {
      "text/html": [
       "<div>\n",
       "<style scoped>\n",
       "    .dataframe tbody tr th:only-of-type {\n",
       "        vertical-align: middle;\n",
       "    }\n",
       "\n",
       "    .dataframe tbody tr th {\n",
       "        vertical-align: top;\n",
       "    }\n",
       "\n",
       "    .dataframe thead th {\n",
       "        text-align: right;\n",
       "    }\n",
       "</style>\n",
       "<table border=\"1\" class=\"dataframe\">\n",
       "  <thead>\n",
       "    <tr style=\"text-align: right;\">\n",
       "      <th></th>\n",
       "      <th>Random_Age</th>\n",
       "      <th>Sex</th>\n",
       "      <th>Date_of_last_visit</th>\n",
       "      <th>Random_CCP2</th>\n",
       "      <th>Random_CCP3</th>\n",
       "      <th>Random_RF</th>\n",
       "      <th>Tenderness_in_hands</th>\n",
       "      <th>EMS</th>\n",
       "      <th>Smoking_status</th>\n",
       "      <th>Score</th>\n",
       "      <th>Diagnosis</th>\n",
       "    </tr>\n",
       "  </thead>\n",
       "  <tbody>\n",
       "    <tr>\n",
       "      <th>0</th>\n",
       "      <td>30</td>\n",
       "      <td>F</td>\n",
       "      <td>2018-10-15</td>\n",
       "      <td>62.08</td>\n",
       "      <td>25.10</td>\n",
       "      <td>NaN</td>\n",
       "      <td>no</td>\n",
       "      <td>0</td>\n",
       "      <td>previous</td>\n",
       "      <td>33150.2</td>\n",
       "      <td>ongoing</td>\n",
       "    </tr>\n",
       "    <tr>\n",
       "      <th>1</th>\n",
       "      <td>41</td>\n",
       "      <td>M</td>\n",
       "      <td>2019-01-21</td>\n",
       "      <td>106.98</td>\n",
       "      <td>78.93</td>\n",
       "      <td>108.04</td>\n",
       "      <td>no</td>\n",
       "      <td>0</td>\n",
       "      <td>current</td>\n",
       "      <td>52932.0</td>\n",
       "      <td>ongoing</td>\n",
       "    </tr>\n",
       "    <tr>\n",
       "      <th>2</th>\n",
       "      <td>26</td>\n",
       "      <td>M</td>\n",
       "      <td>2017-11-20</td>\n",
       "      <td>85.59</td>\n",
       "      <td>95.93</td>\n",
       "      <td>110.68</td>\n",
       "      <td>yes</td>\n",
       "      <td>0</td>\n",
       "      <td>never</td>\n",
       "      <td>55.5</td>\n",
       "      <td>ongoing</td>\n",
       "    </tr>\n",
       "    <tr>\n",
       "      <th>3</th>\n",
       "      <td>19</td>\n",
       "      <td>F</td>\n",
       "      <td>2008-10-20</td>\n",
       "      <td>176.08</td>\n",
       "      <td>18.63</td>\n",
       "      <td>269.92</td>\n",
       "      <td>no</td>\n",
       "      <td>0</td>\n",
       "      <td>never</td>\n",
       "      <td>60.0</td>\n",
       "      <td>ongoing</td>\n",
       "    </tr>\n",
       "    <tr>\n",
       "      <th>4</th>\n",
       "      <td>19</td>\n",
       "      <td>F</td>\n",
       "      <td>2018-07-16</td>\n",
       "      <td>10.80</td>\n",
       "      <td>49.81</td>\n",
       "      <td>62.55</td>\n",
       "      <td>yes</td>\n",
       "      <td>15</td>\n",
       "      <td>previous</td>\n",
       "      <td>8020.0</td>\n",
       "      <td>ongoing</td>\n",
       "    </tr>\n",
       "    <tr>\n",
       "      <th>5</th>\n",
       "      <td>27</td>\n",
       "      <td>F</td>\n",
       "      <td>2017-10-30</td>\n",
       "      <td>64.26</td>\n",
       "      <td>NaN</td>\n",
       "      <td>41.42</td>\n",
       "      <td>yes</td>\n",
       "      <td>0</td>\n",
       "      <td>never</td>\n",
       "      <td>28950.7</td>\n",
       "      <td>ongoing</td>\n",
       "    </tr>\n",
       "    <tr>\n",
       "      <th>6</th>\n",
       "      <td>19</td>\n",
       "      <td>F</td>\n",
       "      <td>2019-02-07</td>\n",
       "      <td>19.32</td>\n",
       "      <td>NaN</td>\n",
       "      <td>NaN</td>\n",
       "      <td>no</td>\n",
       "      <td>5</td>\n",
       "      <td>current</td>\n",
       "      <td>1551.0</td>\n",
       "      <td>RA</td>\n",
       "    </tr>\n",
       "    <tr>\n",
       "      <th>7</th>\n",
       "      <td>29</td>\n",
       "      <td>F</td>\n",
       "      <td>2016-02-22</td>\n",
       "      <td>88.16</td>\n",
       "      <td>107.06</td>\n",
       "      <td>84.49</td>\n",
       "      <td>yes</td>\n",
       "      <td>0</td>\n",
       "      <td>never</td>\n",
       "      <td>55.5</td>\n",
       "      <td>ongoing</td>\n",
       "    </tr>\n",
       "    <tr>\n",
       "      <th>8</th>\n",
       "      <td>49</td>\n",
       "      <td>F</td>\n",
       "      <td>2018-12-12</td>\n",
       "      <td>8.46</td>\n",
       "      <td>126.64</td>\n",
       "      <td>167.37</td>\n",
       "      <td>no</td>\n",
       "      <td>0</td>\n",
       "      <td>never</td>\n",
       "      <td>70.5</td>\n",
       "      <td>ongoing</td>\n",
       "    </tr>\n",
       "    <tr>\n",
       "      <th>9</th>\n",
       "      <td>49</td>\n",
       "      <td>F</td>\n",
       "      <td>2018-09-24</td>\n",
       "      <td>48.21</td>\n",
       "      <td>38.56</td>\n",
       "      <td>55.79</td>\n",
       "      <td>yes</td>\n",
       "      <td>15</td>\n",
       "      <td>previous</td>\n",
       "      <td>118.8</td>\n",
       "      <td>ongoing</td>\n",
       "    </tr>\n",
       "  </tbody>\n",
       "</table>\n",
       "</div>"
      ],
      "text/plain": [
       "   Random_Age Sex Date_of_last_visit  Random_CCP2  Random_CCP3  Random_RF  \\\n",
       "0          30   F         2018-10-15        62.08        25.10        NaN   \n",
       "1          41   M         2019-01-21       106.98        78.93     108.04   \n",
       "2          26   M         2017-11-20        85.59        95.93     110.68   \n",
       "3          19   F         2008-10-20       176.08        18.63     269.92   \n",
       "4          19   F         2018-07-16        10.80        49.81      62.55   \n",
       "5          27   F         2017-10-30        64.26          NaN      41.42   \n",
       "6          19   F         2019-02-07        19.32          NaN        NaN   \n",
       "7          29   F         2016-02-22        88.16       107.06      84.49   \n",
       "8          49   F         2018-12-12         8.46       126.64     167.37   \n",
       "9          49   F         2018-09-24        48.21        38.56      55.79   \n",
       "\n",
       "  Tenderness_in_hands EMS Smoking_status    Score Diagnosis  \n",
       "0                  no   0       previous  33150.2   ongoing  \n",
       "1                  no   0        current  52932.0   ongoing  \n",
       "2                 yes   0          never     55.5   ongoing  \n",
       "3                  no   0          never     60.0   ongoing  \n",
       "4                 yes  15       previous   8020.0   ongoing  \n",
       "5                 yes   0          never  28950.7   ongoing  \n",
       "6                  no   5        current   1551.0        RA  \n",
       "7                 yes   0          never     55.5   ongoing  \n",
       "8                  no   0          never     70.5   ongoing  \n",
       "9                 yes  15       previous    118.8   ongoing  "
      ]
     },
     "execution_count": 13,
     "metadata": {},
     "output_type": "execute_result"
    }
   ],
   "source": [
    "# to view the first 5 or specify with ex: .head(10)\n",
    "inova_df.head(10)"
   ]
  },
  {
   "cell_type": "markdown",
   "metadata": {
    "slideshow": {
     "slide_type": "subslide"
    }
   },
   "source": [
    "### Tail\n",
    "\n",
    "Displays the last few rows in the dataframe"
   ]
  },
  {
   "cell_type": "code",
   "execution_count": 14,
   "metadata": {
    "ExecuteTime": {
     "end_time": "2020-04-14T18:28:13.772355Z",
     "start_time": "2020-04-14T18:28:13.736440Z"
    },
    "slideshow": {
     "slide_type": "fragment"
    }
   },
   "outputs": [
    {
     "data": {
      "text/html": [
       "<div>\n",
       "<style scoped>\n",
       "    .dataframe tbody tr th:only-of-type {\n",
       "        vertical-align: middle;\n",
       "    }\n",
       "\n",
       "    .dataframe tbody tr th {\n",
       "        vertical-align: top;\n",
       "    }\n",
       "\n",
       "    .dataframe thead th {\n",
       "        text-align: right;\n",
       "    }\n",
       "</style>\n",
       "<table border=\"1\" class=\"dataframe\">\n",
       "  <thead>\n",
       "    <tr style=\"text-align: right;\">\n",
       "      <th></th>\n",
       "      <th>Random_Age</th>\n",
       "      <th>Sex</th>\n",
       "      <th>Date_of_last_visit</th>\n",
       "      <th>Random_CCP2</th>\n",
       "      <th>Random_CCP3</th>\n",
       "      <th>Random_RF</th>\n",
       "      <th>Tenderness_in_hands</th>\n",
       "      <th>EMS</th>\n",
       "      <th>Smoking_status</th>\n",
       "      <th>Score</th>\n",
       "      <th>Diagnosis</th>\n",
       "    </tr>\n",
       "  </thead>\n",
       "  <tbody>\n",
       "    <tr>\n",
       "      <th>342</th>\n",
       "      <td>65</td>\n",
       "      <td>F</td>\n",
       "      <td>2016-02-08</td>\n",
       "      <td>NaN</td>\n",
       "      <td>68.28</td>\n",
       "      <td>NaN</td>\n",
       "      <td>yes</td>\n",
       "      <td>5</td>\n",
       "      <td>never</td>\n",
       "      <td>72.0</td>\n",
       "      <td>ongoing</td>\n",
       "    </tr>\n",
       "    <tr>\n",
       "      <th>343</th>\n",
       "      <td>57</td>\n",
       "      <td>M</td>\n",
       "      <td>2019-02-07</td>\n",
       "      <td>65.71</td>\n",
       "      <td>19.64</td>\n",
       "      <td>86.21</td>\n",
       "      <td>yes</td>\n",
       "      <td>10</td>\n",
       "      <td>current</td>\n",
       "      <td>5286.0</td>\n",
       "      <td>ongoing</td>\n",
       "    </tr>\n",
       "    <tr>\n",
       "      <th>344</th>\n",
       "      <td>43</td>\n",
       "      <td>F</td>\n",
       "      <td>2019-02-25</td>\n",
       "      <td>60.52</td>\n",
       "      <td>59.83</td>\n",
       "      <td>74.61</td>\n",
       "      <td>yes</td>\n",
       "      <td>10</td>\n",
       "      <td>never</td>\n",
       "      <td>54.0</td>\n",
       "      <td>ongoing</td>\n",
       "    </tr>\n",
       "    <tr>\n",
       "      <th>345</th>\n",
       "      <td>66</td>\n",
       "      <td>F</td>\n",
       "      <td>2010-05-27</td>\n",
       "      <td>109.38</td>\n",
       "      <td>17.62</td>\n",
       "      <td>95.93</td>\n",
       "      <td>yes</td>\n",
       "      <td>60</td>\n",
       "      <td>never</td>\n",
       "      <td>143384.6</td>\n",
       "      <td>ongoing</td>\n",
       "    </tr>\n",
       "    <tr>\n",
       "      <th>346</th>\n",
       "      <td>32</td>\n",
       "      <td>F</td>\n",
       "      <td>2018-08-13</td>\n",
       "      <td>58.92</td>\n",
       "      <td>106.21</td>\n",
       "      <td>198.57</td>\n",
       "      <td>yes</td>\n",
       "      <td>0</td>\n",
       "      <td>previous</td>\n",
       "      <td>143784.0</td>\n",
       "      <td>ongoing</td>\n",
       "    </tr>\n",
       "  </tbody>\n",
       "</table>\n",
       "</div>"
      ],
      "text/plain": [
       "     Random_Age Sex Date_of_last_visit  Random_CCP2  Random_CCP3  Random_RF  \\\n",
       "342          65   F         2016-02-08          NaN        68.28        NaN   \n",
       "343          57   M         2019-02-07        65.71        19.64      86.21   \n",
       "344          43   F         2019-02-25        60.52        59.83      74.61   \n",
       "345          66   F         2010-05-27       109.38        17.62      95.93   \n",
       "346          32   F         2018-08-13        58.92       106.21     198.57   \n",
       "\n",
       "    Tenderness_in_hands EMS Smoking_status     Score Diagnosis  \n",
       "342                 yes   5          never      72.0   ongoing  \n",
       "343                 yes  10        current    5286.0   ongoing  \n",
       "344                 yes  10          never      54.0   ongoing  \n",
       "345                 yes  60          never  143384.6   ongoing  \n",
       "346                 yes   0       previous  143784.0   ongoing  "
      ]
     },
     "execution_count": 14,
     "metadata": {},
     "output_type": "execute_result"
    }
   ],
   "source": [
    "inova_df.tail()"
   ]
  },
  {
   "cell_type": "code",
   "execution_count": null,
   "metadata": {},
   "outputs": [],
   "source": [
    "# YOUR TURN\n",
    "# display the last 10 rows of the inova_df DataFrame\n",
    "\n"
   ]
  },
  {
   "cell_type": "markdown",
   "metadata": {
    "slideshow": {
     "slide_type": "slide"
    }
   },
   "source": [
    "### Sample\n",
    "\n",
    "Displays a Sample of rows in the dataframe"
   ]
  },
  {
   "cell_type": "code",
   "execution_count": 15,
   "metadata": {
    "ExecuteTime": {
     "end_time": "2020-04-14T18:28:13.809257Z",
     "start_time": "2020-04-14T18:28:13.779332Z"
    },
    "slideshow": {
     "slide_type": "fragment"
    }
   },
   "outputs": [
    {
     "data": {
      "text/html": [
       "<div>\n",
       "<style scoped>\n",
       "    .dataframe tbody tr th:only-of-type {\n",
       "        vertical-align: middle;\n",
       "    }\n",
       "\n",
       "    .dataframe tbody tr th {\n",
       "        vertical-align: top;\n",
       "    }\n",
       "\n",
       "    .dataframe thead th {\n",
       "        text-align: right;\n",
       "    }\n",
       "</style>\n",
       "<table border=\"1\" class=\"dataframe\">\n",
       "  <thead>\n",
       "    <tr style=\"text-align: right;\">\n",
       "      <th></th>\n",
       "      <th>Random_Age</th>\n",
       "      <th>Sex</th>\n",
       "      <th>Date_of_last_visit</th>\n",
       "      <th>Random_CCP2</th>\n",
       "      <th>Random_CCP3</th>\n",
       "      <th>Random_RF</th>\n",
       "      <th>Tenderness_in_hands</th>\n",
       "      <th>EMS</th>\n",
       "      <th>Smoking_status</th>\n",
       "      <th>Score</th>\n",
       "      <th>Diagnosis</th>\n",
       "    </tr>\n",
       "  </thead>\n",
       "  <tbody>\n",
       "    <tr>\n",
       "      <th>322</th>\n",
       "      <td>23</td>\n",
       "      <td>F</td>\n",
       "      <td>2018-02-26</td>\n",
       "      <td>22.12</td>\n",
       "      <td>160.15</td>\n",
       "      <td>78.61</td>\n",
       "      <td>no</td>\n",
       "      <td>30</td>\n",
       "      <td>never</td>\n",
       "      <td>2416.5</td>\n",
       "      <td>ongoing</td>\n",
       "    </tr>\n",
       "    <tr>\n",
       "      <th>114</th>\n",
       "      <td>70</td>\n",
       "      <td>M</td>\n",
       "      <td>2015-12-14</td>\n",
       "      <td>130.44</td>\n",
       "      <td>26.09</td>\n",
       "      <td>75.11</td>\n",
       "      <td>no</td>\n",
       "      <td>30</td>\n",
       "      <td>never</td>\n",
       "      <td>43.0</td>\n",
       "      <td>ongoing</td>\n",
       "    </tr>\n",
       "    <tr>\n",
       "      <th>325</th>\n",
       "      <td>32</td>\n",
       "      <td>F</td>\n",
       "      <td>2017-11-06</td>\n",
       "      <td>NaN</td>\n",
       "      <td>29.34</td>\n",
       "      <td>199.68</td>\n",
       "      <td>no</td>\n",
       "      <td>30</td>\n",
       "      <td>current</td>\n",
       "      <td>9990.4</td>\n",
       "      <td>ongoing</td>\n",
       "    </tr>\n",
       "    <tr>\n",
       "      <th>267</th>\n",
       "      <td>64</td>\n",
       "      <td>M</td>\n",
       "      <td>2017-11-20</td>\n",
       "      <td>64.26</td>\n",
       "      <td>29.50</td>\n",
       "      <td>118.56</td>\n",
       "      <td>yes</td>\n",
       "      <td>60</td>\n",
       "      <td>current</td>\n",
       "      <td>3640.0</td>\n",
       "      <td>ongoing</td>\n",
       "    </tr>\n",
       "    <tr>\n",
       "      <th>307</th>\n",
       "      <td>49</td>\n",
       "      <td>F</td>\n",
       "      <td>2012-02-13</td>\n",
       "      <td>62.61</td>\n",
       "      <td>37.79</td>\n",
       "      <td>52.51</td>\n",
       "      <td>no</td>\n",
       "      <td>0</td>\n",
       "      <td>previous</td>\n",
       "      <td>51.0</td>\n",
       "      <td>ongoing</td>\n",
       "    </tr>\n",
       "  </tbody>\n",
       "</table>\n",
       "</div>"
      ],
      "text/plain": [
       "     Random_Age Sex Date_of_last_visit  Random_CCP2  Random_CCP3  Random_RF  \\\n",
       "322          23   F         2018-02-26        22.12       160.15      78.61   \n",
       "114          70   M         2015-12-14       130.44        26.09      75.11   \n",
       "325          32   F         2017-11-06          NaN        29.34     199.68   \n",
       "267          64   M         2017-11-20        64.26        29.50     118.56   \n",
       "307          49   F         2012-02-13        62.61        37.79      52.51   \n",
       "\n",
       "    Tenderness_in_hands EMS Smoking_status   Score Diagnosis  \n",
       "322                  no  30          never  2416.5   ongoing  \n",
       "114                  no  30          never    43.0   ongoing  \n",
       "325                  no  30        current  9990.4   ongoing  \n",
       "267                 yes  60        current  3640.0   ongoing  \n",
       "307                  no   0       previous    51.0   ongoing  "
      ]
     },
     "execution_count": 15,
     "metadata": {},
     "output_type": "execute_result"
    }
   ],
   "source": [
    "# head and tail are good.  But sometimes we want to randomly sample data\n",
    "inova_df.sample(5, random_state=42) # random state makes this reproducible (shows the same sampled rows every time)"
   ]
  },
  {
   "cell_type": "markdown",
   "metadata": {
    "slideshow": {
     "slide_type": "subslide"
    }
   },
   "source": [
    "### Columns\n",
    "\n",
    "Returns a List of Columns in the dataframe"
   ]
  },
  {
   "cell_type": "code",
   "execution_count": 16,
   "metadata": {
    "ExecuteTime": {
     "end_time": "2020-04-14T18:28:13.820217Z",
     "start_time": "2020-04-14T18:28:13.814233Z"
    },
    "slideshow": {
     "slide_type": "fragment"
    }
   },
   "outputs": [
    {
     "data": {
      "text/plain": [
       "Index(['Random_Age', 'Sex', 'Date_of_last_visit', 'Random_CCP2', 'Random_CCP3',\n",
       "       'Random_RF', 'Tenderness_in_hands', 'EMS', 'Smoking_status', 'Score',\n",
       "       'Diagnosis'],\n",
       "      dtype='object')"
      ]
     },
     "execution_count": 16,
     "metadata": {},
     "output_type": "execute_result"
    }
   ],
   "source": [
    "# view all columns of the dataframe\n",
    "inova_df.columns"
   ]
  },
  {
   "cell_type": "markdown",
   "metadata": {
    "slideshow": {
     "slide_type": "subslide"
    }
   },
   "source": [
    "### Column Types\n",
    "\n",
    "Returns the type of each column"
   ]
  },
  {
   "cell_type": "code",
   "execution_count": 17,
   "metadata": {
    "ExecuteTime": {
     "end_time": "2020-04-14T18:28:13.836173Z",
     "start_time": "2020-04-14T18:28:13.826200Z"
    },
    "slideshow": {
     "slide_type": "fragment"
    }
   },
   "outputs": [
    {
     "data": {
      "text/plain": [
       "Random_Age                      int64\n",
       "Sex                            object\n",
       "Date_of_last_visit     datetime64[ns]\n",
       "Random_CCP2                   float64\n",
       "Random_CCP3                   float64\n",
       "Random_RF                     float64\n",
       "Tenderness_in_hands            object\n",
       "EMS                            object\n",
       "Smoking_status                 object\n",
       "Score                         float64\n",
       "Diagnosis                      object\n",
       "dtype: object"
      ]
     },
     "execution_count": 17,
     "metadata": {},
     "output_type": "execute_result"
    }
   ],
   "source": [
    "inova_df.dtypes"
   ]
  },
  {
   "cell_type": "markdown",
   "metadata": {
    "slideshow": {
     "slide_type": "slide"
    }
   },
   "source": [
    "## Rename columns"
   ]
  },
  {
   "cell_type": "code",
   "execution_count": 18,
   "metadata": {
    "ExecuteTime": {
     "end_time": "2020-04-14T18:28:13.847150Z",
     "start_time": "2020-04-14T18:28:13.840162Z"
    },
    "slideshow": {
     "slide_type": "fragment"
    }
   },
   "outputs": [
    {
     "data": {
      "text/plain": [
       "Index(['Random_Age', 'Sex', 'Date_of_last_visit', 'Random_CCP2', 'Random_CCP3',\n",
       "       'Random_RF', 'Tenderness_in_hands', 'EMS', 'Smoking_status', 'Score',\n",
       "       'Diagnosis'],\n",
       "      dtype='object')"
      ]
     },
     "execution_count": 18,
     "metadata": {},
     "output_type": "execute_result"
    }
   ],
   "source": [
    "inova_df.columns"
   ]
  },
  {
   "cell_type": "code",
   "execution_count": 19,
   "metadata": {
    "ExecuteTime": {
     "end_time": "2020-04-14T18:28:13.880055Z",
     "start_time": "2020-04-14T18:28:13.850136Z"
    },
    "slideshow": {
     "slide_type": "subslide"
    }
   },
   "outputs": [
    {
     "data": {
      "text/html": [
       "<div>\n",
       "<style scoped>\n",
       "    .dataframe tbody tr th:only-of-type {\n",
       "        vertical-align: middle;\n",
       "    }\n",
       "\n",
       "    .dataframe tbody tr th {\n",
       "        vertical-align: top;\n",
       "    }\n",
       "\n",
       "    .dataframe thead th {\n",
       "        text-align: right;\n",
       "    }\n",
       "</style>\n",
       "<table border=\"1\" class=\"dataframe\">\n",
       "  <thead>\n",
       "    <tr style=\"text-align: right;\">\n",
       "      <th></th>\n",
       "      <th>Age</th>\n",
       "      <th>Sex</th>\n",
       "      <th>Date_of_last_visit</th>\n",
       "      <th>CCP2</th>\n",
       "      <th>CCP3</th>\n",
       "      <th>RF</th>\n",
       "      <th>Tenderness_in_hands</th>\n",
       "      <th>EMS</th>\n",
       "      <th>Smoking_status</th>\n",
       "      <th>Score</th>\n",
       "      <th>Diagnosis</th>\n",
       "    </tr>\n",
       "  </thead>\n",
       "  <tbody>\n",
       "    <tr>\n",
       "      <th>0</th>\n",
       "      <td>30</td>\n",
       "      <td>F</td>\n",
       "      <td>2018-10-15</td>\n",
       "      <td>62.08</td>\n",
       "      <td>25.10</td>\n",
       "      <td>NaN</td>\n",
       "      <td>no</td>\n",
       "      <td>0</td>\n",
       "      <td>previous</td>\n",
       "      <td>33150.2</td>\n",
       "      <td>ongoing</td>\n",
       "    </tr>\n",
       "    <tr>\n",
       "      <th>1</th>\n",
       "      <td>41</td>\n",
       "      <td>M</td>\n",
       "      <td>2019-01-21</td>\n",
       "      <td>106.98</td>\n",
       "      <td>78.93</td>\n",
       "      <td>108.04</td>\n",
       "      <td>no</td>\n",
       "      <td>0</td>\n",
       "      <td>current</td>\n",
       "      <td>52932.0</td>\n",
       "      <td>ongoing</td>\n",
       "    </tr>\n",
       "    <tr>\n",
       "      <th>2</th>\n",
       "      <td>26</td>\n",
       "      <td>M</td>\n",
       "      <td>2017-11-20</td>\n",
       "      <td>85.59</td>\n",
       "      <td>95.93</td>\n",
       "      <td>110.68</td>\n",
       "      <td>yes</td>\n",
       "      <td>0</td>\n",
       "      <td>never</td>\n",
       "      <td>55.5</td>\n",
       "      <td>ongoing</td>\n",
       "    </tr>\n",
       "    <tr>\n",
       "      <th>3</th>\n",
       "      <td>19</td>\n",
       "      <td>F</td>\n",
       "      <td>2008-10-20</td>\n",
       "      <td>176.08</td>\n",
       "      <td>18.63</td>\n",
       "      <td>269.92</td>\n",
       "      <td>no</td>\n",
       "      <td>0</td>\n",
       "      <td>never</td>\n",
       "      <td>60.0</td>\n",
       "      <td>ongoing</td>\n",
       "    </tr>\n",
       "    <tr>\n",
       "      <th>4</th>\n",
       "      <td>19</td>\n",
       "      <td>F</td>\n",
       "      <td>2018-07-16</td>\n",
       "      <td>10.80</td>\n",
       "      <td>49.81</td>\n",
       "      <td>62.55</td>\n",
       "      <td>yes</td>\n",
       "      <td>15</td>\n",
       "      <td>previous</td>\n",
       "      <td>8020.0</td>\n",
       "      <td>ongoing</td>\n",
       "    </tr>\n",
       "  </tbody>\n",
       "</table>\n",
       "</div>"
      ],
      "text/plain": [
       "   Age Sex Date_of_last_visit    CCP2   CCP3      RF Tenderness_in_hands EMS  \\\n",
       "0   30   F         2018-10-15   62.08  25.10     NaN                  no   0   \n",
       "1   41   M         2019-01-21  106.98  78.93  108.04                  no   0   \n",
       "2   26   M         2017-11-20   85.59  95.93  110.68                 yes   0   \n",
       "3   19   F         2008-10-20  176.08  18.63  269.92                  no   0   \n",
       "4   19   F         2018-07-16   10.80  49.81   62.55                 yes  15   \n",
       "\n",
       "  Smoking_status    Score Diagnosis  \n",
       "0       previous  33150.2   ongoing  \n",
       "1        current  52932.0   ongoing  \n",
       "2          never     55.5   ongoing  \n",
       "3          never     60.0   ongoing  \n",
       "4       previous   8020.0   ongoing  "
      ]
     },
     "execution_count": 19,
     "metadata": {},
     "output_type": "execute_result"
    }
   ],
   "source": [
    "# replace a column name\n",
    "inova_df.rename(columns = {'Random_Age' : 'Age',\n",
    "                     'Random_CCP2' : 'CCP2',\n",
    "                     'Random_CCP3' : 'CCP3',\n",
    "                     'Random_RF' : 'RF'}, inplace = True)\n",
    "inova_df.head()"
   ]
  },
  {
   "cell_type": "markdown",
   "metadata": {
    "slideshow": {
     "slide_type": "subslide"
    }
   },
   "source": [
    "## Descriptives \n",
    "\n",
    "* .describe()\n",
    "* .value_counts()\n",
    "* .mean()\n",
    "* .unique()"
   ]
  },
  {
   "cell_type": "markdown",
   "metadata": {
    "slideshow": {
     "slide_type": "subslide"
    }
   },
   "source": [
    "### Describe\n",
    "\n",
    "Displays summary statistic for each Numerical column"
   ]
  },
  {
   "cell_type": "code",
   "execution_count": 20,
   "metadata": {
    "ExecuteTime": {
     "end_time": "2020-04-14T18:28:13.947887Z",
     "start_time": "2020-04-14T18:28:13.883047Z"
    },
    "slideshow": {
     "slide_type": "fragment"
    }
   },
   "outputs": [
    {
     "data": {
      "text/html": [
       "<div>\n",
       "<style scoped>\n",
       "    .dataframe tbody tr th:only-of-type {\n",
       "        vertical-align: middle;\n",
       "    }\n",
       "\n",
       "    .dataframe tbody tr th {\n",
       "        vertical-align: top;\n",
       "    }\n",
       "\n",
       "    .dataframe thead th {\n",
       "        text-align: right;\n",
       "    }\n",
       "</style>\n",
       "<table border=\"1\" class=\"dataframe\">\n",
       "  <thead>\n",
       "    <tr style=\"text-align: right;\">\n",
       "      <th></th>\n",
       "      <th>Age</th>\n",
       "      <th>CCP2</th>\n",
       "      <th>CCP3</th>\n",
       "      <th>RF</th>\n",
       "      <th>Score</th>\n",
       "    </tr>\n",
       "  </thead>\n",
       "  <tbody>\n",
       "    <tr>\n",
       "      <th>count</th>\n",
       "      <td>347.000</td>\n",
       "      <td>301.000</td>\n",
       "      <td>314.000</td>\n",
       "      <td>290.000</td>\n",
       "      <td>346.000</td>\n",
       "    </tr>\n",
       "    <tr>\n",
       "      <th>mean</th>\n",
       "      <td>47.847</td>\n",
       "      <td>97.731</td>\n",
       "      <td>99.166</td>\n",
       "      <td>100.603</td>\n",
       "      <td>16216.906</td>\n",
       "    </tr>\n",
       "    <tr>\n",
       "      <th>std</th>\n",
       "      <td>18.473</td>\n",
       "      <td>74.549</td>\n",
       "      <td>72.671</td>\n",
       "      <td>73.111</td>\n",
       "      <td>43500.661</td>\n",
       "    </tr>\n",
       "    <tr>\n",
       "      <th>min</th>\n",
       "      <td>18.000</td>\n",
       "      <td>5.920</td>\n",
       "      <td>6.540</td>\n",
       "      <td>5.850</td>\n",
       "      <td>24.800</td>\n",
       "    </tr>\n",
       "    <tr>\n",
       "      <th>25%</th>\n",
       "      <td>31.000</td>\n",
       "      <td>46.720</td>\n",
       "      <td>48.553</td>\n",
       "      <td>43.975</td>\n",
       "      <td>72.000</td>\n",
       "    </tr>\n",
       "    <tr>\n",
       "      <th>50%</th>\n",
       "      <td>48.000</td>\n",
       "      <td>83.620</td>\n",
       "      <td>86.165</td>\n",
       "      <td>92.585</td>\n",
       "      <td>2405.250</td>\n",
       "    </tr>\n",
       "    <tr>\n",
       "      <th>75%</th>\n",
       "      <td>64.500</td>\n",
       "      <td>126.030</td>\n",
       "      <td>124.430</td>\n",
       "      <td>136.653</td>\n",
       "      <td>11809.925</td>\n",
       "    </tr>\n",
       "    <tr>\n",
       "      <th>max</th>\n",
       "      <td>79.000</td>\n",
       "      <td>482.900</td>\n",
       "      <td>495.780</td>\n",
       "      <td>488.600</td>\n",
       "      <td>401000.000</td>\n",
       "    </tr>\n",
       "  </tbody>\n",
       "</table>\n",
       "</div>"
      ],
      "text/plain": [
       "           Age     CCP2     CCP3       RF       Score\n",
       "count  347.000  301.000  314.000  290.000     346.000\n",
       "mean    47.847   97.731   99.166  100.603   16216.906\n",
       "std     18.473   74.549   72.671   73.111   43500.661\n",
       "min     18.000    5.920    6.540    5.850      24.800\n",
       "25%     31.000   46.720   48.553   43.975      72.000\n",
       "50%     48.000   83.620   86.165   92.585    2405.250\n",
       "75%     64.500  126.030  124.430  136.653   11809.925\n",
       "max     79.000  482.900  495.780  488.600  401000.000"
      ]
     },
     "execution_count": 20,
     "metadata": {},
     "output_type": "execute_result"
    }
   ],
   "source": [
    "inova_df.describe()"
   ]
  },
  {
   "cell_type": "markdown",
   "metadata": {
    "slideshow": {
     "slide_type": "subslide"
    }
   },
   "source": [
    "### value_counts\n",
    "\n",
    "Counts the number of occurances of each categorical value for the column"
   ]
  },
  {
   "cell_type": "code",
   "execution_count": 21,
   "metadata": {
    "ExecuteTime": {
     "end_time": "2020-04-14T18:28:13.969814Z",
     "start_time": "2020-04-14T18:28:13.951864Z"
    },
    "slideshow": {
     "slide_type": "fragment"
    }
   },
   "outputs": [
    {
     "data": {
      "text/plain": [
       "0      previous\n",
       "1       current\n",
       "2         never\n",
       "3         never\n",
       "4      previous\n",
       "         ...   \n",
       "342       never\n",
       "343     current\n",
       "344       never\n",
       "345       never\n",
       "346    previous\n",
       "Name: Smoking_status, Length: 347, dtype: object"
      ]
     },
     "execution_count": 21,
     "metadata": {},
     "output_type": "execute_result"
    }
   ],
   "source": [
    "inova_df['Smoking_status']"
   ]
  },
  {
   "cell_type": "code",
   "execution_count": 22,
   "metadata": {
    "ExecuteTime": {
     "end_time": "2020-04-14T18:28:13.984008Z",
     "start_time": "2020-04-14T18:28:13.976796Z"
    },
    "slideshow": {
     "slide_type": "subslide"
    }
   },
   "outputs": [
    {
     "data": {
      "text/plain": [
       "pandas.core.series.Series"
      ]
     },
     "execution_count": 22,
     "metadata": {},
     "output_type": "execute_result"
    }
   ],
   "source": [
    "type(inova_df.Smoking_status)"
   ]
  },
  {
   "cell_type": "code",
   "execution_count": 23,
   "metadata": {
    "ExecuteTime": {
     "end_time": "2020-04-14T18:28:13.998003Z",
     "start_time": "2020-04-14T18:28:13.987022Z"
    },
    "slideshow": {
     "slide_type": "fragment"
    }
   },
   "outputs": [
    {
     "data": {
      "text/plain": [
       "never       144\n",
       "previous    118\n",
       "current      78\n",
       "Name: Smoking_status, dtype: int64"
      ]
     },
     "execution_count": 23,
     "metadata": {},
     "output_type": "execute_result"
    }
   ],
   "source": [
    "inova_df.Smoking_status.value_counts()\n",
    "\n",
    "## Also works for numeric columns - treating the individual values as factors"
   ]
  },
  {
   "cell_type": "code",
   "execution_count": 24,
   "metadata": {
    "ExecuteTime": {
     "end_time": "2020-04-14T18:28:14.013956Z",
     "start_time": "2020-04-14T18:28:14.006971Z"
    },
    "slideshow": {
     "slide_type": "fragment"
    }
   },
   "outputs": [
    {
     "data": {
      "text/plain": [
       "pandas.core.series.Series"
      ]
     },
     "execution_count": 24,
     "metadata": {},
     "output_type": "execute_result"
    }
   ],
   "source": [
    "type(inova_df.Smoking_status.value_counts())"
   ]
  },
  {
   "cell_type": "code",
   "execution_count": 25,
   "metadata": {
    "ExecuteTime": {
     "end_time": "2020-04-14T18:28:14.225383Z",
     "start_time": "2020-04-14T18:28:14.017945Z"
    },
    "slideshow": {
     "slide_type": "subslide"
    }
   },
   "outputs": [
    {
     "data": {
      "text/plain": [
       "<matplotlib.axes._subplots.AxesSubplot at 0x1ce1d3cbbb0>"
      ]
     },
     "execution_count": 25,
     "metadata": {},
     "output_type": "execute_result"
    },
    {
     "data": {
      "image/png": "[encoded data removed]",
      "text/plain": [
       "<Figure size 432x288 with 1 Axes>"
      ]
     },
     "metadata": {
      "needs_background": "light"
     },
     "output_type": "display_data"
    }
   ],
   "source": [
    "inova_df.Smoking_status.value_counts().plot(kind='barh')"
   ]
  },
  {
   "cell_type": "code",
   "execution_count": 26,
   "metadata": {
    "ExecuteTime": {
     "end_time": "2020-04-14T18:28:14.233361Z",
     "start_time": "2020-04-14T18:28:14.227378Z"
    },
    "slideshow": {
     "slide_type": "subslide"
    }
   },
   "outputs": [
    {
     "data": {
      "text/plain": [
       "47.847262247838614"
      ]
     },
     "execution_count": 26,
     "metadata": {},
     "output_type": "execute_result"
    }
   ],
   "source": [
    "inova_df.Age.mean()\n",
    "\n",
    "# Can also do:\n",
    "inova_df['Age'].mean()"
   ]
  },
  {
   "cell_type": "markdown",
   "metadata": {
    "slideshow": {
     "slide_type": "slide"
    }
   },
   "source": [
    "## Comprehension Question:\n",
    "\n",
    "What do you think we will get if we ask for the `type` of `inova_df.Age` ?\n"
   ]
  },
  {
   "cell_type": "code",
   "execution_count": null,
   "metadata": {
    "ExecuteTime": {
     "end_time": "2020-04-13T23:49:16.811269Z",
     "start_time": "2020-04-13T23:49:16.801296Z"
    },
    "slideshow": {
     "slide_type": "-"
    }
   },
   "outputs": [],
   "source": []
  },
  {
   "cell_type": "markdown",
   "metadata": {
    "slideshow": {
     "slide_type": "subslide"
    }
   },
   "source": [
    "### Unique\n",
    "\n",
    "Returns the unique values for the column"
   ]
  },
  {
   "cell_type": "code",
   "execution_count": 27,
   "metadata": {
    "ExecuteTime": {
     "end_time": "2020-04-14T18:28:14.243335Z",
     "start_time": "2020-04-14T18:28:14.235356Z"
    },
    "slideshow": {
     "slide_type": "fragment"
    }
   },
   "outputs": [
    {
     "data": {
      "text/plain": [
       "array(['ongoing', ' RA', ' IA'], dtype=object)"
      ]
     },
     "execution_count": 27,
     "metadata": {},
     "output_type": "execute_result"
    }
   ],
   "source": [
    "# there's a space before each string in this data\n",
    "inova_df['Diagnosis'].unique()"
   ]
  },
  {
   "cell_type": "code",
   "execution_count": 28,
   "metadata": {
    "ExecuteTime": {
     "end_time": "2020-04-14T18:28:14.251313Z",
     "start_time": "2020-04-14T18:28:14.245330Z"
    },
    "slideshow": {
     "slide_type": "fragment"
    }
   },
   "outputs": [],
   "source": [
    "inova_df[\"Diagnosis\"] = inova_df.Diagnosis.str.strip()"
   ]
  },
  {
   "cell_type": "code",
   "execution_count": 29,
   "metadata": {
    "ExecuteTime": {
     "end_time": "2020-04-14T18:28:14.262283Z",
     "start_time": "2020-04-14T18:28:14.253308Z"
    },
    "slideshow": {
     "slide_type": "fragment"
    }
   },
   "outputs": [
    {
     "data": {
      "text/plain": [
       "array(['ongoing', 'RA', 'IA'], dtype=object)"
      ]
     },
     "execution_count": 29,
     "metadata": {},
     "output_type": "execute_result"
    }
   ],
   "source": [
    "# Hurray We removed the leading space\n",
    "inova_df.Diagnosis.unique()"
   ]
  },
  {
   "cell_type": "code",
   "execution_count": 30,
   "metadata": {
    "ExecuteTime": {
     "end_time": "2020-04-14T18:28:14.271260Z",
     "start_time": "2020-04-14T18:28:14.264279Z"
    },
    "slideshow": {
     "slide_type": "fragment"
    }
   },
   "outputs": [
    {
     "data": {
      "text/plain": [
       "array(['F', 'M'], dtype=object)"
      ]
     },
     "execution_count": 30,
     "metadata": {},
     "output_type": "execute_result"
    }
   ],
   "source": [
    "inova_df.Sex.unique()"
   ]
  },
  {
   "cell_type": "markdown",
   "metadata": {
    "slideshow": {
     "slide_type": "slide"
    }
   },
   "source": [
    "## Selecting rows and columns "
   ]
  },
  {
   "cell_type": "markdown",
   "metadata": {
    "slideshow": {
     "slide_type": "fragment"
    }
   },
   "source": [
    "### .loc \n",
    "\n",
    "* Selects row and columns by Names\n",
    "* **by label**             `.loc[]`\n",
    "\n",
    "### .iloc\n",
    "\n",
    "* Selects row and columns by Index Position\n",
    "* **by integer position**  `.iloc[]`"
   ]
  },
  {
   "cell_type": "markdown",
   "metadata": {
    "slideshow": {
     "slide_type": "fragment"
    }
   },
   "source": [
    "http://pandas.pydata.org/pandas-docs/stable/indexing.html"
   ]
  },
  {
   "cell_type": "code",
   "execution_count": 31,
   "metadata": {
    "ExecuteTime": {
     "end_time": "2020-04-14T18:28:14.283227Z",
     "start_time": "2020-04-14T18:28:14.274253Z"
    },
    "slideshow": {
     "slide_type": "subslide"
    }
   },
   "outputs": [
    {
     "data": {
      "text/plain": [
       "Age                                     19\n",
       "Sex                                      F\n",
       "Date_of_last_visit     2008-10-20 00:00:00\n",
       "CCP2                                   176\n",
       "CCP3                                  18.6\n",
       "RF                                     270\n",
       "Tenderness_in_hands                     no\n",
       "EMS                                      0\n",
       "Smoking_status                       never\n",
       "Score                                   60\n",
       "Diagnosis                          ongoing\n",
       "Name: 3, dtype: object"
      ]
     },
     "execution_count": 31,
     "metadata": {},
     "output_type": "execute_result"
    }
   ],
   "source": [
    "# select a row\n",
    "inova_df.iloc[3]"
   ]
  },
  {
   "cell_type": "code",
   "execution_count": 32,
   "metadata": {
    "ExecuteTime": {
     "end_time": "2020-04-14T18:28:14.309158Z",
     "start_time": "2020-04-14T18:28:14.286220Z"
    },
    "slideshow": {
     "slide_type": "fragment"
    }
   },
   "outputs": [
    {
     "data": {
      "text/html": [
       "<div>\n",
       "<style scoped>\n",
       "    .dataframe tbody tr th:only-of-type {\n",
       "        vertical-align: middle;\n",
       "    }\n",
       "\n",
       "    .dataframe tbody tr th {\n",
       "        vertical-align: top;\n",
       "    }\n",
       "\n",
       "    .dataframe thead th {\n",
       "        text-align: right;\n",
       "    }\n",
       "</style>\n",
       "<table border=\"1\" class=\"dataframe\">\n",
       "  <thead>\n",
       "    <tr style=\"text-align: right;\">\n",
       "      <th></th>\n",
       "      <th>Age</th>\n",
       "      <th>Sex</th>\n",
       "      <th>Date_of_last_visit</th>\n",
       "      <th>CCP2</th>\n",
       "      <th>CCP3</th>\n",
       "      <th>RF</th>\n",
       "      <th>Tenderness_in_hands</th>\n",
       "      <th>EMS</th>\n",
       "      <th>Smoking_status</th>\n",
       "      <th>Score</th>\n",
       "      <th>Diagnosis</th>\n",
       "    </tr>\n",
       "  </thead>\n",
       "  <tbody>\n",
       "    <tr>\n",
       "      <th>0</th>\n",
       "      <td>30</td>\n",
       "      <td>F</td>\n",
       "      <td>2018-10-15</td>\n",
       "      <td>62.08</td>\n",
       "      <td>25.10</td>\n",
       "      <td>NaN</td>\n",
       "      <td>no</td>\n",
       "      <td>0</td>\n",
       "      <td>previous</td>\n",
       "      <td>33150.2</td>\n",
       "      <td>ongoing</td>\n",
       "    </tr>\n",
       "    <tr>\n",
       "      <th>1</th>\n",
       "      <td>41</td>\n",
       "      <td>M</td>\n",
       "      <td>2019-01-21</td>\n",
       "      <td>106.98</td>\n",
       "      <td>78.93</td>\n",
       "      <td>108.04</td>\n",
       "      <td>no</td>\n",
       "      <td>0</td>\n",
       "      <td>current</td>\n",
       "      <td>52932.0</td>\n",
       "      <td>ongoing</td>\n",
       "    </tr>\n",
       "    <tr>\n",
       "      <th>2</th>\n",
       "      <td>26</td>\n",
       "      <td>M</td>\n",
       "      <td>2017-11-20</td>\n",
       "      <td>85.59</td>\n",
       "      <td>95.93</td>\n",
       "      <td>110.68</td>\n",
       "      <td>yes</td>\n",
       "      <td>0</td>\n",
       "      <td>never</td>\n",
       "      <td>55.5</td>\n",
       "      <td>ongoing</td>\n",
       "    </tr>\n",
       "  </tbody>\n",
       "</table>\n",
       "</div>"
      ],
      "text/plain": [
       "   Age Sex Date_of_last_visit    CCP2   CCP3      RF Tenderness_in_hands EMS  \\\n",
       "0   30   F         2018-10-15   62.08  25.10     NaN                  no   0   \n",
       "1   41   M         2019-01-21  106.98  78.93  108.04                  no   0   \n",
       "2   26   M         2017-11-20   85.59  95.93  110.68                 yes   0   \n",
       "\n",
       "  Smoking_status    Score Diagnosis  \n",
       "0       previous  33150.2   ongoing  \n",
       "1        current  52932.0   ongoing  \n",
       "2          never     55.5   ongoing  "
      ]
     },
     "execution_count": 32,
     "metadata": {},
     "output_type": "execute_result"
    }
   ],
   "source": [
    "inova_df.iloc[0:3]\n",
    "\n",
    "## Note: I got 3 rows returned, similar to the indexing that applies to Python lists"
   ]
  },
  {
   "cell_type": "code",
   "execution_count": 33,
   "metadata": {
    "ExecuteTime": {
     "end_time": "2020-04-14T18:28:14.332096Z",
     "start_time": "2020-04-14T18:28:14.311153Z"
    },
    "slideshow": {
     "slide_type": "subslide"
    }
   },
   "outputs": [
    {
     "data": {
      "text/html": [
       "<div>\n",
       "<style scoped>\n",
       "    .dataframe tbody tr th:only-of-type {\n",
       "        vertical-align: middle;\n",
       "    }\n",
       "\n",
       "    .dataframe tbody tr th {\n",
       "        vertical-align: top;\n",
       "    }\n",
       "\n",
       "    .dataframe thead th {\n",
       "        text-align: right;\n",
       "    }\n",
       "</style>\n",
       "<table border=\"1\" class=\"dataframe\">\n",
       "  <thead>\n",
       "    <tr style=\"text-align: right;\">\n",
       "      <th></th>\n",
       "      <th>Age</th>\n",
       "      <th>Sex</th>\n",
       "      <th>Date_of_last_visit</th>\n",
       "      <th>CCP2</th>\n",
       "      <th>CCP3</th>\n",
       "      <th>RF</th>\n",
       "      <th>Tenderness_in_hands</th>\n",
       "      <th>EMS</th>\n",
       "      <th>Smoking_status</th>\n",
       "      <th>Score</th>\n",
       "      <th>Diagnosis</th>\n",
       "    </tr>\n",
       "  </thead>\n",
       "  <tbody>\n",
       "    <tr>\n",
       "      <th>10</th>\n",
       "      <td>43</td>\n",
       "      <td>F</td>\n",
       "      <td>2018-08-20</td>\n",
       "      <td>NaN</td>\n",
       "      <td>68.78</td>\n",
       "      <td>207.17</td>\n",
       "      <td>no</td>\n",
       "      <td>0</td>\n",
       "      <td>never</td>\n",
       "      <td>1310.0</td>\n",
       "      <td>RA</td>\n",
       "    </tr>\n",
       "    <tr>\n",
       "      <th>11</th>\n",
       "      <td>25</td>\n",
       "      <td>F</td>\n",
       "      <td>2017-09-04</td>\n",
       "      <td>56.17</td>\n",
       "      <td>53.38</td>\n",
       "      <td>43.65</td>\n",
       "      <td>yes</td>\n",
       "      <td>0</td>\n",
       "      <td>previous</td>\n",
       "      <td>27558.6</td>\n",
       "      <td>RA</td>\n",
       "    </tr>\n",
       "    <tr>\n",
       "      <th>12</th>\n",
       "      <td>36</td>\n",
       "      <td>M</td>\n",
       "      <td>2017-11-13</td>\n",
       "      <td>139.85</td>\n",
       "      <td>130.69</td>\n",
       "      <td>NaN</td>\n",
       "      <td>no</td>\n",
       "      <td>120</td>\n",
       "      <td>previous</td>\n",
       "      <td>51.0</td>\n",
       "      <td>ongoing</td>\n",
       "    </tr>\n",
       "    <tr>\n",
       "      <th>13</th>\n",
       "      <td>66</td>\n",
       "      <td>F</td>\n",
       "      <td>2013-07-22</td>\n",
       "      <td>291.76</td>\n",
       "      <td>100.79</td>\n",
       "      <td>55.35</td>\n",
       "      <td>no</td>\n",
       "      <td>0</td>\n",
       "      <td>current</td>\n",
       "      <td>340.5</td>\n",
       "      <td>RA</td>\n",
       "    </tr>\n",
       "    <tr>\n",
       "      <th>14</th>\n",
       "      <td>23</td>\n",
       "      <td>M</td>\n",
       "      <td>2018-10-01</td>\n",
       "      <td>82.45</td>\n",
       "      <td>32.79</td>\n",
       "      <td>44.47</td>\n",
       "      <td>no</td>\n",
       "      <td>120</td>\n",
       "      <td>previous</td>\n",
       "      <td>64.5</td>\n",
       "      <td>ongoing</td>\n",
       "    </tr>\n",
       "  </tbody>\n",
       "</table>\n",
       "</div>"
      ],
      "text/plain": [
       "    Age Sex Date_of_last_visit    CCP2    CCP3      RF Tenderness_in_hands  \\\n",
       "10   43   F         2018-08-20     NaN   68.78  207.17                  no   \n",
       "11   25   F         2017-09-04   56.17   53.38   43.65                 yes   \n",
       "12   36   M         2017-11-13  139.85  130.69     NaN                  no   \n",
       "13   66   F         2013-07-22  291.76  100.79   55.35                  no   \n",
       "14   23   M         2018-10-01   82.45   32.79   44.47                  no   \n",
       "\n",
       "    EMS Smoking_status    Score Diagnosis  \n",
       "10    0          never   1310.0        RA  \n",
       "11    0       previous  27558.6        RA  \n",
       "12  120       previous     51.0   ongoing  \n",
       "13    0        current    340.5        RA  \n",
       "14  120       previous     64.5   ongoing  "
      ]
     },
     "execution_count": 33,
     "metadata": {},
     "output_type": "execute_result"
    }
   ],
   "source": [
    "# select a range of rows\n",
    "inova_df.iloc[10:15]"
   ]
  },
  {
   "cell_type": "code",
   "execution_count": 34,
   "metadata": {
    "ExecuteTime": {
     "end_time": "2020-04-14T18:28:14.353041Z",
     "start_time": "2020-04-14T18:28:14.334091Z"
    },
    "slideshow": {
     "slide_type": "subslide"
    }
   },
   "outputs": [
    {
     "data": {
      "text/html": [
       "<div>\n",
       "<style scoped>\n",
       "    .dataframe tbody tr th:only-of-type {\n",
       "        vertical-align: middle;\n",
       "    }\n",
       "\n",
       "    .dataframe tbody tr th {\n",
       "        vertical-align: top;\n",
       "    }\n",
       "\n",
       "    .dataframe thead th {\n",
       "        text-align: right;\n",
       "    }\n",
       "</style>\n",
       "<table border=\"1\" class=\"dataframe\">\n",
       "  <thead>\n",
       "    <tr style=\"text-align: right;\">\n",
       "      <th></th>\n",
       "      <th>Age</th>\n",
       "      <th>Sex</th>\n",
       "      <th>Date_of_last_visit</th>\n",
       "      <th>CCP2</th>\n",
       "      <th>CCP3</th>\n",
       "      <th>RF</th>\n",
       "      <th>Tenderness_in_hands</th>\n",
       "      <th>EMS</th>\n",
       "      <th>Smoking_status</th>\n",
       "      <th>Score</th>\n",
       "      <th>Diagnosis</th>\n",
       "    </tr>\n",
       "  </thead>\n",
       "  <tbody>\n",
       "    <tr>\n",
       "      <th>345</th>\n",
       "      <td>66</td>\n",
       "      <td>F</td>\n",
       "      <td>2010-05-27</td>\n",
       "      <td>109.38</td>\n",
       "      <td>17.62</td>\n",
       "      <td>95.93</td>\n",
       "      <td>yes</td>\n",
       "      <td>60</td>\n",
       "      <td>never</td>\n",
       "      <td>143384.6</td>\n",
       "      <td>ongoing</td>\n",
       "    </tr>\n",
       "    <tr>\n",
       "      <th>346</th>\n",
       "      <td>32</td>\n",
       "      <td>F</td>\n",
       "      <td>2018-08-13</td>\n",
       "      <td>58.92</td>\n",
       "      <td>106.21</td>\n",
       "      <td>198.57</td>\n",
       "      <td>yes</td>\n",
       "      <td>0</td>\n",
       "      <td>previous</td>\n",
       "      <td>143784.0</td>\n",
       "      <td>ongoing</td>\n",
       "    </tr>\n",
       "  </tbody>\n",
       "</table>\n",
       "</div>"
      ],
      "text/plain": [
       "     Age Sex Date_of_last_visit    CCP2    CCP3      RF Tenderness_in_hands  \\\n",
       "345   66   F         2010-05-27  109.38   17.62   95.93                 yes   \n",
       "346   32   F         2018-08-13   58.92  106.21  198.57                 yes   \n",
       "\n",
       "    EMS Smoking_status     Score Diagnosis  \n",
       "345  60          never  143384.6   ongoing  \n",
       "346   0       previous  143784.0   ongoing  "
      ]
     },
     "execution_count": 34,
     "metadata": {},
     "output_type": "execute_result"
    }
   ],
   "source": [
    "# last 2 rows\n",
    "inova_df.iloc[-2:]"
   ]
  },
  {
   "cell_type": "code",
   "execution_count": 35,
   "metadata": {
    "ExecuteTime": {
     "end_time": "2020-04-14T18:28:14.368000Z",
     "start_time": "2020-04-14T18:28:14.356033Z"
    },
    "slideshow": {
     "slide_type": "subslide"
    }
   },
   "outputs": [
    {
     "data": {
      "text/html": [
       "<div>\n",
       "<style scoped>\n",
       "    .dataframe tbody tr th:only-of-type {\n",
       "        vertical-align: middle;\n",
       "    }\n",
       "\n",
       "    .dataframe tbody tr th {\n",
       "        vertical-align: top;\n",
       "    }\n",
       "\n",
       "    .dataframe thead th {\n",
       "        text-align: right;\n",
       "    }\n",
       "</style>\n",
       "<table border=\"1\" class=\"dataframe\">\n",
       "  <thead>\n",
       "    <tr style=\"text-align: right;\">\n",
       "      <th></th>\n",
       "      <th>Date_of_last_visit</th>\n",
       "      <th>CCP2</th>\n",
       "      <th>CCP3</th>\n",
       "    </tr>\n",
       "  </thead>\n",
       "  <tbody>\n",
       "    <tr>\n",
       "      <th>0</th>\n",
       "      <td>2018-10-15</td>\n",
       "      <td>62.08</td>\n",
       "      <td>25.10</td>\n",
       "    </tr>\n",
       "    <tr>\n",
       "      <th>2</th>\n",
       "      <td>2017-11-20</td>\n",
       "      <td>85.59</td>\n",
       "      <td>95.93</td>\n",
       "    </tr>\n",
       "    <tr>\n",
       "      <th>4</th>\n",
       "      <td>2018-07-16</td>\n",
       "      <td>10.80</td>\n",
       "      <td>49.81</td>\n",
       "    </tr>\n",
       "    <tr>\n",
       "      <th>6</th>\n",
       "      <td>2019-02-07</td>\n",
       "      <td>19.32</td>\n",
       "      <td>NaN</td>\n",
       "    </tr>\n",
       "    <tr>\n",
       "      <th>8</th>\n",
       "      <td>2018-12-12</td>\n",
       "      <td>8.46</td>\n",
       "      <td>126.64</td>\n",
       "    </tr>\n",
       "  </tbody>\n",
       "</table>\n",
       "</div>"
      ],
      "text/plain": [
       "  Date_of_last_visit   CCP2    CCP3\n",
       "0         2018-10-15  62.08   25.10\n",
       "2         2017-11-20  85.59   95.93\n",
       "4         2018-07-16  10.80   49.81\n",
       "6         2019-02-07  19.32     NaN\n",
       "8         2018-12-12   8.46  126.64"
      ]
     },
     "execution_count": 35,
     "metadata": {},
     "output_type": "execute_result"
    }
   ],
   "source": [
    "# selecting every other row in columns 3-5\n",
    "inova_df.iloc[::2, 2:5].head()"
   ]
  },
  {
   "cell_type": "code",
   "execution_count": 36,
   "metadata": {
    "ExecuteTime": {
     "end_time": "2020-04-14T18:28:14.394930Z",
     "start_time": "2020-04-14T18:28:14.369994Z"
    },
    "slideshow": {
     "slide_type": "subslide"
    }
   },
   "outputs": [
    {
     "data": {
      "text/html": [
       "<div>\n",
       "<style scoped>\n",
       "    .dataframe tbody tr th:only-of-type {\n",
       "        vertical-align: middle;\n",
       "    }\n",
       "\n",
       "    .dataframe tbody tr th {\n",
       "        vertical-align: top;\n",
       "    }\n",
       "\n",
       "    .dataframe thead th {\n",
       "        text-align: right;\n",
       "    }\n",
       "</style>\n",
       "<table border=\"1\" class=\"dataframe\">\n",
       "  <thead>\n",
       "    <tr style=\"text-align: right;\">\n",
       "      <th></th>\n",
       "      <th>Age</th>\n",
       "      <th>Sex</th>\n",
       "      <th>Date_of_last_visit</th>\n",
       "      <th>CCP2</th>\n",
       "      <th>CCP3</th>\n",
       "      <th>RF</th>\n",
       "      <th>Tenderness_in_hands</th>\n",
       "      <th>EMS</th>\n",
       "      <th>Smoking_status</th>\n",
       "      <th>Score</th>\n",
       "      <th>Diagnosis</th>\n",
       "    </tr>\n",
       "  </thead>\n",
       "  <tbody>\n",
       "    <tr>\n",
       "      <th>0</th>\n",
       "      <td>30</td>\n",
       "      <td>F</td>\n",
       "      <td>2018-10-15</td>\n",
       "      <td>62.08</td>\n",
       "      <td>25.10</td>\n",
       "      <td>NaN</td>\n",
       "      <td>no</td>\n",
       "      <td>0</td>\n",
       "      <td>previous</td>\n",
       "      <td>33150.2</td>\n",
       "      <td>ongoing</td>\n",
       "    </tr>\n",
       "    <tr>\n",
       "      <th>1</th>\n",
       "      <td>41</td>\n",
       "      <td>M</td>\n",
       "      <td>2019-01-21</td>\n",
       "      <td>106.98</td>\n",
       "      <td>78.93</td>\n",
       "      <td>108.04</td>\n",
       "      <td>no</td>\n",
       "      <td>0</td>\n",
       "      <td>current</td>\n",
       "      <td>52932.0</td>\n",
       "      <td>ongoing</td>\n",
       "    </tr>\n",
       "    <tr>\n",
       "      <th>2</th>\n",
       "      <td>26</td>\n",
       "      <td>M</td>\n",
       "      <td>2017-11-20</td>\n",
       "      <td>85.59</td>\n",
       "      <td>95.93</td>\n",
       "      <td>110.68</td>\n",
       "      <td>yes</td>\n",
       "      <td>0</td>\n",
       "      <td>never</td>\n",
       "      <td>55.5</td>\n",
       "      <td>ongoing</td>\n",
       "    </tr>\n",
       "    <tr>\n",
       "      <th>3</th>\n",
       "      <td>19</td>\n",
       "      <td>F</td>\n",
       "      <td>2008-10-20</td>\n",
       "      <td>176.08</td>\n",
       "      <td>18.63</td>\n",
       "      <td>269.92</td>\n",
       "      <td>no</td>\n",
       "      <td>0</td>\n",
       "      <td>never</td>\n",
       "      <td>60.0</td>\n",
       "      <td>ongoing</td>\n",
       "    </tr>\n",
       "  </tbody>\n",
       "</table>\n",
       "</div>"
      ],
      "text/plain": [
       "   Age Sex Date_of_last_visit    CCP2   CCP3      RF Tenderness_in_hands EMS  \\\n",
       "0   30   F         2018-10-15   62.08  25.10     NaN                  no   0   \n",
       "1   41   M         2019-01-21  106.98  78.93  108.04                  no   0   \n",
       "2   26   M         2017-11-20   85.59  95.93  110.68                 yes   0   \n",
       "3   19   F         2008-10-20  176.08  18.63  269.92                  no   0   \n",
       "\n",
       "  Smoking_status    Score Diagnosis  \n",
       "0       previous  33150.2   ongoing  \n",
       "1        current  52932.0   ongoing  \n",
       "2          never     55.5   ongoing  \n",
       "3          never     60.0   ongoing  "
      ]
     },
     "execution_count": 36,
     "metadata": {},
     "output_type": "execute_result"
    }
   ],
   "source": [
    "# select rows\n",
    "inova_df.loc[0:3]"
   ]
  },
  {
   "cell_type": "markdown",
   "metadata": {
    "slideshow": {
     "slide_type": "fragment"
    }
   },
   "source": [
    "## Question:\n",
    "Why did I get 4 rows above here instead of 3?\n",
    "\n",
    "\n",
    "\n",
    "\n",
    "\n",
    "Integers vs. labels!"
   ]
  },
  {
   "cell_type": "code",
   "execution_count": 37,
   "metadata": {
    "ExecuteTime": {
     "end_time": "2020-04-14T18:28:14.407893Z",
     "start_time": "2020-04-14T18:28:14.397934Z"
    },
    "slideshow": {
     "slide_type": "fragment"
    }
   },
   "outputs": [
    {
     "data": {
      "text/plain": [
       "0    30\n",
       "1    41\n",
       "2    26\n",
       "Name: Age, dtype: int64"
      ]
     },
     "execution_count": 37,
     "metadata": {},
     "output_type": "execute_result"
    }
   ],
   "source": [
    "(inova_df.loc[0:2, 'Age'])"
   ]
  },
  {
   "cell_type": "markdown",
   "metadata": {
    "slideshow": {
     "slide_type": "subslide"
    }
   },
   "source": [
    "## Filtering"
   ]
  },
  {
   "cell_type": "code",
   "execution_count": 38,
   "metadata": {
    "ExecuteTime": {
     "end_time": "2020-04-14T18:28:14.421856Z",
     "start_time": "2020-04-14T18:28:14.409888Z"
    },
    "slideshow": {
     "slide_type": "fragment"
    }
   },
   "outputs": [
    {
     "data": {
      "text/plain": [
       "0      False\n",
       "1      False\n",
       "2      False\n",
       "3      False\n",
       "4      False\n",
       "       ...  \n",
       "342     True\n",
       "343     True\n",
       "344    False\n",
       "345     True\n",
       "346    False\n",
       "Name: Age, Length: 347, dtype: bool"
      ]
     },
     "execution_count": 38,
     "metadata": {},
     "output_type": "execute_result"
    }
   ],
   "source": [
    "# boolean (True/False) indexing where the Age in inova_df is >50\n",
    "(inova_df.Age > 50)"
   ]
  },
  {
   "cell_type": "code",
   "execution_count": 39,
   "metadata": {
    "ExecuteTime": {
     "end_time": "2020-04-14T18:28:14.445792Z",
     "start_time": "2020-04-14T18:28:14.424849Z"
    },
    "slideshow": {
     "slide_type": "fragment"
    }
   },
   "outputs": [
    {
     "data": {
      "text/html": [
       "<div>\n",
       "<style scoped>\n",
       "    .dataframe tbody tr th:only-of-type {\n",
       "        vertical-align: middle;\n",
       "    }\n",
       "\n",
       "    .dataframe tbody tr th {\n",
       "        vertical-align: top;\n",
       "    }\n",
       "\n",
       "    .dataframe thead th {\n",
       "        text-align: right;\n",
       "    }\n",
       "</style>\n",
       "<table border=\"1\" class=\"dataframe\">\n",
       "  <thead>\n",
       "    <tr style=\"text-align: right;\">\n",
       "      <th></th>\n",
       "      <th>Age</th>\n",
       "      <th>Sex</th>\n",
       "      <th>Date_of_last_visit</th>\n",
       "      <th>CCP2</th>\n",
       "      <th>CCP3</th>\n",
       "      <th>RF</th>\n",
       "      <th>Tenderness_in_hands</th>\n",
       "      <th>EMS</th>\n",
       "      <th>Smoking_status</th>\n",
       "      <th>Score</th>\n",
       "      <th>Diagnosis</th>\n",
       "    </tr>\n",
       "  </thead>\n",
       "  <tbody>\n",
       "    <tr>\n",
       "      <th>13</th>\n",
       "      <td>66</td>\n",
       "      <td>F</td>\n",
       "      <td>2013-07-22</td>\n",
       "      <td>291.76</td>\n",
       "      <td>100.79</td>\n",
       "      <td>55.35</td>\n",
       "      <td>no</td>\n",
       "      <td>0</td>\n",
       "      <td>current</td>\n",
       "      <td>340.5</td>\n",
       "      <td>RA</td>\n",
       "    </tr>\n",
       "    <tr>\n",
       "      <th>15</th>\n",
       "      <td>61</td>\n",
       "      <td>M</td>\n",
       "      <td>2018-12-17</td>\n",
       "      <td>51.03</td>\n",
       "      <td>62.60</td>\n",
       "      <td>63.57</td>\n",
       "      <td>no</td>\n",
       "      <td>0</td>\n",
       "      <td>previous</td>\n",
       "      <td>1885.5</td>\n",
       "      <td>ongoing</td>\n",
       "    </tr>\n",
       "    <tr>\n",
       "      <th>16</th>\n",
       "      <td>52</td>\n",
       "      <td>F</td>\n",
       "      <td>2010-08-05</td>\n",
       "      <td>108.60</td>\n",
       "      <td>71.31</td>\n",
       "      <td>57.39</td>\n",
       "      <td>no</td>\n",
       "      <td>120</td>\n",
       "      <td>previous</td>\n",
       "      <td>39556.0</td>\n",
       "      <td>ongoing</td>\n",
       "    </tr>\n",
       "    <tr>\n",
       "      <th>19</th>\n",
       "      <td>75</td>\n",
       "      <td>M</td>\n",
       "      <td>2012-05-14</td>\n",
       "      <td>50.06</td>\n",
       "      <td>94.27</td>\n",
       "      <td>30.66</td>\n",
       "      <td>no</td>\n",
       "      <td>120</td>\n",
       "      <td>current</td>\n",
       "      <td>16915.2</td>\n",
       "      <td>ongoing</td>\n",
       "    </tr>\n",
       "    <tr>\n",
       "      <th>21</th>\n",
       "      <td>71</td>\n",
       "      <td>F</td>\n",
       "      <td>2018-12-03</td>\n",
       "      <td>NaN</td>\n",
       "      <td>172.54</td>\n",
       "      <td>65.52</td>\n",
       "      <td>yes</td>\n",
       "      <td>30</td>\n",
       "      <td>never</td>\n",
       "      <td>1929.0</td>\n",
       "      <td>ongoing</td>\n",
       "    </tr>\n",
       "  </tbody>\n",
       "</table>\n",
       "</div>"
      ],
      "text/plain": [
       "    Age Sex Date_of_last_visit    CCP2    CCP3     RF Tenderness_in_hands  \\\n",
       "13   66   F         2013-07-22  291.76  100.79  55.35                  no   \n",
       "15   61   M         2018-12-17   51.03   62.60  63.57                  no   \n",
       "16   52   F         2010-08-05  108.60   71.31  57.39                  no   \n",
       "19   75   M         2012-05-14   50.06   94.27  30.66                  no   \n",
       "21   71   F         2018-12-03     NaN  172.54  65.52                 yes   \n",
       "\n",
       "    EMS Smoking_status    Score Diagnosis  \n",
       "13    0        current    340.5        RA  \n",
       "15    0       previous   1885.5   ongoing  \n",
       "16  120       previous  39556.0   ongoing  \n",
       "19  120        current  16915.2   ongoing  \n",
       "21   30          never   1929.0   ongoing  "
      ]
     },
     "execution_count": 39,
     "metadata": {},
     "output_type": "execute_result"
    }
   ],
   "source": [
    "# create new filtered DF (over_fifty_df) based on the boolean filtering from the cell above\n",
    "over_fifty_df = inova_df[inova_df.Age > 50]\n",
    "over_fifty_df.head(5)"
   ]
  },
  {
   "cell_type": "code",
   "execution_count": 40,
   "metadata": {
    "ExecuteTime": {
     "end_time": "2020-04-14T18:28:14.467732Z",
     "start_time": "2020-04-14T18:28:14.447787Z"
    },
    "slideshow": {
     "slide_type": "subslide"
    }
   },
   "outputs": [
    {
     "data": {
      "text/html": [
       "<div>\n",
       "<style scoped>\n",
       "    .dataframe tbody tr th:only-of-type {\n",
       "        vertical-align: middle;\n",
       "    }\n",
       "\n",
       "    .dataframe tbody tr th {\n",
       "        vertical-align: top;\n",
       "    }\n",
       "\n",
       "    .dataframe thead th {\n",
       "        text-align: right;\n",
       "    }\n",
       "</style>\n",
       "<table border=\"1\" class=\"dataframe\">\n",
       "  <thead>\n",
       "    <tr style=\"text-align: right;\">\n",
       "      <th></th>\n",
       "      <th>Age</th>\n",
       "      <th>Sex</th>\n",
       "      <th>Tenderness_in_hands</th>\n",
       "      <th>Smoking_status</th>\n",
       "      <th>Diagnosis</th>\n",
       "    </tr>\n",
       "  </thead>\n",
       "  <tbody>\n",
       "    <tr>\n",
       "      <th>13</th>\n",
       "      <td>66</td>\n",
       "      <td>F</td>\n",
       "      <td>no</td>\n",
       "      <td>current</td>\n",
       "      <td>RA</td>\n",
       "    </tr>\n",
       "    <tr>\n",
       "      <th>15</th>\n",
       "      <td>61</td>\n",
       "      <td>M</td>\n",
       "      <td>no</td>\n",
       "      <td>previous</td>\n",
       "      <td>ongoing</td>\n",
       "    </tr>\n",
       "    <tr>\n",
       "      <th>16</th>\n",
       "      <td>52</td>\n",
       "      <td>F</td>\n",
       "      <td>no</td>\n",
       "      <td>previous</td>\n",
       "      <td>ongoing</td>\n",
       "    </tr>\n",
       "    <tr>\n",
       "      <th>19</th>\n",
       "      <td>75</td>\n",
       "      <td>M</td>\n",
       "      <td>no</td>\n",
       "      <td>current</td>\n",
       "      <td>ongoing</td>\n",
       "    </tr>\n",
       "    <tr>\n",
       "      <th>21</th>\n",
       "      <td>71</td>\n",
       "      <td>F</td>\n",
       "      <td>yes</td>\n",
       "      <td>never</td>\n",
       "      <td>ongoing</td>\n",
       "    </tr>\n",
       "    <tr>\n",
       "      <th>...</th>\n",
       "      <td>...</td>\n",
       "      <td>...</td>\n",
       "      <td>...</td>\n",
       "      <td>...</td>\n",
       "      <td>...</td>\n",
       "    </tr>\n",
       "    <tr>\n",
       "      <th>340</th>\n",
       "      <td>74</td>\n",
       "      <td>F</td>\n",
       "      <td>no</td>\n",
       "      <td>never</td>\n",
       "      <td>ongoing</td>\n",
       "    </tr>\n",
       "    <tr>\n",
       "      <th>341</th>\n",
       "      <td>58</td>\n",
       "      <td>F</td>\n",
       "      <td>no</td>\n",
       "      <td>never</td>\n",
       "      <td>ongoing</td>\n",
       "    </tr>\n",
       "    <tr>\n",
       "      <th>342</th>\n",
       "      <td>65</td>\n",
       "      <td>F</td>\n",
       "      <td>yes</td>\n",
       "      <td>never</td>\n",
       "      <td>ongoing</td>\n",
       "    </tr>\n",
       "    <tr>\n",
       "      <th>343</th>\n",
       "      <td>57</td>\n",
       "      <td>M</td>\n",
       "      <td>yes</td>\n",
       "      <td>current</td>\n",
       "      <td>ongoing</td>\n",
       "    </tr>\n",
       "    <tr>\n",
       "      <th>345</th>\n",
       "      <td>66</td>\n",
       "      <td>F</td>\n",
       "      <td>yes</td>\n",
       "      <td>never</td>\n",
       "      <td>ongoing</td>\n",
       "    </tr>\n",
       "  </tbody>\n",
       "</table>\n",
       "<p>161 rows × 5 columns</p>\n",
       "</div>"
      ],
      "text/plain": [
       "     Age Sex Tenderness_in_hands Smoking_status Diagnosis\n",
       "13    66   F                  no        current        RA\n",
       "15    61   M                  no       previous   ongoing\n",
       "16    52   F                  no       previous   ongoing\n",
       "19    75   M                  no        current   ongoing\n",
       "21    71   F                 yes          never   ongoing\n",
       "..   ...  ..                 ...            ...       ...\n",
       "340   74   F                  no          never   ongoing\n",
       "341   58   F                  no          never   ongoing\n",
       "342   65   F                 yes          never   ongoing\n",
       "343   57   M                 yes        current   ongoing\n",
       "345   66   F                 yes          never   ongoing\n",
       "\n",
       "[161 rows x 5 columns]"
      ]
     },
     "execution_count": 40,
     "metadata": {},
     "output_type": "execute_result"
    }
   ],
   "source": [
    "# Filter for only certain Columns\n",
    "inova_df.loc[inova_df.Age > 50, ['Age', 'Sex', 'Tenderness_in_hands', 'Smoking_status', 'Diagnosis']]\n",
    "\n",
    "# What happens if I try to do the same with inova_df.iloc instead of inova_df.loc?"
   ]
  },
  {
   "cell_type": "code",
   "execution_count": 41,
   "metadata": {
    "ExecuteTime": {
     "end_time": "2020-04-14T18:28:14.487679Z",
     "start_time": "2020-04-14T18:28:14.469728Z"
    },
    "slideshow": {
     "slide_type": "subslide"
    }
   },
   "outputs": [
    {
     "data": {
      "text/html": [
       "<div>\n",
       "<style scoped>\n",
       "    .dataframe tbody tr th:only-of-type {\n",
       "        vertical-align: middle;\n",
       "    }\n",
       "\n",
       "    .dataframe tbody tr th {\n",
       "        vertical-align: top;\n",
       "    }\n",
       "\n",
       "    .dataframe thead th {\n",
       "        text-align: right;\n",
       "    }\n",
       "</style>\n",
       "<table border=\"1\" class=\"dataframe\">\n",
       "  <thead>\n",
       "    <tr style=\"text-align: right;\">\n",
       "      <th></th>\n",
       "      <th>Age</th>\n",
       "      <th>Sex</th>\n",
       "      <th>Date_of_last_visit</th>\n",
       "      <th>CCP2</th>\n",
       "      <th>CCP3</th>\n",
       "      <th>RF</th>\n",
       "      <th>Tenderness_in_hands</th>\n",
       "      <th>EMS</th>\n",
       "      <th>Smoking_status</th>\n",
       "      <th>Score</th>\n",
       "      <th>Diagnosis</th>\n",
       "    </tr>\n",
       "  </thead>\n",
       "  <tbody>\n",
       "    <tr>\n",
       "      <th>13</th>\n",
       "      <td>66</td>\n",
       "      <td>F</td>\n",
       "      <td>2013-07-22</td>\n",
       "      <td>291.76</td>\n",
       "      <td>100.79</td>\n",
       "      <td>55.35</td>\n",
       "      <td>no</td>\n",
       "      <td>0</td>\n",
       "      <td>current</td>\n",
       "      <td>340.5</td>\n",
       "      <td>RA</td>\n",
       "    </tr>\n",
       "    <tr>\n",
       "      <th>15</th>\n",
       "      <td>61</td>\n",
       "      <td>M</td>\n",
       "      <td>2018-12-17</td>\n",
       "      <td>51.03</td>\n",
       "      <td>62.60</td>\n",
       "      <td>63.57</td>\n",
       "      <td>no</td>\n",
       "      <td>0</td>\n",
       "      <td>previous</td>\n",
       "      <td>1885.5</td>\n",
       "      <td>ongoing</td>\n",
       "    </tr>\n",
       "    <tr>\n",
       "      <th>16</th>\n",
       "      <td>52</td>\n",
       "      <td>F</td>\n",
       "      <td>2010-08-05</td>\n",
       "      <td>108.60</td>\n",
       "      <td>71.31</td>\n",
       "      <td>57.39</td>\n",
       "      <td>no</td>\n",
       "      <td>120</td>\n",
       "      <td>previous</td>\n",
       "      <td>39556.0</td>\n",
       "      <td>ongoing</td>\n",
       "    </tr>\n",
       "    <tr>\n",
       "      <th>19</th>\n",
       "      <td>75</td>\n",
       "      <td>M</td>\n",
       "      <td>2012-05-14</td>\n",
       "      <td>50.06</td>\n",
       "      <td>94.27</td>\n",
       "      <td>30.66</td>\n",
       "      <td>no</td>\n",
       "      <td>120</td>\n",
       "      <td>current</td>\n",
       "      <td>16915.2</td>\n",
       "      <td>ongoing</td>\n",
       "    </tr>\n",
       "  </tbody>\n",
       "</table>\n",
       "</div>"
      ],
      "text/plain": [
       "    Age Sex Date_of_last_visit    CCP2    CCP3     RF Tenderness_in_hands  \\\n",
       "13   66   F         2013-07-22  291.76  100.79  55.35                  no   \n",
       "15   61   M         2018-12-17   51.03   62.60  63.57                  no   \n",
       "16   52   F         2010-08-05  108.60   71.31  57.39                  no   \n",
       "19   75   M         2012-05-14   50.06   94.27  30.66                  no   \n",
       "\n",
       "    EMS Smoking_status    Score Diagnosis  \n",
       "13    0        current    340.5        RA  \n",
       "15    0       previous   1885.5   ongoing  \n",
       "16  120       previous  39556.0   ongoing  \n",
       "19  120        current  16915.2   ongoing  "
      ]
     },
     "execution_count": 41,
     "metadata": {},
     "output_type": "execute_result"
    }
   ],
   "source": [
    "inova_df[inova_df.Age > 50].head(4)"
   ]
  },
  {
   "cell_type": "markdown",
   "metadata": {
    "slideshow": {
     "slide_type": "slide"
    }
   },
   "source": [
    "## Now Filter on Sex"
   ]
  },
  {
   "cell_type": "code",
   "execution_count": 42,
   "metadata": {
    "ExecuteTime": {
     "end_time": "2020-04-14T18:28:14.495658Z",
     "start_time": "2020-04-14T18:28:14.490672Z"
    },
    "slideshow": {
     "slide_type": "fragment"
    }
   },
   "outputs": [],
   "source": [
    "# return a boolean (True/False) indexing where the Sex in inova_df is 'M'\n"
   ]
  },
  {
   "cell_type": "code",
   "execution_count": 43,
   "metadata": {
    "ExecuteTime": {
     "end_time": "2020-04-14T18:28:14.502639Z",
     "start_time": "2020-04-14T18:28:14.497653Z"
    },
    "slideshow": {
     "slide_type": "subslide"
    }
   },
   "outputs": [],
   "source": [
    "# return the filtered inova_df based on the boolean filtering from the cell above\n"
   ]
  },
  {
   "cell_type": "markdown",
   "metadata": {
    "slideshow": {
     "slide_type": "slide"
    }
   },
   "source": [
    "## Now Filter on Gender and Age between 30 and 40"
   ]
  },
  {
   "cell_type": "code",
   "execution_count": 44,
   "metadata": {
    "ExecuteTime": {
     "end_time": "2020-04-14T18:28:14.515604Z",
     "start_time": "2020-04-14T18:28:14.505631Z"
    },
    "slideshow": {
     "slide_type": "fragment"
    }
   },
   "outputs": [
    {
     "data": {
      "text/plain": [
       "0      False\n",
       "1      False\n",
       "2      False\n",
       "3      False\n",
       "4      False\n",
       "       ...  \n",
       "342    False\n",
       "343    False\n",
       "344    False\n",
       "345    False\n",
       "346    False\n",
       "Length: 347, dtype: bool"
      ]
     },
     "execution_count": 44,
     "metadata": {},
     "output_type": "execute_result"
    }
   ],
   "source": [
    "(inova_df.Sex == 'M') & (inova_df.Age>=30) & (inova_df.Age<=40)"
   ]
  },
  {
   "cell_type": "code",
   "execution_count": 45,
   "metadata": {
    "ExecuteTime": {
     "end_time": "2020-04-14T18:28:14.542547Z",
     "start_time": "2020-04-14T18:28:14.517599Z"
    },
    "slideshow": {
     "slide_type": "subslide"
    }
   },
   "outputs": [
    {
     "data": {
      "text/html": [
       "<div>\n",
       "<style scoped>\n",
       "    .dataframe tbody tr th:only-of-type {\n",
       "        vertical-align: middle;\n",
       "    }\n",
       "\n",
       "    .dataframe tbody tr th {\n",
       "        vertical-align: top;\n",
       "    }\n",
       "\n",
       "    .dataframe thead th {\n",
       "        text-align: right;\n",
       "    }\n",
       "</style>\n",
       "<table border=\"1\" class=\"dataframe\">\n",
       "  <thead>\n",
       "    <tr style=\"text-align: right;\">\n",
       "      <th></th>\n",
       "      <th>Age</th>\n",
       "      <th>Sex</th>\n",
       "      <th>Date_of_last_visit</th>\n",
       "      <th>CCP2</th>\n",
       "      <th>CCP3</th>\n",
       "      <th>RF</th>\n",
       "      <th>Tenderness_in_hands</th>\n",
       "      <th>EMS</th>\n",
       "      <th>Smoking_status</th>\n",
       "      <th>Score</th>\n",
       "      <th>Diagnosis</th>\n",
       "    </tr>\n",
       "  </thead>\n",
       "  <tbody>\n",
       "    <tr>\n",
       "      <th>12</th>\n",
       "      <td>36</td>\n",
       "      <td>M</td>\n",
       "      <td>2017-11-13</td>\n",
       "      <td>139.85</td>\n",
       "      <td>130.69</td>\n",
       "      <td>NaN</td>\n",
       "      <td>no</td>\n",
       "      <td>120</td>\n",
       "      <td>previous</td>\n",
       "      <td>51.0</td>\n",
       "      <td>ongoing</td>\n",
       "    </tr>\n",
       "    <tr>\n",
       "      <th>28</th>\n",
       "      <td>40</td>\n",
       "      <td>M</td>\n",
       "      <td>2019-02-18</td>\n",
       "      <td>33.49</td>\n",
       "      <td>495.78</td>\n",
       "      <td>161.25</td>\n",
       "      <td>yes</td>\n",
       "      <td>20</td>\n",
       "      <td>NaN</td>\n",
       "      <td>20806.0</td>\n",
       "      <td>ongoing</td>\n",
       "    </tr>\n",
       "    <tr>\n",
       "      <th>60</th>\n",
       "      <td>31</td>\n",
       "      <td>M</td>\n",
       "      <td>2010-11-15</td>\n",
       "      <td>144.43</td>\n",
       "      <td>93.75</td>\n",
       "      <td>63.68</td>\n",
       "      <td>yes</td>\n",
       "      <td>2</td>\n",
       "      <td>current</td>\n",
       "      <td>1077.0</td>\n",
       "      <td>RA</td>\n",
       "    </tr>\n",
       "    <tr>\n",
       "      <th>72</th>\n",
       "      <td>33</td>\n",
       "      <td>M</td>\n",
       "      <td>2018-12-03</td>\n",
       "      <td>182.67</td>\n",
       "      <td>NaN</td>\n",
       "      <td>NaN</td>\n",
       "      <td>yes</td>\n",
       "      <td>10</td>\n",
       "      <td>never</td>\n",
       "      <td>105.0</td>\n",
       "      <td>ongoing</td>\n",
       "    </tr>\n",
       "    <tr>\n",
       "      <th>92</th>\n",
       "      <td>37</td>\n",
       "      <td>M</td>\n",
       "      <td>2016-08-15</td>\n",
       "      <td>43.51</td>\n",
       "      <td>NaN</td>\n",
       "      <td>61.49</td>\n",
       "      <td>no</td>\n",
       "      <td>0</td>\n",
       "      <td>previous</td>\n",
       "      <td>6481.5</td>\n",
       "      <td>ongoing</td>\n",
       "    </tr>\n",
       "    <tr>\n",
       "      <th>149</th>\n",
       "      <td>33</td>\n",
       "      <td>M</td>\n",
       "      <td>2018-03-05</td>\n",
       "      <td>125.91</td>\n",
       "      <td>78.81</td>\n",
       "      <td>136.30</td>\n",
       "      <td>no</td>\n",
       "      <td>0</td>\n",
       "      <td>previous</td>\n",
       "      <td>61.5</td>\n",
       "      <td>RA</td>\n",
       "    </tr>\n",
       "    <tr>\n",
       "      <th>203</th>\n",
       "      <td>37</td>\n",
       "      <td>M</td>\n",
       "      <td>2016-09-12</td>\n",
       "      <td>53.04</td>\n",
       "      <td>94.13</td>\n",
       "      <td>233.50</td>\n",
       "      <td>yes</td>\n",
       "      <td>0</td>\n",
       "      <td>current</td>\n",
       "      <td>10783.8</td>\n",
       "      <td>ongoing</td>\n",
       "    </tr>\n",
       "    <tr>\n",
       "      <th>224</th>\n",
       "      <td>39</td>\n",
       "      <td>M</td>\n",
       "      <td>2018-12-17</td>\n",
       "      <td>65.71</td>\n",
       "      <td>112.84</td>\n",
       "      <td>108.27</td>\n",
       "      <td>no</td>\n",
       "      <td>30</td>\n",
       "      <td>previous</td>\n",
       "      <td>54.0</td>\n",
       "      <td>ongoing</td>\n",
       "    </tr>\n",
       "    <tr>\n",
       "      <th>229</th>\n",
       "      <td>39</td>\n",
       "      <td>M</td>\n",
       "      <td>2017-12-04</td>\n",
       "      <td>44.41</td>\n",
       "      <td>48.65</td>\n",
       "      <td>NaN</td>\n",
       "      <td>no</td>\n",
       "      <td>20</td>\n",
       "      <td>never</td>\n",
       "      <td>91.5</td>\n",
       "      <td>ongoing</td>\n",
       "    </tr>\n",
       "    <tr>\n",
       "      <th>232</th>\n",
       "      <td>32</td>\n",
       "      <td>M</td>\n",
       "      <td>2018-08-20</td>\n",
       "      <td>90.55</td>\n",
       "      <td>144.32</td>\n",
       "      <td>NaN</td>\n",
       "      <td>yes</td>\n",
       "      <td>0</td>\n",
       "      <td>never</td>\n",
       "      <td>36.0</td>\n",
       "      <td>ongoing</td>\n",
       "    </tr>\n",
       "    <tr>\n",
       "      <th>236</th>\n",
       "      <td>32</td>\n",
       "      <td>M</td>\n",
       "      <td>2012-05-21</td>\n",
       "      <td>171.76</td>\n",
       "      <td>79.91</td>\n",
       "      <td>85.62</td>\n",
       "      <td>yes</td>\n",
       "      <td>30</td>\n",
       "      <td>never</td>\n",
       "      <td>1027.5</td>\n",
       "      <td>RA</td>\n",
       "    </tr>\n",
       "    <tr>\n",
       "      <th>263</th>\n",
       "      <td>34</td>\n",
       "      <td>M</td>\n",
       "      <td>2018-10-08</td>\n",
       "      <td>88.53</td>\n",
       "      <td>153.78</td>\n",
       "      <td>NaN</td>\n",
       "      <td>no</td>\n",
       "      <td>10</td>\n",
       "      <td>never</td>\n",
       "      <td>5614.5</td>\n",
       "      <td>RA</td>\n",
       "    </tr>\n",
       "    <tr>\n",
       "      <th>270</th>\n",
       "      <td>39</td>\n",
       "      <td>M</td>\n",
       "      <td>2019-01-07</td>\n",
       "      <td>90.04</td>\n",
       "      <td>33.39</td>\n",
       "      <td>149.34</td>\n",
       "      <td>yes</td>\n",
       "      <td>30</td>\n",
       "      <td>previous</td>\n",
       "      <td>81.0</td>\n",
       "      <td>ongoing</td>\n",
       "    </tr>\n",
       "    <tr>\n",
       "      <th>280</th>\n",
       "      <td>35</td>\n",
       "      <td>M</td>\n",
       "      <td>2018-12-18</td>\n",
       "      <td>34.83</td>\n",
       "      <td>74.05</td>\n",
       "      <td>8.46</td>\n",
       "      <td>no</td>\n",
       "      <td>0</td>\n",
       "      <td>previous</td>\n",
       "      <td>6546.0</td>\n",
       "      <td>IA</td>\n",
       "    </tr>\n",
       "    <tr>\n",
       "      <th>281</th>\n",
       "      <td>31</td>\n",
       "      <td>M</td>\n",
       "      <td>2019-02-18</td>\n",
       "      <td>83.78</td>\n",
       "      <td>86.19</td>\n",
       "      <td>80.13</td>\n",
       "      <td>yes</td>\n",
       "      <td>5</td>\n",
       "      <td>never</td>\n",
       "      <td>303.0</td>\n",
       "      <td>ongoing</td>\n",
       "    </tr>\n",
       "    <tr>\n",
       "      <th>292</th>\n",
       "      <td>36</td>\n",
       "      <td>M</td>\n",
       "      <td>2018-12-03</td>\n",
       "      <td>36.76</td>\n",
       "      <td>141.42</td>\n",
       "      <td>NaN</td>\n",
       "      <td>no</td>\n",
       "      <td>0</td>\n",
       "      <td>never</td>\n",
       "      <td>1425.0</td>\n",
       "      <td>ongoing</td>\n",
       "    </tr>\n",
       "    <tr>\n",
       "      <th>298</th>\n",
       "      <td>31</td>\n",
       "      <td>M</td>\n",
       "      <td>2018-12-10</td>\n",
       "      <td>49.97</td>\n",
       "      <td>90.49</td>\n",
       "      <td>70.52</td>\n",
       "      <td>yes</td>\n",
       "      <td>NaN</td>\n",
       "      <td>current</td>\n",
       "      <td>102.0</td>\n",
       "      <td>ongoing</td>\n",
       "    </tr>\n",
       "  </tbody>\n",
       "</table>\n",
       "</div>"
      ],
      "text/plain": [
       "     Age Sex Date_of_last_visit    CCP2    CCP3      RF Tenderness_in_hands  \\\n",
       "12    36   M         2017-11-13  139.85  130.69     NaN                  no   \n",
       "28    40   M         2019-02-18   33.49  495.78  161.25                 yes   \n",
       "60    31   M         2010-11-15  144.43   93.75   63.68                 yes   \n",
       "72    33   M         2018-12-03  182.67     NaN     NaN                 yes   \n",
       "92    37   M         2016-08-15   43.51     NaN   61.49                  no   \n",
       "149   33   M         2018-03-05  125.91   78.81  136.30                  no   \n",
       "203   37   M         2016-09-12   53.04   94.13  233.50                 yes   \n",
       "224   39   M         2018-12-17   65.71  112.84  108.27                  no   \n",
       "229   39   M         2017-12-04   44.41   48.65     NaN                  no   \n",
       "232   32   M         2018-08-20   90.55  144.32     NaN                 yes   \n",
       "236   32   M         2012-05-21  171.76   79.91   85.62                 yes   \n",
       "263   34   M         2018-10-08   88.53  153.78     NaN                  no   \n",
       "270   39   M         2019-01-07   90.04   33.39  149.34                 yes   \n",
       "280   35   M         2018-12-18   34.83   74.05    8.46                  no   \n",
       "281   31   M         2019-02-18   83.78   86.19   80.13                 yes   \n",
       "292   36   M         2018-12-03   36.76  141.42     NaN                  no   \n",
       "298   31   M         2018-12-10   49.97   90.49   70.52                 yes   \n",
       "\n",
       "     EMS Smoking_status    Score Diagnosis  \n",
       "12   120       previous     51.0   ongoing  \n",
       "28    20            NaN  20806.0   ongoing  \n",
       "60     2        current   1077.0        RA  \n",
       "72    10          never    105.0   ongoing  \n",
       "92     0       previous   6481.5   ongoing  \n",
       "149    0       previous     61.5        RA  \n",
       "203    0        current  10783.8   ongoing  \n",
       "224   30       previous     54.0   ongoing  \n",
       "229   20          never     91.5   ongoing  \n",
       "232    0          never     36.0   ongoing  \n",
       "236   30          never   1027.5        RA  \n",
       "263   10          never   5614.5        RA  \n",
       "270   30       previous     81.0   ongoing  \n",
       "280    0       previous   6546.0        IA  \n",
       "281    5          never    303.0   ongoing  \n",
       "292    0          never   1425.0   ongoing  \n",
       "298  NaN        current    102.0   ongoing  "
      ]
     },
     "execution_count": 45,
     "metadata": {},
     "output_type": "execute_result"
    }
   ],
   "source": [
    "(inova_df.Age>=30)&(inova_df.Sex=='M')\n",
    "\n",
    "# filtering before comma, : after comma indicates returning all columns\n",
    "inova_df.loc[(inova_df.Age>=30)&(inova_df.Sex=='M')&(inova_df.Age<=40),:] "
   ]
  },
  {
   "cell_type": "markdown",
   "metadata": {
    "slideshow": {
     "slide_type": "slide"
    }
   },
   "source": [
    "## Find Nulls"
   ]
  },
  {
   "cell_type": "code",
   "execution_count": 46,
   "metadata": {
    "ExecuteTime": {
     "end_time": "2020-04-14T18:28:14.558490Z",
     "start_time": "2020-04-14T18:28:14.544527Z"
    },
    "slideshow": {
     "slide_type": "fragment"
    }
   },
   "outputs": [
    {
     "data": {
      "text/html": [
       "<div>\n",
       "<style scoped>\n",
       "    .dataframe tbody tr th:only-of-type {\n",
       "        vertical-align: middle;\n",
       "    }\n",
       "\n",
       "    .dataframe tbody tr th {\n",
       "        vertical-align: top;\n",
       "    }\n",
       "\n",
       "    .dataframe thead th {\n",
       "        text-align: right;\n",
       "    }\n",
       "</style>\n",
       "<table border=\"1\" class=\"dataframe\">\n",
       "  <thead>\n",
       "    <tr style=\"text-align: right;\">\n",
       "      <th></th>\n",
       "      <th>Age</th>\n",
       "      <th>Sex</th>\n",
       "      <th>Date_of_last_visit</th>\n",
       "      <th>CCP2</th>\n",
       "      <th>CCP3</th>\n",
       "      <th>RF</th>\n",
       "      <th>Tenderness_in_hands</th>\n",
       "      <th>EMS</th>\n",
       "      <th>Smoking_status</th>\n",
       "      <th>Score</th>\n",
       "      <th>Diagnosis</th>\n",
       "    </tr>\n",
       "  </thead>\n",
       "  <tbody>\n",
       "  </tbody>\n",
       "</table>\n",
       "</div>"
      ],
      "text/plain": [
       "Empty DataFrame\n",
       "Columns: [Age, Sex, Date_of_last_visit, CCP2, CCP3, RF, Tenderness_in_hands, EMS, Smoking_status, Score, Diagnosis]\n",
       "Index: []"
      ]
     },
     "execution_count": 46,
     "metadata": {},
     "output_type": "execute_result"
    }
   ],
   "source": [
    "# as we saw with inova_df.info() there are no nulls in the Age column... \n",
    "# but if there were this would find the rows where age is null\n",
    "inova_df[inova_df.Age.isnull()]"
   ]
  },
  {
   "cell_type": "code",
   "execution_count": 47,
   "metadata": {
    "ExecuteTime": {
     "end_time": "2020-04-14T18:28:14.590404Z",
     "start_time": "2020-04-14T18:28:14.560484Z"
    }
   },
   "outputs": [
    {
     "data": {
      "text/html": [
       "<div>\n",
       "<style scoped>\n",
       "    .dataframe tbody tr th:only-of-type {\n",
       "        vertical-align: middle;\n",
       "    }\n",
       "\n",
       "    .dataframe tbody tr th {\n",
       "        vertical-align: top;\n",
       "    }\n",
       "\n",
       "    .dataframe thead th {\n",
       "        text-align: right;\n",
       "    }\n",
       "</style>\n",
       "<table border=\"1\" class=\"dataframe\">\n",
       "  <thead>\n",
       "    <tr style=\"text-align: right;\">\n",
       "      <th></th>\n",
       "      <th>Age</th>\n",
       "      <th>Sex</th>\n",
       "      <th>Date_of_last_visit</th>\n",
       "      <th>CCP2</th>\n",
       "      <th>CCP3</th>\n",
       "      <th>RF</th>\n",
       "      <th>Tenderness_in_hands</th>\n",
       "      <th>EMS</th>\n",
       "      <th>Smoking_status</th>\n",
       "      <th>Score</th>\n",
       "      <th>Diagnosis</th>\n",
       "    </tr>\n",
       "  </thead>\n",
       "  <tbody>\n",
       "    <tr>\n",
       "      <th>10</th>\n",
       "      <td>43</td>\n",
       "      <td>F</td>\n",
       "      <td>2018-08-20</td>\n",
       "      <td>NaN</td>\n",
       "      <td>68.78</td>\n",
       "      <td>207.17</td>\n",
       "      <td>no</td>\n",
       "      <td>0</td>\n",
       "      <td>never</td>\n",
       "      <td>1310.0</td>\n",
       "      <td>RA</td>\n",
       "    </tr>\n",
       "    <tr>\n",
       "      <th>21</th>\n",
       "      <td>71</td>\n",
       "      <td>F</td>\n",
       "      <td>2018-12-03</td>\n",
       "      <td>NaN</td>\n",
       "      <td>172.54</td>\n",
       "      <td>65.52</td>\n",
       "      <td>yes</td>\n",
       "      <td>30</td>\n",
       "      <td>never</td>\n",
       "      <td>1929.0</td>\n",
       "      <td>ongoing</td>\n",
       "    </tr>\n",
       "    <tr>\n",
       "      <th>23</th>\n",
       "      <td>65</td>\n",
       "      <td>M</td>\n",
       "      <td>2018-08-20</td>\n",
       "      <td>NaN</td>\n",
       "      <td>159.40</td>\n",
       "      <td>19.67</td>\n",
       "      <td>no</td>\n",
       "      <td>120</td>\n",
       "      <td>never</td>\n",
       "      <td>171.0</td>\n",
       "      <td>ongoing</td>\n",
       "    </tr>\n",
       "    <tr>\n",
       "      <th>35</th>\n",
       "      <td>72</td>\n",
       "      <td>F</td>\n",
       "      <td>2019-01-21</td>\n",
       "      <td>NaN</td>\n",
       "      <td>259.23</td>\n",
       "      <td>158.39</td>\n",
       "      <td>yes</td>\n",
       "      <td>0</td>\n",
       "      <td>never</td>\n",
       "      <td>70.5</td>\n",
       "      <td>ongoing</td>\n",
       "    </tr>\n",
       "    <tr>\n",
       "      <th>36</th>\n",
       "      <td>35</td>\n",
       "      <td>F</td>\n",
       "      <td>2018-11-26</td>\n",
       "      <td>NaN</td>\n",
       "      <td>14.43</td>\n",
       "      <td>100.00</td>\n",
       "      <td>no</td>\n",
       "      <td>60</td>\n",
       "      <td>previous</td>\n",
       "      <td>67.5</td>\n",
       "      <td>ongoing</td>\n",
       "    </tr>\n",
       "    <tr>\n",
       "      <th>...</th>\n",
       "      <td>...</td>\n",
       "      <td>...</td>\n",
       "      <td>...</td>\n",
       "      <td>...</td>\n",
       "      <td>...</td>\n",
       "      <td>...</td>\n",
       "      <td>...</td>\n",
       "      <td>...</td>\n",
       "      <td>...</td>\n",
       "      <td>...</td>\n",
       "      <td>...</td>\n",
       "    </tr>\n",
       "    <tr>\n",
       "      <th>323</th>\n",
       "      <td>60</td>\n",
       "      <td>F</td>\n",
       "      <td>2018-12-31</td>\n",
       "      <td>NaN</td>\n",
       "      <td>176.22</td>\n",
       "      <td>45.94</td>\n",
       "      <td>no</td>\n",
       "      <td>60</td>\n",
       "      <td>previous</td>\n",
       "      <td>10586.5</td>\n",
       "      <td>ongoing</td>\n",
       "    </tr>\n",
       "    <tr>\n",
       "      <th>325</th>\n",
       "      <td>32</td>\n",
       "      <td>F</td>\n",
       "      <td>2017-11-06</td>\n",
       "      <td>NaN</td>\n",
       "      <td>29.34</td>\n",
       "      <td>199.68</td>\n",
       "      <td>no</td>\n",
       "      <td>30</td>\n",
       "      <td>current</td>\n",
       "      <td>9990.4</td>\n",
       "      <td>ongoing</td>\n",
       "    </tr>\n",
       "    <tr>\n",
       "      <th>338</th>\n",
       "      <td>36</td>\n",
       "      <td>F</td>\n",
       "      <td>2018-01-22</td>\n",
       "      <td>NaN</td>\n",
       "      <td>101.44</td>\n",
       "      <td>NaN</td>\n",
       "      <td>no</td>\n",
       "      <td>0</td>\n",
       "      <td>never</td>\n",
       "      <td>15039.0</td>\n",
       "      <td>ongoing</td>\n",
       "    </tr>\n",
       "    <tr>\n",
       "      <th>340</th>\n",
       "      <td>74</td>\n",
       "      <td>F</td>\n",
       "      <td>2016-09-26</td>\n",
       "      <td>NaN</td>\n",
       "      <td>55.21</td>\n",
       "      <td>312.00</td>\n",
       "      <td>no</td>\n",
       "      <td>30</td>\n",
       "      <td>never</td>\n",
       "      <td>76.5</td>\n",
       "      <td>ongoing</td>\n",
       "    </tr>\n",
       "    <tr>\n",
       "      <th>342</th>\n",
       "      <td>65</td>\n",
       "      <td>F</td>\n",
       "      <td>2016-02-08</td>\n",
       "      <td>NaN</td>\n",
       "      <td>68.28</td>\n",
       "      <td>NaN</td>\n",
       "      <td>yes</td>\n",
       "      <td>5</td>\n",
       "      <td>never</td>\n",
       "      <td>72.0</td>\n",
       "      <td>ongoing</td>\n",
       "    </tr>\n",
       "  </tbody>\n",
       "</table>\n",
       "<p>46 rows × 11 columns</p>\n",
       "</div>"
      ],
      "text/plain": [
       "     Age Sex Date_of_last_visit  CCP2    CCP3      RF Tenderness_in_hands  \\\n",
       "10    43   F         2018-08-20   NaN   68.78  207.17                  no   \n",
       "21    71   F         2018-12-03   NaN  172.54   65.52                 yes   \n",
       "23    65   M         2018-08-20   NaN  159.40   19.67                  no   \n",
       "35    72   F         2019-01-21   NaN  259.23  158.39                 yes   \n",
       "36    35   F         2018-11-26   NaN   14.43  100.00                  no   \n",
       "..   ...  ..                ...   ...     ...     ...                 ...   \n",
       "323   60   F         2018-12-31   NaN  176.22   45.94                  no   \n",
       "325   32   F         2017-11-06   NaN   29.34  199.68                  no   \n",
       "338   36   F         2018-01-22   NaN  101.44     NaN                  no   \n",
       "340   74   F         2016-09-26   NaN   55.21  312.00                  no   \n",
       "342   65   F         2016-02-08   NaN   68.28     NaN                 yes   \n",
       "\n",
       "     EMS Smoking_status    Score Diagnosis  \n",
       "10     0          never   1310.0        RA  \n",
       "21    30          never   1929.0   ongoing  \n",
       "23   120          never    171.0   ongoing  \n",
       "35     0          never     70.5   ongoing  \n",
       "36    60       previous     67.5   ongoing  \n",
       "..   ...            ...      ...       ...  \n",
       "323   60       previous  10586.5   ongoing  \n",
       "325   30        current   9990.4   ongoing  \n",
       "338    0          never  15039.0   ongoing  \n",
       "340   30          never     76.5   ongoing  \n",
       "342    5          never     72.0   ongoing  \n",
       "\n",
       "[46 rows x 11 columns]"
      ]
     },
     "execution_count": 47,
     "metadata": {},
     "output_type": "execute_result"
    }
   ],
   "source": [
    "inova_df[inova_df.CCP2.isnull()] # note CCP2 column"
   ]
  },
  {
   "cell_type": "markdown",
   "metadata": {
    "slideshow": {
     "slide_type": "slide"
    }
   },
   "source": [
    "## Fill nulls"
   ]
  },
  {
   "cell_type": "code",
   "execution_count": 48,
   "metadata": {
    "ExecuteTime": {
     "end_time": "2020-04-14T18:28:14.598383Z",
     "start_time": "2020-04-14T18:28:14.592399Z"
    },
    "slideshow": {
     "slide_type": "fragment"
    }
   },
   "outputs": [],
   "source": [
    "null_df = pd.DataFrame([1,2,4,np.nan], columns = ['column1'])"
   ]
  },
  {
   "cell_type": "code",
   "execution_count": 49,
   "metadata": {
    "ExecuteTime": {
     "end_time": "2020-04-14T18:28:14.612345Z",
     "start_time": "2020-04-14T18:28:14.600377Z"
    },
    "slideshow": {
     "slide_type": "fragment"
    }
   },
   "outputs": [
    {
     "data": {
      "text/html": [
       "<div>\n",
       "<style scoped>\n",
       "    .dataframe tbody tr th:only-of-type {\n",
       "        vertical-align: middle;\n",
       "    }\n",
       "\n",
       "    .dataframe tbody tr th {\n",
       "        vertical-align: top;\n",
       "    }\n",
       "\n",
       "    .dataframe thead th {\n",
       "        text-align: right;\n",
       "    }\n",
       "</style>\n",
       "<table border=\"1\" class=\"dataframe\">\n",
       "  <thead>\n",
       "    <tr style=\"text-align: right;\">\n",
       "      <th></th>\n",
       "      <th>column1</th>\n",
       "    </tr>\n",
       "  </thead>\n",
       "  <tbody>\n",
       "    <tr>\n",
       "      <th>0</th>\n",
       "      <td>1.0</td>\n",
       "    </tr>\n",
       "    <tr>\n",
       "      <th>1</th>\n",
       "      <td>2.0</td>\n",
       "    </tr>\n",
       "    <tr>\n",
       "      <th>2</th>\n",
       "      <td>4.0</td>\n",
       "    </tr>\n",
       "    <tr>\n",
       "      <th>3</th>\n",
       "      <td>NaN</td>\n",
       "    </tr>\n",
       "  </tbody>\n",
       "</table>\n",
       "</div>"
      ],
      "text/plain": [
       "   column1\n",
       "0      1.0\n",
       "1      2.0\n",
       "2      4.0\n",
       "3      NaN"
      ]
     },
     "execution_count": 49,
     "metadata": {},
     "output_type": "execute_result"
    }
   ],
   "source": [
    "null_df"
   ]
  },
  {
   "cell_type": "code",
   "execution_count": 50,
   "metadata": {
    "ExecuteTime": {
     "end_time": "2020-04-14T18:28:14.622320Z",
     "start_time": "2020-04-14T18:28:14.614340Z"
    },
    "slideshow": {
     "slide_type": "fragment"
    }
   },
   "outputs": [
    {
     "data": {
      "text/plain": [
       "0       1.0\n",
       "1       2.0\n",
       "2       4.0\n",
       "3    1000.0\n",
       "Name: column1, dtype: float64"
      ]
     },
     "execution_count": 50,
     "metadata": {},
     "output_type": "execute_result"
    }
   ],
   "source": [
    "# you can also fill nulls with a value or string\n",
    "null_df.column1.fillna(1000)"
   ]
  },
  {
   "cell_type": "code",
   "execution_count": 51,
   "metadata": {
    "ExecuteTime": {
     "end_time": "2020-04-14T18:28:14.634287Z",
     "start_time": "2020-04-14T18:28:14.624323Z"
    },
    "slideshow": {
     "slide_type": "subslide"
    }
   },
   "outputs": [
    {
     "data": {
      "text/html": [
       "<div>\n",
       "<style scoped>\n",
       "    .dataframe tbody tr th:only-of-type {\n",
       "        vertical-align: middle;\n",
       "    }\n",
       "\n",
       "    .dataframe tbody tr th {\n",
       "        vertical-align: top;\n",
       "    }\n",
       "\n",
       "    .dataframe thead th {\n",
       "        text-align: right;\n",
       "    }\n",
       "</style>\n",
       "<table border=\"1\" class=\"dataframe\">\n",
       "  <thead>\n",
       "    <tr style=\"text-align: right;\">\n",
       "      <th></th>\n",
       "      <th>column1</th>\n",
       "    </tr>\n",
       "  </thead>\n",
       "  <tbody>\n",
       "    <tr>\n",
       "      <th>0</th>\n",
       "      <td>1.0</td>\n",
       "    </tr>\n",
       "    <tr>\n",
       "      <th>1</th>\n",
       "      <td>2.0</td>\n",
       "    </tr>\n",
       "    <tr>\n",
       "      <th>2</th>\n",
       "      <td>4.0</td>\n",
       "    </tr>\n",
       "    <tr>\n",
       "      <th>3</th>\n",
       "      <td>NaN</td>\n",
       "    </tr>\n",
       "  </tbody>\n",
       "</table>\n",
       "</div>"
      ],
      "text/plain": [
       "   column1\n",
       "0      1.0\n",
       "1      2.0\n",
       "2      4.0\n",
       "3      NaN"
      ]
     },
     "execution_count": 51,
     "metadata": {},
     "output_type": "execute_result"
    }
   ],
   "source": [
    "# fillna does not do it inplace unless you specify\n",
    "null_df"
   ]
  },
  {
   "cell_type": "code",
   "execution_count": 52,
   "metadata": {
    "ExecuteTime": {
     "end_time": "2020-04-14T18:28:14.647251Z",
     "start_time": "2020-04-14T18:28:14.636281Z"
    },
    "slideshow": {
     "slide_type": "subslide"
    }
   },
   "outputs": [
    {
     "data": {
      "text/html": [
       "<div>\n",
       "<style scoped>\n",
       "    .dataframe tbody tr th:only-of-type {\n",
       "        vertical-align: middle;\n",
       "    }\n",
       "\n",
       "    .dataframe tbody tr th {\n",
       "        vertical-align: top;\n",
       "    }\n",
       "\n",
       "    .dataframe thead th {\n",
       "        text-align: right;\n",
       "    }\n",
       "</style>\n",
       "<table border=\"1\" class=\"dataframe\">\n",
       "  <thead>\n",
       "    <tr style=\"text-align: right;\">\n",
       "      <th></th>\n",
       "      <th>column1</th>\n",
       "    </tr>\n",
       "  </thead>\n",
       "  <tbody>\n",
       "    <tr>\n",
       "      <th>0</th>\n",
       "      <td>1</td>\n",
       "    </tr>\n",
       "    <tr>\n",
       "      <th>1</th>\n",
       "      <td>2</td>\n",
       "    </tr>\n",
       "    <tr>\n",
       "      <th>2</th>\n",
       "      <td>4</td>\n",
       "    </tr>\n",
       "    <tr>\n",
       "      <th>3</th>\n",
       "      <td>random_string</td>\n",
       "    </tr>\n",
       "  </tbody>\n",
       "</table>\n",
       "</div>"
      ],
      "text/plain": [
       "         column1\n",
       "0              1\n",
       "1              2\n",
       "2              4\n",
       "3  random_string"
      ]
     },
     "execution_count": 52,
     "metadata": {},
     "output_type": "execute_result"
    }
   ],
   "source": [
    "null_df.fillna('random_string')"
   ]
  },
  {
   "cell_type": "code",
   "execution_count": 53,
   "metadata": {
    "ExecuteTime": {
     "end_time": "2020-04-14T18:28:14.662221Z",
     "start_time": "2020-04-14T18:28:14.650244Z"
    },
    "slideshow": {
     "slide_type": "fragment"
    }
   },
   "outputs": [
    {
     "data": {
      "text/html": [
       "<div>\n",
       "<style scoped>\n",
       "    .dataframe tbody tr th:only-of-type {\n",
       "        vertical-align: middle;\n",
       "    }\n",
       "\n",
       "    .dataframe tbody tr th {\n",
       "        vertical-align: top;\n",
       "    }\n",
       "\n",
       "    .dataframe thead th {\n",
       "        text-align: right;\n",
       "    }\n",
       "</style>\n",
       "<table border=\"1\" class=\"dataframe\">\n",
       "  <thead>\n",
       "    <tr style=\"text-align: right;\">\n",
       "      <th></th>\n",
       "      <th>column1</th>\n",
       "    </tr>\n",
       "  </thead>\n",
       "  <tbody>\n",
       "    <tr>\n",
       "      <th>0</th>\n",
       "      <td>1.0</td>\n",
       "    </tr>\n",
       "    <tr>\n",
       "      <th>1</th>\n",
       "      <td>2.0</td>\n",
       "    </tr>\n",
       "    <tr>\n",
       "      <th>2</th>\n",
       "      <td>4.0</td>\n",
       "    </tr>\n",
       "    <tr>\n",
       "      <th>3</th>\n",
       "      <td>2.0</td>\n",
       "    </tr>\n",
       "  </tbody>\n",
       "</table>\n",
       "</div>"
      ],
      "text/plain": [
       "   column1\n",
       "0      1.0\n",
       "1      2.0\n",
       "2      4.0\n",
       "3      2.0"
      ]
     },
     "execution_count": 53,
     "metadata": {},
     "output_type": "execute_result"
    }
   ],
   "source": [
    "# you can also fill null with the median or mean value of the column\n",
    "null_df.fillna(null_df.column1.median(), inplace=True)\n",
    "null_df"
   ]
  },
  {
   "cell_type": "markdown",
   "metadata": {
    "slideshow": {
     "slide_type": "slide"
    }
   },
   "source": [
    "## Drop nulls"
   ]
  },
  {
   "cell_type": "code",
   "execution_count": 54,
   "metadata": {
    "ExecuteTime": {
     "end_time": "2020-04-14T18:28:14.679166Z",
     "start_time": "2020-04-14T18:28:14.666207Z"
    },
    "slideshow": {
     "slide_type": "fragment"
    }
   },
   "outputs": [
    {
     "data": {
      "text/html": [
       "<div>\n",
       "<style scoped>\n",
       "    .dataframe tbody tr th:only-of-type {\n",
       "        vertical-align: middle;\n",
       "    }\n",
       "\n",
       "    .dataframe tbody tr th {\n",
       "        vertical-align: top;\n",
       "    }\n",
       "\n",
       "    .dataframe thead th {\n",
       "        text-align: right;\n",
       "    }\n",
       "</style>\n",
       "<table border=\"1\" class=\"dataframe\">\n",
       "  <thead>\n",
       "    <tr style=\"text-align: right;\">\n",
       "      <th></th>\n",
       "      <th>column1</th>\n",
       "    </tr>\n",
       "  </thead>\n",
       "  <tbody>\n",
       "    <tr>\n",
       "      <th>0</th>\n",
       "      <td>1.0</td>\n",
       "    </tr>\n",
       "    <tr>\n",
       "      <th>1</th>\n",
       "      <td>2.0</td>\n",
       "    </tr>\n",
       "    <tr>\n",
       "      <th>2</th>\n",
       "      <td>4.0</td>\n",
       "    </tr>\n",
       "    <tr>\n",
       "      <th>3</th>\n",
       "      <td>NaN</td>\n",
       "    </tr>\n",
       "  </tbody>\n",
       "</table>\n",
       "</div>"
      ],
      "text/plain": [
       "   column1\n",
       "0      1.0\n",
       "1      2.0\n",
       "2      4.0\n",
       "3      NaN"
      ]
     },
     "execution_count": 54,
     "metadata": {},
     "output_type": "execute_result"
    }
   ],
   "source": [
    "null_df = pd.DataFrame([1,2,4,np.nan], columns = ['column1'])\n",
    "null_df"
   ]
  },
  {
   "cell_type": "code",
   "execution_count": 55,
   "metadata": {
    "ExecuteTime": {
     "end_time": "2020-04-14T18:28:14.694126Z",
     "start_time": "2020-04-14T18:28:14.681171Z"
    },
    "slideshow": {
     "slide_type": "fragment"
    }
   },
   "outputs": [
    {
     "data": {
      "text/html": [
       "<div>\n",
       "<style scoped>\n",
       "    .dataframe tbody tr th:only-of-type {\n",
       "        vertical-align: middle;\n",
       "    }\n",
       "\n",
       "    .dataframe tbody tr th {\n",
       "        vertical-align: top;\n",
       "    }\n",
       "\n",
       "    .dataframe thead th {\n",
       "        text-align: right;\n",
       "    }\n",
       "</style>\n",
       "<table border=\"1\" class=\"dataframe\">\n",
       "  <thead>\n",
       "    <tr style=\"text-align: right;\">\n",
       "      <th></th>\n",
       "      <th>column1</th>\n",
       "    </tr>\n",
       "  </thead>\n",
       "  <tbody>\n",
       "    <tr>\n",
       "      <th>0</th>\n",
       "      <td>1.0</td>\n",
       "    </tr>\n",
       "    <tr>\n",
       "      <th>1</th>\n",
       "      <td>2.0</td>\n",
       "    </tr>\n",
       "    <tr>\n",
       "      <th>2</th>\n",
       "      <td>4.0</td>\n",
       "    </tr>\n",
       "  </tbody>\n",
       "</table>\n",
       "</div>"
      ],
      "text/plain": [
       "   column1\n",
       "0      1.0\n",
       "1      2.0\n",
       "2      4.0"
      ]
     },
     "execution_count": 55,
     "metadata": {},
     "output_type": "execute_result"
    }
   ],
   "source": [
    "null_df.dropna(how = 'any')"
   ]
  },
  {
   "cell_type": "code",
   "execution_count": 56,
   "metadata": {
    "ExecuteTime": {
     "end_time": "2020-04-14T18:28:14.706108Z",
     "start_time": "2020-04-14T18:28:14.696121Z"
    },
    "slideshow": {
     "slide_type": "fragment"
    }
   },
   "outputs": [
    {
     "data": {
      "text/html": [
       "<div>\n",
       "<style scoped>\n",
       "    .dataframe tbody tr th:only-of-type {\n",
       "        vertical-align: middle;\n",
       "    }\n",
       "\n",
       "    .dataframe tbody tr th {\n",
       "        vertical-align: top;\n",
       "    }\n",
       "\n",
       "    .dataframe thead th {\n",
       "        text-align: right;\n",
       "    }\n",
       "</style>\n",
       "<table border=\"1\" class=\"dataframe\">\n",
       "  <thead>\n",
       "    <tr style=\"text-align: right;\">\n",
       "      <th></th>\n",
       "      <th>column1</th>\n",
       "    </tr>\n",
       "  </thead>\n",
       "  <tbody>\n",
       "    <tr>\n",
       "      <th>0</th>\n",
       "      <td>False</td>\n",
       "    </tr>\n",
       "    <tr>\n",
       "      <th>1</th>\n",
       "      <td>False</td>\n",
       "    </tr>\n",
       "    <tr>\n",
       "      <th>2</th>\n",
       "      <td>False</td>\n",
       "    </tr>\n",
       "    <tr>\n",
       "      <th>3</th>\n",
       "      <td>True</td>\n",
       "    </tr>\n",
       "  </tbody>\n",
       "</table>\n",
       "</div>"
      ],
      "text/plain": [
       "   column1\n",
       "0    False\n",
       "1    False\n",
       "2    False\n",
       "3     True"
      ]
     },
     "execution_count": 56,
     "metadata": {},
     "output_type": "execute_result"
    }
   ],
   "source": [
    "# .isnull() and .notnull() do opposite things\n",
    "null_df.isnull()"
   ]
  },
  {
   "cell_type": "code",
   "execution_count": 57,
   "metadata": {
    "ExecuteTime": {
     "end_time": "2020-04-14T18:28:14.722051Z",
     "start_time": "2020-04-14T18:28:14.708089Z"
    },
    "slideshow": {
     "slide_type": "fragment"
    }
   },
   "outputs": [
    {
     "data": {
      "text/html": [
       "<div>\n",
       "<style scoped>\n",
       "    .dataframe tbody tr th:only-of-type {\n",
       "        vertical-align: middle;\n",
       "    }\n",
       "\n",
       "    .dataframe tbody tr th {\n",
       "        vertical-align: top;\n",
       "    }\n",
       "\n",
       "    .dataframe thead th {\n",
       "        text-align: right;\n",
       "    }\n",
       "</style>\n",
       "<table border=\"1\" class=\"dataframe\">\n",
       "  <thead>\n",
       "    <tr style=\"text-align: right;\">\n",
       "      <th></th>\n",
       "      <th>column1</th>\n",
       "    </tr>\n",
       "  </thead>\n",
       "  <tbody>\n",
       "    <tr>\n",
       "      <th>0</th>\n",
       "      <td>True</td>\n",
       "    </tr>\n",
       "    <tr>\n",
       "      <th>1</th>\n",
       "      <td>True</td>\n",
       "    </tr>\n",
       "    <tr>\n",
       "      <th>2</th>\n",
       "      <td>True</td>\n",
       "    </tr>\n",
       "    <tr>\n",
       "      <th>3</th>\n",
       "      <td>False</td>\n",
       "    </tr>\n",
       "  </tbody>\n",
       "</table>\n",
       "</div>"
      ],
      "text/plain": [
       "   column1\n",
       "0     True\n",
       "1     True\n",
       "2     True\n",
       "3    False"
      ]
     },
     "execution_count": 57,
     "metadata": {},
     "output_type": "execute_result"
    }
   ],
   "source": [
    "null_df.notnull()"
   ]
  },
  {
   "cell_type": "markdown",
   "metadata": {
    "slideshow": {
     "slide_type": "slide"
    }
   },
   "source": [
    "## Groupby"
   ]
  },
  {
   "cell_type": "code",
   "execution_count": 58,
   "metadata": {
    "ExecuteTime": {
     "end_time": "2020-04-14T18:28:14.741997Z",
     "start_time": "2020-04-14T18:28:14.724047Z"
    },
    "slideshow": {
     "slide_type": "fragment"
    }
   },
   "outputs": [
    {
     "data": {
      "text/html": [
       "<div>\n",
       "<style scoped>\n",
       "    .dataframe tbody tr th:only-of-type {\n",
       "        vertical-align: middle;\n",
       "    }\n",
       "\n",
       "    .dataframe tbody tr th {\n",
       "        vertical-align: top;\n",
       "    }\n",
       "\n",
       "    .dataframe thead th {\n",
       "        text-align: right;\n",
       "    }\n",
       "</style>\n",
       "<table border=\"1\" class=\"dataframe\">\n",
       "  <thead>\n",
       "    <tr style=\"text-align: right;\">\n",
       "      <th></th>\n",
       "      <th>Age</th>\n",
       "      <th>Date_of_last_visit</th>\n",
       "      <th>CCP2</th>\n",
       "      <th>CCP3</th>\n",
       "      <th>RF</th>\n",
       "      <th>Tenderness_in_hands</th>\n",
       "      <th>EMS</th>\n",
       "      <th>Smoking_status</th>\n",
       "      <th>Score</th>\n",
       "      <th>Diagnosis</th>\n",
       "    </tr>\n",
       "    <tr>\n",
       "      <th>Sex</th>\n",
       "      <th></th>\n",
       "      <th></th>\n",
       "      <th></th>\n",
       "      <th></th>\n",
       "      <th></th>\n",
       "      <th></th>\n",
       "      <th></th>\n",
       "      <th></th>\n",
       "      <th></th>\n",
       "      <th></th>\n",
       "    </tr>\n",
       "  </thead>\n",
       "  <tbody>\n",
       "    <tr>\n",
       "      <th>F</th>\n",
       "      <td>244</td>\n",
       "      <td>244</td>\n",
       "      <td>211</td>\n",
       "      <td>220</td>\n",
       "      <td>208</td>\n",
       "      <td>244</td>\n",
       "      <td>236</td>\n",
       "      <td>238</td>\n",
       "      <td>244</td>\n",
       "      <td>244</td>\n",
       "    </tr>\n",
       "    <tr>\n",
       "      <th>M</th>\n",
       "      <td>103</td>\n",
       "      <td>103</td>\n",
       "      <td>90</td>\n",
       "      <td>94</td>\n",
       "      <td>82</td>\n",
       "      <td>103</td>\n",
       "      <td>100</td>\n",
       "      <td>102</td>\n",
       "      <td>102</td>\n",
       "      <td>103</td>\n",
       "    </tr>\n",
       "  </tbody>\n",
       "</table>\n",
       "</div>"
      ],
      "text/plain": [
       "     Age  Date_of_last_visit  CCP2  CCP3   RF  Tenderness_in_hands  EMS  \\\n",
       "Sex                                                                       \n",
       "F    244                 244   211   220  208                  244  236   \n",
       "M    103                 103    90    94   82                  103  100   \n",
       "\n",
       "     Smoking_status  Score  Diagnosis  \n",
       "Sex                                    \n",
       "F               238    244        244  \n",
       "M               102    102        103  "
      ]
     },
     "execution_count": 58,
     "metadata": {},
     "output_type": "execute_result"
    }
   ],
   "source": [
    "inova_df.groupby('Sex').count()"
   ]
  },
  {
   "cell_type": "code",
   "execution_count": 59,
   "metadata": {
    "ExecuteTime": {
     "end_time": "2020-04-14T18:33:08.067221Z",
     "start_time": "2020-04-14T18:33:08.058249Z"
    }
   },
   "outputs": [
    {
     "data": {
      "text/plain": [
       "Index(['Age', 'Sex', 'Date_of_last_visit', 'CCP2', 'CCP3', 'RF',\n",
       "       'Tenderness_in_hands', 'EMS', 'Smoking_status', 'Score', 'Diagnosis'],\n",
       "      dtype='object')"
      ]
     },
     "execution_count": 59,
     "metadata": {},
     "output_type": "execute_result"
    }
   ],
   "source": [
    "inova_df.columns"
   ]
  },
  {
   "cell_type": "code",
   "execution_count": 60,
   "metadata": {
    "ExecuteTime": {
     "end_time": "2020-04-14T18:33:16.519592Z",
     "start_time": "2020-04-14T18:33:16.491683Z"
    },
    "slideshow": {
     "slide_type": "subslide"
    }
   },
   "outputs": [
    {
     "data": {
      "text/html": [
       "<div>\n",
       "<style scoped>\n",
       "    .dataframe tbody tr th:only-of-type {\n",
       "        vertical-align: middle;\n",
       "    }\n",
       "\n",
       "    .dataframe tbody tr th {\n",
       "        vertical-align: top;\n",
       "    }\n",
       "\n",
       "    .dataframe thead th {\n",
       "        text-align: right;\n",
       "    }\n",
       "</style>\n",
       "<table border=\"1\" class=\"dataframe\">\n",
       "  <thead>\n",
       "    <tr style=\"text-align: right;\">\n",
       "      <th></th>\n",
       "      <th>Age</th>\n",
       "      <th>CCP2</th>\n",
       "      <th>CCP3</th>\n",
       "      <th>RF</th>\n",
       "      <th>Score</th>\n",
       "    </tr>\n",
       "    <tr>\n",
       "      <th>Smoking_status</th>\n",
       "      <th></th>\n",
       "      <th></th>\n",
       "      <th></th>\n",
       "      <th></th>\n",
       "      <th></th>\n",
       "    </tr>\n",
       "  </thead>\n",
       "  <tbody>\n",
       "    <tr>\n",
       "      <th>current</th>\n",
       "      <td>47.923</td>\n",
       "      <td>96.828</td>\n",
       "      <td>109.119</td>\n",
       "      <td>99.627</td>\n",
       "      <td>16136.583</td>\n",
       "    </tr>\n",
       "    <tr>\n",
       "      <th>never</th>\n",
       "      <td>48.250</td>\n",
       "      <td>99.703</td>\n",
       "      <td>94.935</td>\n",
       "      <td>104.229</td>\n",
       "      <td>12654.876</td>\n",
       "    </tr>\n",
       "    <tr>\n",
       "      <th>previous</th>\n",
       "      <td>47.314</td>\n",
       "      <td>95.550</td>\n",
       "      <td>95.526</td>\n",
       "      <td>96.822</td>\n",
       "      <td>21098.506</td>\n",
       "    </tr>\n",
       "  </tbody>\n",
       "</table>\n",
       "</div>"
      ],
      "text/plain": [
       "                   Age    CCP2     CCP3       RF      Score\n",
       "Smoking_status                                             \n",
       "current         47.923  96.828  109.119   99.627  16136.583\n",
       "never           48.250  99.703   94.935  104.229  12654.876\n",
       "previous        47.314  95.550   95.526   96.822  21098.506"
      ]
     },
     "execution_count": 60,
     "metadata": {},
     "output_type": "execute_result"
    }
   ],
   "source": [
    "# How to groupby column and apply a function like sum, count, or mean\n",
    "inova_df.groupby(['Smoking_status']).mean()"
   ]
  },
  {
   "cell_type": "code",
   "execution_count": 62,
   "metadata": {
    "ExecuteTime": {
     "end_time": "2020-04-14T18:33:59.377682Z",
     "start_time": "2020-04-14T18:33:59.305865Z"
    },
    "slideshow": {
     "slide_type": "subslide"
    }
   },
   "outputs": [
    {
     "data": {
      "text/html": [
       "<div>\n",
       "<style scoped>\n",
       "    .dataframe tbody tr th:only-of-type {\n",
       "        vertical-align: middle;\n",
       "    }\n",
       "\n",
       "    .dataframe tbody tr th {\n",
       "        vertical-align: top;\n",
       "    }\n",
       "\n",
       "    .dataframe thead th {\n",
       "        text-align: right;\n",
       "    }\n",
       "</style>\n",
       "<table border=\"1\" class=\"dataframe\">\n",
       "  <thead>\n",
       "    <tr style=\"text-align: right;\">\n",
       "      <th></th>\n",
       "      <th></th>\n",
       "      <th>CCP2</th>\n",
       "      <th>CCP3</th>\n",
       "      <th>RF</th>\n",
       "    </tr>\n",
       "    <tr>\n",
       "      <th>Smoking_status</th>\n",
       "      <th>Age</th>\n",
       "      <th></th>\n",
       "      <th></th>\n",
       "      <th></th>\n",
       "    </tr>\n",
       "  </thead>\n",
       "  <tbody>\n",
       "    <tr>\n",
       "      <th rowspan=\"5\" valign=\"top\">current</th>\n",
       "      <th>18</th>\n",
       "      <td>34.870</td>\n",
       "      <td>89.560</td>\n",
       "      <td>53.920</td>\n",
       "    </tr>\n",
       "    <tr>\n",
       "      <th>19</th>\n",
       "      <td>65.875</td>\n",
       "      <td>NaN</td>\n",
       "      <td>103.270</td>\n",
       "    </tr>\n",
       "    <tr>\n",
       "      <th>20</th>\n",
       "      <td>222.955</td>\n",
       "      <td>56.465</td>\n",
       "      <td>119.105</td>\n",
       "    </tr>\n",
       "    <tr>\n",
       "      <th>21</th>\n",
       "      <td>23.260</td>\n",
       "      <td>101.200</td>\n",
       "      <td>179.360</td>\n",
       "    </tr>\n",
       "    <tr>\n",
       "      <th>22</th>\n",
       "      <td>117.960</td>\n",
       "      <td>189.270</td>\n",
       "      <td>NaN</td>\n",
       "    </tr>\n",
       "    <tr>\n",
       "      <th>...</th>\n",
       "      <th>...</th>\n",
       "      <td>...</td>\n",
       "      <td>...</td>\n",
       "      <td>...</td>\n",
       "    </tr>\n",
       "    <tr>\n",
       "      <th rowspan=\"5\" valign=\"top\">previous</th>\n",
       "      <th>74</th>\n",
       "      <td>74.880</td>\n",
       "      <td>61.380</td>\n",
       "      <td>104.630</td>\n",
       "    </tr>\n",
       "    <tr>\n",
       "      <th>76</th>\n",
       "      <td>43.020</td>\n",
       "      <td>36.470</td>\n",
       "      <td>307.990</td>\n",
       "    </tr>\n",
       "    <tr>\n",
       "      <th>77</th>\n",
       "      <td>87.010</td>\n",
       "      <td>63.825</td>\n",
       "      <td>89.780</td>\n",
       "    </tr>\n",
       "    <tr>\n",
       "      <th>78</th>\n",
       "      <td>191.190</td>\n",
       "      <td>43.440</td>\n",
       "      <td>138.610</td>\n",
       "    </tr>\n",
       "    <tr>\n",
       "      <th>79</th>\n",
       "      <td>125.505</td>\n",
       "      <td>149.055</td>\n",
       "      <td>141.593</td>\n",
       "    </tr>\n",
       "  </tbody>\n",
       "</table>\n",
       "<p>158 rows × 3 columns</p>\n",
       "</div>"
      ],
      "text/plain": [
       "                       CCP2     CCP3       RF\n",
       "Smoking_status Age                           \n",
       "current        18    34.870   89.560   53.920\n",
       "               19    65.875      NaN  103.270\n",
       "               20   222.955   56.465  119.105\n",
       "               21    23.260  101.200  179.360\n",
       "               22   117.960  189.270      NaN\n",
       "...                     ...      ...      ...\n",
       "previous       74    74.880   61.380  104.630\n",
       "               76    43.020   36.470  307.990\n",
       "               77    87.010   63.825   89.780\n",
       "               78   191.190   43.440  138.610\n",
       "               79   125.505  149.055  141.593\n",
       "\n",
       "[158 rows x 3 columns]"
      ]
     },
     "execution_count": 62,
     "metadata": {},
     "output_type": "execute_result"
    }
   ],
   "source": [
    "inova_df.groupby(['Smoking_status','Age',])[['CCP2','CCP3','RF']].mean()"
   ]
  },
  {
   "cell_type": "code",
   "execution_count": 68,
   "metadata": {
    "ExecuteTime": {
     "end_time": "2020-04-14T18:35:51.301037Z",
     "start_time": "2020-04-14T18:35:51.236211Z"
    },
    "slideshow": {
     "slide_type": "fragment"
    }
   },
   "outputs": [
    {
     "data": {
      "text/html": [
       "<div>\n",
       "<style scoped>\n",
       "    .dataframe tbody tr th:only-of-type {\n",
       "        vertical-align: middle;\n",
       "    }\n",
       "\n",
       "    .dataframe tbody tr th {\n",
       "        vertical-align: top;\n",
       "    }\n",
       "\n",
       "    .dataframe thead th {\n",
       "        text-align: right;\n",
       "    }\n",
       "</style>\n",
       "<table border=\"1\" class=\"dataframe\">\n",
       "  <thead>\n",
       "    <tr style=\"text-align: right;\">\n",
       "      <th></th>\n",
       "      <th></th>\n",
       "      <th>count</th>\n",
       "      <th>mean</th>\n",
       "      <th>median</th>\n",
       "    </tr>\n",
       "    <tr>\n",
       "      <th>Sex</th>\n",
       "      <th>Smoking_status</th>\n",
       "      <th></th>\n",
       "      <th></th>\n",
       "      <th></th>\n",
       "    </tr>\n",
       "  </thead>\n",
       "  <tbody>\n",
       "    <tr>\n",
       "      <th rowspan=\"3\" valign=\"top\">F</th>\n",
       "      <th>current</th>\n",
       "      <td>45</td>\n",
       "      <td>96.139</td>\n",
       "      <td>78.360</td>\n",
       "    </tr>\n",
       "    <tr>\n",
       "      <th>never</th>\n",
       "      <td>85</td>\n",
       "      <td>95.825</td>\n",
       "      <td>83.260</td>\n",
       "    </tr>\n",
       "    <tr>\n",
       "      <th>previous</th>\n",
       "      <td>75</td>\n",
       "      <td>93.114</td>\n",
       "      <td>65.600</td>\n",
       "    </tr>\n",
       "    <tr>\n",
       "      <th rowspan=\"3\" valign=\"top\">M</th>\n",
       "      <th>current</th>\n",
       "      <td>22</td>\n",
       "      <td>98.239</td>\n",
       "      <td>99.995</td>\n",
       "    </tr>\n",
       "    <tr>\n",
       "      <th>never</th>\n",
       "      <td>36</td>\n",
       "      <td>108.861</td>\n",
       "      <td>88.275</td>\n",
       "    </tr>\n",
       "    <tr>\n",
       "      <th>previous</th>\n",
       "      <td>31</td>\n",
       "      <td>101.444</td>\n",
       "      <td>90.040</td>\n",
       "    </tr>\n",
       "  </tbody>\n",
       "</table>\n",
       "</div>"
      ],
      "text/plain": [
       "                    count     mean  median\n",
       "Sex Smoking_status                        \n",
       "F   current            45   96.139  78.360\n",
       "    never              85   95.825  83.260\n",
       "    previous           75   93.114  65.600\n",
       "M   current            22   98.239  99.995\n",
       "    never              36  108.861  88.275\n",
       "    previous           31  101.444  90.040"
      ]
     },
     "execution_count": 68,
     "metadata": {},
     "output_type": "execute_result"
    }
   ],
   "source": [
    "# To groupby multiple columns with multiple functions attached\n",
    "inova_df.groupby(['Sex','Smoking_status']).CCP2.agg(['count', 'mean','median'])\n",
    "# grouped in order of which column is listed first"
   ]
  },
  {
   "cell_type": "code",
   "execution_count": 76,
   "metadata": {
    "ExecuteTime": {
     "end_time": "2020-04-14T18:38:21.357608Z",
     "start_time": "2020-04-14T18:38:21.337661Z"
    },
    "slideshow": {
     "slide_type": "fragment"
    }
   },
   "outputs": [
    {
     "data": {
      "text/plain": [
       "Smoking_status\n",
       "current     118.56\n",
       "never        82.39\n",
       "previous     88.52\n",
       "Name: CCP3, dtype: float64"
      ]
     },
     "execution_count": 76,
     "metadata": {},
     "output_type": "execute_result"
    }
   ],
   "source": [
    "# combine groupby with boolean\n",
    "inova_df[inova_df.Sex == 'F'].groupby(['Smoking_status']).CCP3.median()"
   ]
  },
  {
   "cell_type": "markdown",
   "metadata": {
    "slideshow": {
     "slide_type": "slide"
    }
   },
   "source": [
    "## Sorting\n",
    "* ### sort_index() to sort by index\n",
    "* ### sort_values() to sort by values"
   ]
  },
  {
   "cell_type": "code",
   "execution_count": 79,
   "metadata": {
    "ExecuteTime": {
     "end_time": "2020-04-14T18:41:30.600342Z",
     "start_time": "2020-04-14T18:41:30.562414Z"
    },
    "slideshow": {
     "slide_type": "subslide"
    }
   },
   "outputs": [
    {
     "data": {
      "text/html": [
       "<div>\n",
       "<style scoped>\n",
       "    .dataframe tbody tr th:only-of-type {\n",
       "        vertical-align: middle;\n",
       "    }\n",
       "\n",
       "    .dataframe tbody tr th {\n",
       "        vertical-align: top;\n",
       "    }\n",
       "\n",
       "    .dataframe thead th {\n",
       "        text-align: right;\n",
       "    }\n",
       "</style>\n",
       "<table border=\"1\" class=\"dataframe\">\n",
       "  <thead>\n",
       "    <tr style=\"text-align: right;\">\n",
       "      <th></th>\n",
       "      <th></th>\n",
       "      <th>Age</th>\n",
       "      <th>CCP2</th>\n",
       "      <th>CCP3</th>\n",
       "      <th>RF</th>\n",
       "      <th>Score</th>\n",
       "    </tr>\n",
       "    <tr>\n",
       "      <th>Diagnosis</th>\n",
       "      <th>Smoking_status</th>\n",
       "      <th></th>\n",
       "      <th></th>\n",
       "      <th></th>\n",
       "      <th></th>\n",
       "      <th></th>\n",
       "    </tr>\n",
       "  </thead>\n",
       "  <tbody>\n",
       "    <tr>\n",
       "      <th>IA</th>\n",
       "      <th>never</th>\n",
       "      <td>68.750</td>\n",
       "      <td>102.045</td>\n",
       "      <td>32.250</td>\n",
       "      <td>106.677</td>\n",
       "      <td>100206.025</td>\n",
       "    </tr>\n",
       "    <tr>\n",
       "      <th rowspan=\"2\" valign=\"top\">ongoing</th>\n",
       "      <th>never</th>\n",
       "      <td>44.922</td>\n",
       "      <td>94.644</td>\n",
       "      <td>87.595</td>\n",
       "      <td>99.599</td>\n",
       "      <td>9198.816</td>\n",
       "    </tr>\n",
       "    <tr>\n",
       "      <th>previous</th>\n",
       "      <td>45.276</td>\n",
       "      <td>96.205</td>\n",
       "      <td>92.227</td>\n",
       "      <td>97.310</td>\n",
       "      <td>24999.824</td>\n",
       "    </tr>\n",
       "    <tr>\n",
       "      <th>RA</th>\n",
       "      <th>previous</th>\n",
       "      <td>52.769</td>\n",
       "      <td>94.998</td>\n",
       "      <td>102.815</td>\n",
       "      <td>106.311</td>\n",
       "      <td>7197.042</td>\n",
       "    </tr>\n",
       "    <tr>\n",
       "      <th>ongoing</th>\n",
       "      <th>current</th>\n",
       "      <td>49.484</td>\n",
       "      <td>96.721</td>\n",
       "      <td>104.409</td>\n",
       "      <td>104.913</td>\n",
       "      <td>15651.669</td>\n",
       "    </tr>\n",
       "    <tr>\n",
       "      <th>IA</th>\n",
       "      <th>previous</th>\n",
       "      <td>54.400</td>\n",
       "      <td>86.395</td>\n",
       "      <td>112.664</td>\n",
       "      <td>37.852</td>\n",
       "      <td>25503.180</td>\n",
       "    </tr>\n",
       "    <tr>\n",
       "      <th rowspan=\"2\" valign=\"top\">RA</th>\n",
       "      <th>current</th>\n",
       "      <td>38.500</td>\n",
       "      <td>98.230</td>\n",
       "      <td>113.157</td>\n",
       "      <td>76.591</td>\n",
       "      <td>23764.420</td>\n",
       "    </tr>\n",
       "    <tr>\n",
       "      <th>never</th>\n",
       "      <td>55.297</td>\n",
       "      <td>112.850</td>\n",
       "      <td>118.486</td>\n",
       "      <td>116.538</td>\n",
       "      <td>12717.405</td>\n",
       "    </tr>\n",
       "    <tr>\n",
       "      <th>IA</th>\n",
       "      <th>current</th>\n",
       "      <td>46.500</td>\n",
       "      <td>94.597</td>\n",
       "      <td>168.342</td>\n",
       "      <td>78.770</td>\n",
       "      <td>4825.625</td>\n",
       "    </tr>\n",
       "  </tbody>\n",
       "</table>\n",
       "</div>"
      ],
      "text/plain": [
       "                             Age     CCP2     CCP3       RF       Score\n",
       "Diagnosis Smoking_status                                               \n",
       "IA        never           68.750  102.045   32.250  106.677  100206.025\n",
       "ongoing   never           44.922   94.644   87.595   99.599    9198.816\n",
       "          previous        45.276   96.205   92.227   97.310   24999.824\n",
       "RA        previous        52.769   94.998  102.815  106.311    7197.042\n",
       "ongoing   current         49.484   96.721  104.409  104.913   15651.669\n",
       "IA        previous        54.400   86.395  112.664   37.852   25503.180\n",
       "RA        current         38.500   98.230  113.157   76.591   23764.420\n",
       "          never           55.297  112.850  118.486  116.538   12717.405\n",
       "IA        current         46.500   94.597  168.342   78.770    4825.625"
      ]
     },
     "execution_count": 79,
     "metadata": {},
     "output_type": "execute_result"
    }
   ],
   "source": [
    "# groupby diagnosis and smoking_status and then sort by their mean CCP3 value within each data block\n",
    "inova_df_grouped = inova_df.groupby(['Diagnosis','Smoking_status']).mean().sort_values('CCP3', ascending = True)\n",
    "inova_df_grouped\n",
    "\n",
    "# Note: In this example, the groupby, mean, and sort functions are stringed together in one line\n",
    "# in the next example, we will show a different syntax so that you could write them on separate\n",
    "# lines to make the code a little easier to read"
   ]
  },
  {
   "cell_type": "code",
   "execution_count": 80,
   "metadata": {
    "ExecuteTime": {
     "end_time": "2020-04-14T18:42:49.489826Z",
     "start_time": "2020-04-14T18:42:49.440956Z"
    },
    "slideshow": {
     "slide_type": "fragment"
    }
   },
   "outputs": [
    {
     "data": {
      "text/html": [
       "<div>\n",
       "<style scoped>\n",
       "    .dataframe tbody tr th:only-of-type {\n",
       "        vertical-align: middle;\n",
       "    }\n",
       "\n",
       "    .dataframe tbody tr th {\n",
       "        vertical-align: top;\n",
       "    }\n",
       "\n",
       "    .dataframe thead th {\n",
       "        text-align: right;\n",
       "    }\n",
       "</style>\n",
       "<table border=\"1\" class=\"dataframe\">\n",
       "  <thead>\n",
       "    <tr style=\"text-align: right;\">\n",
       "      <th></th>\n",
       "      <th>Diagnosis</th>\n",
       "      <th>Age</th>\n",
       "      <th>CCP2</th>\n",
       "      <th>CCP3</th>\n",
       "      <th>RF</th>\n",
       "      <th>Score</th>\n",
       "    </tr>\n",
       "  </thead>\n",
       "  <tbody>\n",
       "    <tr>\n",
       "      <th>38</th>\n",
       "      <td>RA</td>\n",
       "      <td>60</td>\n",
       "      <td>165.750</td>\n",
       "      <td>15.45</td>\n",
       "      <td>28.96</td>\n",
       "      <td>72.00</td>\n",
       "    </tr>\n",
       "    <tr>\n",
       "      <th>25</th>\n",
       "      <td>RA</td>\n",
       "      <td>36</td>\n",
       "      <td>72.120</td>\n",
       "      <td>35.31</td>\n",
       "      <td>16.97</td>\n",
       "      <td>70.50</td>\n",
       "    </tr>\n",
       "    <tr>\n",
       "      <th>109</th>\n",
       "      <td>ongoing</td>\n",
       "      <td>76</td>\n",
       "      <td>43.020</td>\n",
       "      <td>36.47</td>\n",
       "      <td>307.99</td>\n",
       "      <td>13643.40</td>\n",
       "    </tr>\n",
       "    <tr>\n",
       "      <th>26</th>\n",
       "      <td>RA</td>\n",
       "      <td>40</td>\n",
       "      <td>99.675</td>\n",
       "      <td>38.26</td>\n",
       "      <td>109.01</td>\n",
       "      <td>29987.25</td>\n",
       "    </tr>\n",
       "    <tr>\n",
       "      <th>111</th>\n",
       "      <td>ongoing</td>\n",
       "      <td>78</td>\n",
       "      <td>191.190</td>\n",
       "      <td>38.95</td>\n",
       "      <td>138.61</td>\n",
       "      <td>2733.75</td>\n",
       "    </tr>\n",
       "    <tr>\n",
       "      <th>...</th>\n",
       "      <td>...</td>\n",
       "      <td>...</td>\n",
       "      <td>...</td>\n",
       "      <td>...</td>\n",
       "      <td>...</td>\n",
       "      <td>...</td>\n",
       "    </tr>\n",
       "    <tr>\n",
       "      <th>37</th>\n",
       "      <td>RA</td>\n",
       "      <td>59</td>\n",
       "      <td>69.250</td>\n",
       "      <td>389.91</td>\n",
       "      <td>122.93</td>\n",
       "      <td>72.00</td>\n",
       "    </tr>\n",
       "    <tr>\n",
       "      <th>4</th>\n",
       "      <td>IA</td>\n",
       "      <td>58</td>\n",
       "      <td>14.970</td>\n",
       "      <td>396.60</td>\n",
       "      <td>118.38</td>\n",
       "      <td>17654.00</td>\n",
       "    </tr>\n",
       "    <tr>\n",
       "      <th>9</th>\n",
       "      <td>IA</td>\n",
       "      <td>73</td>\n",
       "      <td>5.920</td>\n",
       "      <td>NaN</td>\n",
       "      <td>NaN</td>\n",
       "      <td>394207.80</td>\n",
       "    </tr>\n",
       "    <tr>\n",
       "      <th>43</th>\n",
       "      <td>RA</td>\n",
       "      <td>67</td>\n",
       "      <td>68.690</td>\n",
       "      <td>NaN</td>\n",
       "      <td>299.28</td>\n",
       "      <td>44414.70</td>\n",
       "    </tr>\n",
       "    <tr>\n",
       "      <th>18</th>\n",
       "      <td>RA</td>\n",
       "      <td>28</td>\n",
       "      <td>99.700</td>\n",
       "      <td>NaN</td>\n",
       "      <td>NaN</td>\n",
       "      <td>130.50</td>\n",
       "    </tr>\n",
       "  </tbody>\n",
       "</table>\n",
       "<p>113 rows × 6 columns</p>\n",
       "</div>"
      ],
      "text/plain": [
       "    Diagnosis  Age     CCP2    CCP3      RF      Score\n",
       "38         RA   60  165.750   15.45   28.96      72.00\n",
       "25         RA   36   72.120   35.31   16.97      70.50\n",
       "109   ongoing   76   43.020   36.47  307.99   13643.40\n",
       "26         RA   40   99.675   38.26  109.01   29987.25\n",
       "111   ongoing   78  191.190   38.95  138.61    2733.75\n",
       "..        ...  ...      ...     ...     ...        ...\n",
       "37         RA   59   69.250  389.91  122.93      72.00\n",
       "4          IA   58   14.970  396.60  118.38   17654.00\n",
       "9          IA   73    5.920     NaN     NaN  394207.80\n",
       "43         RA   67   68.690     NaN  299.28   44414.70\n",
       "18         RA   28   99.700     NaN     NaN     130.50\n",
       "\n",
       "[113 rows x 6 columns]"
      ]
     },
     "execution_count": 80,
     "metadata": {},
     "output_type": "execute_result"
    }
   ],
   "source": [
    "# We want to group people by their diagnosis and sex\n",
    "# Then sort them by their CCP3 ASCE, and then sort by average age within that group DESC \n",
    "(inova_df\n",
    " .groupby(['Diagnosis','Age'])\n",
    " .mean()\n",
    " .reset_index()\n",
    " .sort_values(['CCP3','Age'], ascending=[True,False])\n",
    ")\n",
    "\n",
    "# Note: In this example, we sort by the SAME column which we grouped by earlier \n",
    "# (eg. we first groupby 'age' and then sort by 'age')\n",
    "# In this case, we must use .reset_index() to re-index the groupby objects, because the 'age' \n",
    "# column no longer exists after the groupby and hence cannot be sorted directly"
   ]
  },
  {
   "cell_type": "code",
   "execution_count": null,
   "metadata": {},
   "outputs": [],
   "source": []
  }
 ],
 "metadata": {
  "anaconda-cloud": {},
  "kernelspec": {
   "display_name": "Python 3",
   "language": "python",
   "name": "python3"
  },
  "language_info": {
   "codemirror_mode": {
    "name": "ipython",
    "version": 3
   },
   "file_extension": ".py",
   "mimetype": "text/x-python",
   "name": "python",
   "nbconvert_exporter": "python",
   "pygments_lexer": "ipython3",
   "version": "3.8.2"
  },
  "toc": {
   "base_numbering": 1,
   "nav_menu": {},
   "number_sections": true,
   "sideBar": true,
   "skip_h1_title": false,
   "title_cell": "Table of Contents",
   "title_sidebar": "Contents",
   "toc_cell": true,
   "toc_position": {},
   "toc_section_display": true,
   "toc_window_display": false
  },
  "varInspector": {
   "cols": {
    "lenName": 16,
    "lenType": 16,
    "lenVar": 40
   },
   "kernels_config": {
    "python": {
     "delete_cmd_postfix": "",
     "delete_cmd_prefix": "del ",
     "library": "var_list.py",
     "varRefreshCmd": "print(var_dic_list())"
    },
    "r": {
     "delete_cmd_postfix": ") ",
     "delete_cmd_prefix": "rm(",
     "library": "var_list.r",
     "varRefreshCmd": "cat(var_dic_list()) "
    }
   },
   "types_to_exclude": [
    "module",
    "function",
    "builtin_function_or_method",
    "instance",
    "_Feature"
   ],
   "window_display": false
  }
 },
 "nbformat": 4,
 "nbformat_minor": 1
}
