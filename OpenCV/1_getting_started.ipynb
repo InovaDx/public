{
 "cells": [
  {
   "cell_type": "markdown",
   "metadata": {},
   "source": [
    "# [OpenCV-Python Tutorial] Getting Started\n",
    "\n",
    "In this notebook, we will see how to use OpenCV-Python and some basic operations of OpenCV.\n",
    "\n",
    "---\n",
    "\n",
    "# Import OpenCV-Python and other packages"
   ]
  },
  {
   "cell_type": "code",
   "execution_count": null,
   "metadata": {},
   "outputs": [],
   "source": [
    "import numpy as np\n",
    "import cv2 # OpenCV-Python\n",
    "%matplotlib inline\n",
    "import matplotlib.pyplot as plt\n",
    "import urllib.request\n",
    "from skimage import io\n",
    "\n",
    "plt.style.use('default')\n",
    "print(\"OpenCV-Python Version %s\" % cv2.__version__)\n",
    "home_url = r'https://raw.githubusercontent.com/InovaDx/public/master/OpenCV/'"
   ]
  },
  {
   "cell_type": "markdown",
   "metadata": {},
   "source": [
    "# Open/display an image"
   ]
  },
  {
   "cell_type": "markdown",
   "metadata": {},
   "source": [
    "### Loading images\n",
    "Loading images from a local disk unit is done with the following code:\n",
    "```python\n",
    "input_image = cv2.imread('filepath/image.png', cv2.IMREAD_COLOR)\n",
    "```\n",
    "When running this notebook from Google Colaboratory, images are not local, and the way to get to open them changes. A different library must be used (`skimage`) in order to fetch the hyperlink to the image and open it as an array of pixels.\n",
    "One of the main differences between both methods is the fact that `OpenCV`, unless specified, always opens images as RGB arrays with 3 layers, while `skimage` only creates the required layers.\n",
    "That results in some inconsistencies in case a grayscale image is loaded, since only 1 layer is loaded by `skimage`, but `OpenCV` loads all 3 RGB.\n",
    "\n",
    "This notebook assumes it is used from Google Colab and will always use the `skimage` option, even though is less common than using `OpenCV` in real life."
   ]
  },
  {
   "cell_type": "code",
   "execution_count": null,
   "metadata": {},
   "outputs": [],
   "source": [
    "filename='images/messi.jpg'\n",
    "img  = io.imread(home_url+filename)\n",
    "\n",
    "# If the image path is wrong, the resulting img will be none\n",
    "if img is None:\n",
    "    print ('Open Error')\n",
    "else:\n",
    "    print ('Image Loaded')"
   ]
  },
  {
   "cell_type": "code",
   "execution_count": null,
   "metadata": {},
   "outputs": [],
   "source": [
    "# Check the resulting img\n",
    "print (type(img))\n",
    "print (img.shape)\n",
    "print (img.dtype)\n",
    "print (img[:2, :2, :])  # Right-upper-most few pixels of the image"
   ]
  },
  {
   "cell_type": "code",
   "execution_count": null,
   "metadata": {},
   "outputs": [],
   "source": [
    "# display an image using matplotlib\n",
    "# plt.imshow(img) # => The color of this line is wrong\n",
    "plt.imshow(img)"
   ]
  },
  {
   "cell_type": "markdown",
   "metadata": {},
   "source": [
    "# Basic operations on Images\n",
    "## 1. Draw an object\n",
    "\n",
    "- `cv2.line(image, startPoint, endPoint, rgb, thinkness)`\n",
    "- `cv2.rectangle(image, topLeft, bottomRight, rgb, thinkness)`\n",
    "- `cv2.circle(image, center, radius, rgb, thinkness)`\n",
    "- `cv2.ellipse(image, center, axes, angle, startAngle, endAngle, rgb, thinkness)`"
   ]
  },
  {
   "cell_type": "code",
   "execution_count": null,
   "metadata": {},
   "outputs": [],
   "source": [
    "# Create a black image\n",
    "img2 = np.zeros((512,512,3), np.uint8)\n",
    "plt.imshow(img2)"
   ]
  },
  {
   "cell_type": "code",
   "execution_count": null,
   "metadata": {},
   "outputs": [],
   "source": [
    "# Draw a line using cv2.line(image, startPoint, endPoint, rgb, thinkness)\n",
    "cv2.line(img2, (0,0), (511,511), (255,0,0), 5)\n",
    "# => Diagonal red line with thickness of 5 px\n",
    "\n",
    "# Draw a rectangle using cv2.rectangle(image, topLeft, bottomRight, rgb, thinkness)\n",
    "cv2.rectangle(img2, (384,0), (510,128), (0,255,0), 3)\n",
    "# => Green rectangle with thickness of 3 px\n",
    "\n",
    "# Draw a circle using cv2.circle(image, center, radius, rgb, thinkness)\n",
    "cv2.circle(img2, (447,63), 63, (0,0,255), -1)\n",
    "# => Blue filled circle(note that the thinkness is -1)\n",
    "\n",
    "# Draw a ellipse using cv2.ellipse(image, center, axes, angle, startAngle, endAngle, rgb, thinkness)\n",
    "cv2.ellipse(img2, (256,256), (100,50), -45, 0, 180, (255,0,0), -1)\n",
    "# => Red wide down-half ellipse\n",
    "\n",
    "plt.imshow(img2)"
   ]
  },
  {
   "cell_type": "code",
   "execution_count": null,
   "metadata": {},
   "outputs": [],
   "source": [
    "# Draw a line using cv2.polylines(image, points, isClosed, rgb, thinkness, lineType, shift)\n",
    "pts = np.array([[10,10],[150,200],[300,150],[200,50]], np.int32)\n",
    "pts = pts.reshape((-1,1,2))\n",
    "cv2.polylines(img2,[pts],True,(0,255,255),3)\n",
    "# => Cyan closed quadrangle \n",
    "\n",
    "print (pts)\n",
    "plt.imshow(img2)"
   ]
  },
  {
   "cell_type": "code",
   "execution_count": null,
   "metadata": {},
   "outputs": [],
   "source": [
    "# Put some text using cv2.putText(image, text, bottomLeft, fontType, fontScale, rgb, thinkness, lineType)\n",
    "font = cv2.FONT_HERSHEY_COMPLEX\n",
    "cv2.putText(img2, 'OpenCV', (10,500), font, 4, (255,255,255), 10, cv2.LINE_AA)\n",
    "# => White 'OpenCV' text at the bottom\n",
    "\n",
    "plt.imshow(img2)"
   ]
  },
  {
   "cell_type": "markdown",
   "metadata": {},
   "source": [
    "---\n",
    "\n",
    "## 2. Modify pixels & ROI\n",
    "\n",
    "- You can access/modify a single pixel or ROI using Numpy indexing.\n",
    "- Just like matrix indexing, `img[a, b]` refer to `a`-th row and `b`-th column."
   ]
  },
  {
   "cell_type": "code",
   "execution_count": null,
   "metadata": {},
   "outputs": [],
   "source": [
    "# Access a pixel value(BGR order)\n",
    "img[50, 235]"
   ]
  },
  {
   "cell_type": "code",
   "execution_count": null,
   "metadata": {},
   "outputs": [],
   "source": [
    "# Change pixel values\n",
    "for i in range(5):\n",
    "    for j in range(5):\n",
    "        img[50+i, 235+j] = (0, 255, 0)\n",
    "# => Green dot above messi's head\n",
    "\n",
    "plt.imshow(img)"
   ]
  },
  {
   "cell_type": "code",
   "execution_count": null,
   "metadata": {},
   "outputs": [],
   "source": [
    "# ROI is obtained using Numpy indexing \n",
    "ball = img[280:340, 330:390]\n",
    "img[273:333, 100:160] = ball\n",
    "\n",
    "# img[50:55, 235:240] = (0, 255, 0)  # The for-loop in the code block above is equavalent to this line. \n",
    "\n",
    "plt.imshow(img)"
   ]
  },
  {
   "cell_type": "markdown",
   "metadata": {},
   "source": [
    "---\n",
    "\n",
    "### Reference\n",
    "\n",
    "Please see the following official tutorials for more detailed explanation.\n",
    "\n",
    " - [Basic Operations on Images — OpenCV documentation](http://docs.opencv.org/3.0-beta/doc/py_tutorials/py_core/py_basic_ops/py_basic_ops.html)\n",
    " - [Drawing Functions in OpenCV — OpenCV documentation](http://docs.opencv.org/3.0-beta/doc/py_tutorials/py_gui/py_drawing_functions/py_drawing_functions.html)"
   ]
  }
 ],
 "metadata": {
  "kernelspec": {
   "display_name": "Python 3",
   "language": "python",
   "name": "python3"
  },
  "language_info": {
   "codemirror_mode": {
    "name": "ipython",
    "version": 3
   },
   "file_extension": ".py",
   "mimetype": "text/x-python",
   "name": "python",
   "nbconvert_exporter": "python",
   "pygments_lexer": "ipython3",
   "version": "3.6.6"
  }
 },
 "nbformat": 4,
 "nbformat_minor": 1
}
