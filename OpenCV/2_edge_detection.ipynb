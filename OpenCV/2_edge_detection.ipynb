{
 "cells": [
  {
   "cell_type": "markdown",
   "metadata": {},
   "source": [
    "# [OpenCV-Python Tutorial] Edge Detection\n",
    "\n",
    "In this tutorial, we will find edges using Sobel operator(`cv2.Sobel()`) and Canny edge detector(`cv2.Canny()`).  \n",
    "\n",
    "---"
   ]
  },
  {
   "cell_type": "code",
   "execution_count": null,
   "metadata": {},
   "outputs": [],
   "source": [
    "import numpy as np\n",
    "import cv2 # OpenCV-Python\n",
    "%matplotlib inline\n",
    "import matplotlib.pyplot as plt\n",
    "from skimage import io\n",
    "\n",
    "plt.style.use('default')\n",
    "print(\"OpenCV-Python Version %s\" % cv2.__version__)\n",
    "home_url = r'https://raw.githubusercontent.com/InovaDx/public/master/OpenCV/'"
   ]
  },
  {
   "cell_type": "markdown",
   "metadata": {},
   "source": [
    "### Loading images\n",
    "Loading images from a local disk unit is done with the following code:\n",
    "```python\n",
    "input_image = cv2.imread('filepath/image.png', cv2.IMREAD_COLOR)\n",
    "```\n",
    "When running this notebook from Google Colaboratory, images are not local, and the way to get to open them changes. A different library must be used (`skimage`) in order to fetch the hyperlink to the image and open it as an array of pixels.\n",
    "One of the main differences between both methods is the fact that `OpenCV`, unless specified, always opens images as RGB arrays with 3 layers, while `skimage` only creates the required layers.\n",
    "That results in some inconsistencies in case a grayscale image is loaded, since only 1 layer is loaded by `skimage`, but `OpenCV` loads all 3 RGB.\n",
    "\n",
    "This notebook assumes it is used from Google Colab and will always use the `skimage` option, even though is less common than using `OpenCV` in real life."
   ]
  },
  {
   "cell_type": "code",
   "execution_count": null,
   "metadata": {},
   "outputs": [],
   "source": [
    "# Load an image into grayscale\n",
    "filename='images/wheel.png'\n",
    "beaver = io.imread(home_url+filename)\n",
    "print('dtype: ' + str(input_image.dtype))\n",
    "print('shape: ' + str(input_image.shape))\n",
    "\n",
    "plt.imshow(input_image, cmap='gray')  # Make sure that the plot is drawn in grayscale"
   ]
  },
  {
   "cell_type": "markdown",
   "metadata": {},
   "source": [
    "---\n",
    "\n",
    "## 1. Edge detection with sobel operator\n",
    "\n",
    "`dst = cv2.Sobel(src, ddepth, dx, dy, ksize=3, scale=1.0)`\n",
    "\n",
    "- `src`: input image\n",
    "- `ddepth`: output image depth\n",
    "- `dx`: order of the derivative x\n",
    "- `dy`: order of the derivative y\n",
    "- `ksize`: size of the extended Sobel kernel; it must be 1, 3, 5, or 7\n",
    "- `scale`: optional scale factor for the computed derivative values"
   ]
  },
  {
   "cell_type": "code",
   "execution_count": null,
   "metadata": {},
   "outputs": [],
   "source": [
    "ddepth = cv2.CV_64F  # 64-bit float output\n",
    "dx = 1  # First-order derivative in x-direction\n",
    "dy = 0  # NO derivative in y-direction\n",
    "sobelx = cv2.Sobel(input_image, ddepth, dx, dy)\n",
    "\n",
    "plt.imshow(sobelx, cmap='gray')"
   ]
  },
  {
   "cell_type": "code",
   "execution_count": null,
   "metadata": {
    "scrolled": false
   },
   "outputs": [],
   "source": [
    "# sobel operations and its magnitudes\n",
    "sobelx = cv2.Sobel(input_image, cv2.CV_64F, 1, 0)\n",
    "sobely = cv2.Sobel(input_image, cv2.CV_64F, 0, 1)\n",
    "sobel = cv2.sqrt(cv2.addWeighted(cv2.pow(sobelx, 2.0), 1.0, cv2.pow(sobely, 2.0), 1.0, 0.0))\n",
    "\n",
    "plt.figure(figsize=(6, 6));\n",
    "plt.subplot(2, 2, 1); plt.title('Input image'); plt.axis('off');\n",
    "plt.imshow(input_image, cmap='gray');\n",
    "plt.subplot(2, 2, 2); plt.title('Sobel x operation'); plt.axis('off');\n",
    "plt.imshow(cv2.absdiff(sobelx, 0.0), cmap='gray')\n",
    "plt.subplot(2, 2, 3); plt.title('Sobel y operation'); plt.axis('off');\n",
    "plt.imshow(cv2.absdiff(sobely, 0.0), cmap='gray');\n",
    "plt.subplot(2, 2, 4); plt.title('Sobel intensity'); plt.axis('off');\n",
    "plt.imshow(sobel, cmap='gray');"
   ]
  },
  {
   "cell_type": "markdown",
   "metadata": {},
   "source": [
    "---\n",
    "\n",
    "## 2. Canny Edge Detection\n",
    "\n",
    "`edges = cv2.Canny(image, threshold1, threshold2, apatureSize=3, L2gradient=False)`\n",
    "\n",
    "- `image`: 8-bit grayscale input image\n",
    "- `threshold1`/`threshold2`: thresholds for the hysteresis procedure\n",
    "- `apertureSize`: aperture size for the `Sobel()` operator\n",
    "- `L2gradient`: A flag. `True` to use $L_2$-norm of gradients. $L_1$-norm for `False`"
   ]
  },
  {
   "cell_type": "code",
   "execution_count": null,
   "metadata": {},
   "outputs": [],
   "source": [
    "# Canny edge detection\n",
    "threshold1 = 100\n",
    "threshold2 = 200\n",
    "canny = cv2.Canny(input_image, threshold1, threshold2)\n",
    "\n",
    "plt.imshow(canny, cmap='gray')"
   ]
  },
  {
   "cell_type": "code",
   "execution_count": null,
   "metadata": {},
   "outputs": [],
   "source": [
    "# Edge detections with the various thresholds\n",
    "canny1 = cv2.Canny(input_image, 50, 150)\n",
    "canny2 = cv2.Canny(input_image, 100, 200)\n",
    "canny3 = cv2.Canny(input_image, 150, 250)\n",
    "\n",
    "plt.figure(figsize=(9, 3));\n",
    "plt.subplot(1, 3, 1); plt.title('Canny 50/150'); plt.axis('off');\n",
    "plt.imshow(canny1, cmap='gray');\n",
    "plt.subplot(1, 3, 2); plt.title('Canny 100/200'); plt.axis('off');\n",
    "plt.imshow(canny2, cmap='gray');\n",
    "plt.subplot(1, 3, 3); plt.title('Canny 150/250'); plt.axis('off');\n",
    "plt.imshow(canny3, cmap='gray');"
   ]
  },
  {
   "cell_type": "markdown",
   "metadata": {},
   "source": [
    "---\n",
    "\n",
    "## Practice: Edge Detection\n",
    "\n",
    "Find edges of the image below using **Canny edge detector**.\n",
    "- Convert the input image into grayscale.\n",
    "- You can choose appropriate values of the hysteresys thresholds.\n",
    "- Set `cmap='gray'` when display using `plt.imshow()`.\n",
    "\n",
    "Here's the input and a sample output\n",
    "![Desired output](images/xfiles_result.png)"
   ]
  },
  {
   "cell_type": "code",
   "execution_count": null,
   "metadata": {},
   "outputs": [],
   "source": [
    "# Here's the input image\n",
    "filename='images/xfiles.jpg'\n",
    "image = io.imread(home_url+filename, )\n",
    "\n",
    "# Write the code to find edges using cv2.Canny() method.\n",
    "# ============ YOUR CODE HERE ============\n",
    "output = np.zeros((360, 480), np.uint8)  # DUMMY\n",
    "# ========================================\n",
    "\n",
    "plt.figure(figsize=(16, 6));\n",
    "plt.subplot(1, 2, 1); plt.title('Input image'); plt.axis('off');\n",
    "plt.imshow(image);\n",
    "plt.subplot(1, 2, 2); plt.title('Output'); plt.axis('off');\n",
    "# ======= DISPLAY YOUR OUTPUT HERE =======\n",
    "plt.imshow(output, cmap='gray');  # DUMMY\n",
    "# ========================================"
   ]
  },
  {
   "cell_type": "markdown",
   "metadata": {},
   "source": [
    "---\n",
    "\n",
    "### Reference\n",
    "\n",
    "Please see the following official tutorials for more detailed explanation.\n",
    "\n",
    " - [Image Gradients — OpenCV documentation](http://docs.opencv.org/3.0-beta/doc/py_tutorials/py_imgproc/py_gradients/py_gradients.html)\n",
    " - [Canny Edge Detection — OpenCV documentation](http://docs.opencv.org/3.0-beta/doc/py_tutorials/py_imgproc/py_canny/py_canny.html)"
   ]
  }
 ],
 "metadata": {
  "kernelspec": {
   "display_name": "Python 3",
   "language": "python",
   "name": "python3"
  },
  "language_info": {
   "codemirror_mode": {
    "name": "ipython",
    "version": 3
   },
   "file_extension": ".py",
   "mimetype": "text/x-python",
   "name": "python",
   "nbconvert_exporter": "python",
   "pygments_lexer": "ipython3",
   "version": "3.6.6"
  }
 },
 "nbformat": 4,
 "nbformat_minor": 1
}
