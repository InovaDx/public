{
 "cells": [
  {
   "cell_type": "markdown",
   "metadata": {},
   "source": [
    "# [OpenCV-Python Tutorial] Homography\n",
    "\n",
    "In this notebook, we will learn geometric transformation of images in OpenCV-Python and how to get a homography of two images using SIFT feature matching.\n",
    "\n",
    "---"
   ]
  },
  {
   "cell_type": "code",
   "execution_count": null,
   "metadata": {},
   "outputs": [],
   "source": [
    "import numpy as np\n",
    "import cv2 # OpenCV-Python\n",
    "%matplotlib inline\n",
    "import matplotlib.pyplot as plt\n",
    "from skimage import io\n",
    "\n",
    "plt.style.use('default')\n",
    "print(\"OpenCV-Python Version %s\" % cv2.__version__)\n",
    "home_url = r'https://raw.githubusercontent.com/InovaDx/public/master/OpenCV/'"
   ]
  },
  {
   "cell_type": "markdown",
   "metadata": {
    "collapsed": true
   },
   "source": [
    "### Loading images\n",
    "Loading images from a local disk unit is done with the following code:\n",
    "```python\n",
    "input_image = cv2.imread('filepath/image.png', cv2.IMREAD_COLOR)\n",
    "```\n",
    "When running this notebook from Google Colaboratory, images are not local, and the way to get to open them changes. A different library must be used (`skimage`) in order to fetch the hyperlink to the image and open it as an array of pixels.\n",
    "One of the main differences between both methods is the fact that `OpenCV`, unless specified, always opens images as RGB arrays with 3 layers, while `skimage` only creates the required layers.\n",
    "That results in some inconsistencies in case a grayscale image is loaded, since only 1 layer is loaded by `skimage`, but `OpenCV` loads all 3 RGB.\n",
    "\n",
    "This notebook assumes it is used from Google Colab and will always use the `skimage` option, even though is less common than using `OpenCV` in real life."
   ]
  },
  {
   "cell_type": "markdown",
   "metadata": {},
   "source": [
    "# Geometric Transformations of Images"
   ]
  },
  {
   "cell_type": "code",
   "execution_count": null,
   "metadata": {},
   "outputs": [],
   "source": [
    "# Scaling\n",
    "filename='images/messi.jpg'\n",
    "img = io.imread(home_url+filename)\n",
    "height, width = img.shape[:2]\n",
    "res = cv2.resize(img,(2*width, 2*height), interpolation = cv2.INTER_CUBIC)\n",
    "\n",
    "plt.figure(figsize=(10,3))\n",
    "plt.subplot(1, 2, 1)\n",
    "plt.imshow(img)\n",
    "plt.subplot(1, 2, 2)\n",
    "plt.imshow(res)"
   ]
  },
  {
   "cell_type": "markdown",
   "metadata": {},
   "source": [
    "**NOTE**\n",
    "The code to load an image from a local disk unit in grayscale mode is:\n",
    "```python\n",
    "img = cv2.imread('images/messi.jpg', cv2.IMREAD_GRAYSCALE)\n",
    "```\n",
    "However, the use of images in the Internet requires an alternative way to convert the image to grayscale:\n",
    "```python\n",
    "cv2.cvtColor(img, cv2.COLOR_BGR2GRAY)\n",
    "```"
   ]
  },
  {
   "cell_type": "code",
   "execution_count": null,
   "metadata": {},
   "outputs": [],
   "source": [
    "# Translation\n",
    "img = cv2.cvtColor(img, cv2.COLOR_BGR2GRAY)\n",
    "rows,cols = img.shape\n",
    "\n",
    "M = np.float32([[1,0,100],[0,1,50]])\n",
    "dst = cv2.warpAffine(img,M,(cols,rows))\n",
    "\n",
    "plt.figure(figsize=(10,3))\n",
    "plt.subplot(1, 2, 1)\n",
    "plt.imshow(img, cmap='gray')\n",
    "plt.subplot(1, 2, 2)\n",
    "plt.imshow(dst, cmap='gray')"
   ]
  },
  {
   "cell_type": "code",
   "execution_count": null,
   "metadata": {},
   "outputs": [],
   "source": [
    "# Rotation\n",
    "rows,cols = img.shape\n",
    "\n",
    "M = cv2.getRotationMatrix2D((cols/2,rows/2),90,1)\n",
    "print (M)\n",
    "dst1 = cv2.warpAffine(img,M,(cols,rows))\n",
    "dst2 = cv2.warpAffine(img,M,(cols,rows),borderMode=cv2.BORDER_WRAP)\n",
    "dst3 = cv2.warpAffine(img,M,(cols,rows),borderMode=cv2.BORDER_REFLECT)\n",
    "\n",
    "plt.figure(figsize=(16,3))\n",
    "plt.subplot(1, 4, 1)\n",
    "plt.imshow(img, cmap='gray')\n",
    "plt.subplot(1, 4, 2)\n",
    "plt.imshow(dst1, cmap='gray')\n",
    "plt.subplot(1, 4, 3)\n",
    "plt.imshow(dst2, cmap='gray')\n",
    "plt.subplot(1, 4, 4)\n",
    "plt.imshow(dst3, cmap='gray')"
   ]
  },
  {
   "cell_type": "code",
   "execution_count": null,
   "metadata": {},
   "outputs": [],
   "source": [
    "# Affine Transformation\n",
    "img = io.imread(home_url+'images/drawing.png')\n",
    "rows,cols,ch = img.shape\n",
    "\n",
    "pts1 = np.float32([[50,50],[200,50],[50,200]])\n",
    "pts2 = np.float32([[10,100],[200,50],[100,250]])\n",
    "\n",
    "M = cv2.getAffineTransform(pts1,pts2)\n",
    "print (M)\n",
    "\n",
    "dst = cv2.warpAffine(img,M,(cols,rows))\n",
    "\n",
    "plt.subplot(1, 2, 1)\n",
    "plt.imshow(img)\n",
    "plt.subplot(1, 2, 2)\n",
    "plt.imshow(dst)"
   ]
  },
  {
   "cell_type": "code",
   "execution_count": null,
   "metadata": {},
   "outputs": [],
   "source": [
    "cv2.warpPerspective?"
   ]
  },
  {
   "cell_type": "code",
   "execution_count": null,
   "metadata": {},
   "outputs": [],
   "source": [
    "# Homography(Perspective Transformation)\n",
    "img1 = io.imread(home_url+'images/track.jpg')\n",
    "img2 = io.imread(home_url+'images/logo.jpg')\n",
    "rows1,cols1,ch1 = img1.shape\n",
    "rows2,cols2,ch2 = img2.shape\n",
    "\n",
    "pts1 = np.float32([(0,0),(cols2-1,0),(cols2-1,rows2-1),(0,rows2-1)])\n",
    "pts2 = np.float32([(671,314),(1084,546),(689,663),(386,361)])\n",
    "\n",
    "M = cv2.getPerspectiveTransform(pts1,pts2)\n",
    "print (M)\n",
    "img3 = np.copy(img1)\n",
    "cv2.warpPerspective(img2,M,(cols1,rows1),img3,borderMode=cv2.BORDER_TRANSPARENT)\n",
    "\n",
    "plt.figure(figsize=(14,3))\n",
    "plt.subplot(1, 3, 1)\n",
    "plt.imshow(img1)\n",
    "plt.subplot(1, 3, 2)\n",
    "plt.imshow(img2)\n",
    "plt.subplot(1, 3, 3)\n",
    "plt.imshow(img3)"
   ]
  },
  {
   "cell_type": "markdown",
   "metadata": {},
   "source": [
    "# Homography from SIFT Matching"
   ]
  },
  {
   "cell_type": "markdown",
   "metadata": {},
   "source": [
    "## 1. SIFT matching from the previous notebook"
   ]
  },
  {
   "cell_type": "code",
   "execution_count": null,
   "metadata": {},
   "outputs": [],
   "source": [
    "# Open and show images\n",
    "img1 = io.imread(home_url+'images/box.png')\n",
    "img2 = io.imread(home_url+'images/box_in_scene.png')\n",
    "\n",
    "# SIFT feature extracting\n",
    "sift = cv2.xfeatures2d.SIFT_create()\n",
    "gray1 = img1\n",
    "gray2 = img2\n",
    "if len(img1.shape)==3:\n",
    "    gray1 = cv2.cvtColor(img1, cv2.COLOR_BGR2GRAY)\n",
    "if len(img2.shape)==3:\n",
    "    gray2 = cv2.cvtColor(img2, cv2.COLOR_BGR2GRAY)\n",
    "\n",
    "kp1, des1 = sift.detectAndCompute(gray1, None)\n",
    "kp2, des2 = sift.detectAndCompute(gray2, None)\n",
    "\n",
    "# BFMatcher(Brute Force Matcher) with defalut setting\n",
    "bf = cv2.BFMatcher(cv2.NORM_L2)\n",
    "matches = bf.knnMatch(des1, des2, k=2)\n",
    "\n",
    "# Apply ratio test as in David Rowe's paper\n",
    "good_matches = []\n",
    "for m, n in matches:\n",
    "    if m.distance < 0.75 * n.distance:\n",
    "        good_matches.append(m)\n",
    "print('%d matches' % len(good_matches))\n",
    "\n",
    "img3 = cv2.drawMatches(img1, kp1, img2, kp2, good_matches, None)\n",
    "plt.imshow(cv2.cvtColor(img3, cv2.COLOR_BGR2RGB))"
   ]
  },
  {
   "cell_type": "markdown",
   "metadata": {},
   "source": [
    "## 2. Get Homography Matrix & Object Detection"
   ]
  },
  {
   "cell_type": "code",
   "execution_count": null,
   "metadata": {},
   "outputs": [],
   "source": [
    "# Matched points\n",
    "src_pts = np.float32([ kp1[m.queryIdx].pt for m in good_matches ]).reshape(-1,1,2)\n",
    "dst_pts = np.float32([ kp2[m.trainIdx].pt for m in good_matches ]).reshape(-1,1,2)\n",
    "\n",
    "print (src_pts[:3])\n",
    "print (dst_pts[:3])"
   ]
  },
  {
   "cell_type": "code",
   "execution_count": null,
   "metadata": {},
   "outputs": [],
   "source": [
    "# Find homography matrix with RANSAC algorithm\n",
    "M, mask = cv2.findHomography(src_pts, dst_pts, cv2.RANSAC, 5.0)\n",
    "matchesMask = mask.ravel().tolist()\n",
    "print (M)"
   ]
  },
  {
   "cell_type": "code",
   "execution_count": null,
   "metadata": {},
   "outputs": [],
   "source": [
    "# Calculate the object position in the scene using homography\n",
    "h,w = img1.shape[0:2]\n",
    "pts = np.float32([ [0,0],[0,h-1],[w-1,h-1],[w-1,0] ]).reshape(-1,1,2)\n",
    "dst = cv2.perspectiveTransform(pts,M)\n",
    "print (dst)"
   ]
  },
  {
   "cell_type": "code",
   "execution_count": null,
   "metadata": {},
   "outputs": [],
   "source": [
    "# Display the object\n",
    "img2 = cv2.polylines(img2,[np.int32(dst)],True,(255,0,0),3, cv2.LINE_AA)\n",
    "plt.imshow(img2, cmap='gray')"
   ]
  },
  {
   "cell_type": "code",
   "execution_count": null,
   "metadata": {},
   "outputs": [],
   "source": [
    "draw_params = dict(matchColor = (0,255,0), # draw matches in green color\n",
    "                   singlePointColor = None,\n",
    "                   matchesMask = matchesMask, # draw only inliers\n",
    "                   flags = 2)\n",
    "\n",
    "img3 = cv2.drawMatches(img1,kp1,img2,kp2,good_matches,None,**draw_params)\n",
    "plt.imshow(img3)"
   ]
  },
  {
   "cell_type": "code",
   "execution_count": null,
   "metadata": {},
   "outputs": [],
   "source": [
    "# Display the object\n",
    "img1 = cv2.polylines(img1,[np.int32(pts)],True,(255,0,0),3, cv2.LINE_AA)\n",
    "img2 = cv2.polylines(img2,[np.int32(dst)],True,(255,0,0),3, cv2.LINE_AA)\n",
    "\n",
    "draw_params = dict(matchColor = (0,255,0), # draw matches in green color\n",
    "                   singlePointColor = None,\n",
    "                   flags = 2)\n",
    "\n",
    "img3 = cv2.drawMatches(img1,kp1,img2,kp2,good_matches,None,**draw_params)\n",
    "plt.imshow(img3)"
   ]
  },
  {
   "cell_type": "code",
   "execution_count": null,
   "metadata": {},
   "outputs": [],
   "source": []
  }
 ],
 "metadata": {
  "kernelspec": {
   "display_name": "Python 3",
   "language": "python",
   "name": "python3"
  },
  "language_info": {
   "codemirror_mode": {
    "name": "ipython",
    "version": 3
   },
   "file_extension": ".py",
   "mimetype": "text/x-python",
   "name": "python",
   "nbconvert_exporter": "python",
   "pygments_lexer": "ipython3",
   "version": "3.6.6"
  }
 },
 "nbformat": 4,
 "nbformat_minor": 1
}
