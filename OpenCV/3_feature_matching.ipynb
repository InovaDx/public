{
 "cells": [
  {
   "cell_type": "markdown",
   "metadata": {},
   "source": [
    "# [OpenCV-Python Tutorial] Feature Matching\n",
    "\n",
    "In this notebook, we will see how to extract SIFT(Scale-Invariant Feature Transform) and match SIFT features of two images with OpenCV-Python.\n",
    "\n",
    "---"
   ]
  },
  {
   "cell_type": "code",
   "execution_count": null,
   "metadata": {},
   "outputs": [],
   "source": [
    "import numpy as np\n",
    "import cv2 # OpenCV-Python\n",
    "%matplotlib inline\n",
    "import matplotlib.pyplot as plt\n",
    "import time\n",
    "from skimage import io\n",
    "\n",
    "plt.style.use('default')\n",
    "print(\"OpenCV-Python Version %s\" % cv2.__version__)\n",
    "home_url = r'https://raw.githubusercontent.com/InovaDx/public/master/OpenCV/'"
   ]
  },
  {
   "cell_type": "markdown",
   "metadata": {},
   "source": [
    "### Loading images\n",
    "Loading images from a local disk unit is done with the following code:\n",
    "```python\n",
    "input_image = cv2.imread('filepath/image.png', cv2.IMREAD_COLOR)\n",
    "```\n",
    "When running this notebook from Google Colaboratory, images are not local, and the way to get to open them changes. A different library must be used (`skimage`) in order to fetch the hyperlink to the image and open it as an array of pixels.\n",
    "One of the main differences between both methods is the fact that `OpenCV`, unless specified, always opens images as RGB arrays with 3 layers, while `skimage` only creates the required layers.\n",
    "That results in some inconsistencies in case a grayscale image is loaded, since only 1 layer is loaded by `skimage`, but `OpenCV` loads all 3 RGB.\n",
    "\n",
    "This notebook assumes it is used from Google Colab and will always use the `skimage` option, even though is less common than using `OpenCV` in real life."
   ]
  },
  {
   "cell_type": "code",
   "execution_count": null,
   "metadata": {},
   "outputs": [],
   "source": [
    "# Load an image\n",
    "filename='images/beaver.png'\n",
    "beaver = io.imread(home_url+filename)\n",
    "plt.imshow(beaver, cmap='gray')"
   ]
  },
  {
   "cell_type": "code",
   "execution_count": null,
   "metadata": {},
   "outputs": [],
   "source": [
    "# Members of cv2.xfeatures2d\n",
    "dir(cv2.xfeatures2d)"
   ]
  },
  {
   "cell_type": "markdown",
   "metadata": {},
   "source": [
    "# Extract SIFT features from an image"
   ]
  },
  {
   "cell_type": "markdown",
   "metadata": {},
   "source": [
    "## 1. SIFT detector"
   ]
  },
  {
   "cell_type": "code",
   "execution_count": null,
   "metadata": {},
   "outputs": [],
   "source": [
    "# Convert image color(BGR->Grayscale)\n",
    "gray = beaver\n",
    "# You can convert the image when calling cv2.imread()\n",
    "# gray = cv2.imread('images/beaver.png', cv2.IMREAD_GRAYSCALE)\n",
    "\n",
    "print(str(beaver.shape) + \" => \" + str(beaver.shape))\n",
    "plt.imshow(gray, cmap='gray')"
   ]
  },
  {
   "cell_type": "code",
   "execution_count": null,
   "metadata": {},
   "outputs": [],
   "source": [
    "# SIFT feature detector/descriptor\n",
    "sift = cv2.xfeatures2d.SIFT_create()"
   ]
  },
  {
   "cell_type": "code",
   "execution_count": null,
   "metadata": {},
   "outputs": [],
   "source": [
    "# SIFT feature detection\n",
    "start_time = time.time()\n",
    "# kp = sift.detect(gray, None) # 2nd pos argument is a mask indicating a part of image to be searched in\n",
    "kp = sift.detect(beaver, None) # 2nd pos argument is a mask indicating a part of image to be searched in\n",
    "print('Elapsed time: %.6fs' % (time.time() - start_time))"
   ]
  },
  {
   "cell_type": "code",
   "execution_count": null,
   "metadata": {},
   "outputs": [],
   "source": [
    "# Display the SIFT features\n",
    "beaver_sift = cv2.drawKeypoints(beaver, kp, None)\n",
    "plt.imshow(beaver_sift)"
   ]
  },
  {
   "cell_type": "code",
   "execution_count": null,
   "metadata": {},
   "outputs": [],
   "source": [
    "# Display the rich SIFT features\n",
    "beaver_sift2 = cv2.drawKeypoints(beaver, kp, None, flags=cv2.DRAW_MATCHES_FLAGS_DRAW_RICH_KEYPOINTS)\n",
    "plt.imshow(beaver_sift2)"
   ]
  },
  {
   "cell_type": "code",
   "execution_count": null,
   "metadata": {},
   "outputs": [],
   "source": [
    "# Inspect the keypoints\n",
    "print (type(kp))\n",
    "print (len(kp))"
   ]
  },
  {
   "cell_type": "code",
   "execution_count": null,
   "metadata": {},
   "outputs": [],
   "source": [
    "print (type(kp[0]))\n",
    "print (dir(kp[0]))"
   ]
  },
  {
   "cell_type": "code",
   "execution_count": null,
   "metadata": {},
   "outputs": [],
   "source": [
    "# A keypoint's property\n",
    "# kp is sorted by scale of the keypoints\n",
    "print (kp[-1].angle) # Orientation\n",
    "print (kp[-1].class_id)\n",
    "print (kp[-1].octave)\n",
    "print (kp[-1].pt) # Position\n",
    "print (kp[-1].response)\n",
    "print (kp[-1].size) # Scale"
   ]
  },
  {
   "cell_type": "markdown",
   "metadata": {},
   "source": [
    "## 2. Extract SIFT descriptor"
   ]
  },
  {
   "cell_type": "code",
   "execution_count": null,
   "metadata": {},
   "outputs": [],
   "source": [
    "# Extract SIFT feature from the (gray) image and detected keypoints\n",
    "start_time = time.time()\n",
    "kp, des = sift.compute(gray, kp)\n",
    "print('Elapsed time: %.6fs' % (time.time() - start_time))\n",
    "\n",
    "# SIFT keypoints and descriptors at the same time\n",
    "# start_time = time.time()\n",
    "# kp, des = sift.detectAndCompute(gray, None)\n",
    "# print('Elapsed time: %.6fs' % (time.time() - start_time))"
   ]
  },
  {
   "cell_type": "code",
   "execution_count": null,
   "metadata": {},
   "outputs": [],
   "source": [
    "# Inspect the descriptors\n",
    "print (type(des))\n",
    "print (des.shape)\n",
    "print (des.dtype)"
   ]
  },
  {
   "cell_type": "code",
   "execution_count": null,
   "metadata": {},
   "outputs": [],
   "source": [
    "print (len(des[0, :]))\n",
    "print (des[0, :])"
   ]
  },
  {
   "cell_type": "markdown",
   "metadata": {},
   "source": [
    "# Feature Matching"
   ]
  },
  {
   "cell_type": "markdown",
   "metadata": {},
   "source": [
    "## 1. SIFT Feature Matching"
   ]
  },
  {
   "cell_type": "code",
   "execution_count": null,
   "metadata": {},
   "outputs": [],
   "source": [
    "# Open and show images\n",
    "# img1 = cv2.imread('images/box.png')\n",
    "# img2 = cv2.imread('images/box_in_scene.png')\n",
    "\n",
    "img1 = io.imread(home_url+'images/box.png')\n",
    "img2 = io.imread(home_url+'images/box_in_scene.png')\n",
    "\n",
    "plt.subplot(1, 2, 1)\n",
    "plt.imshow(img1, cmap='gray')\n",
    "plt.subplot(1, 2, 2)\n",
    "plt.imshow(img2, cmap='gray')"
   ]
  },
  {
   "cell_type": "code",
   "execution_count": null,
   "metadata": {},
   "outputs": [],
   "source": [
    "# SIFT feature extracting\n",
    "sift = cv2.xfeatures2d.SIFT_create()\n",
    "# gray1 = cv2.cvtColor(img1, cv2.COLOR_BGR2GRAY)\n",
    "# gray2 = cv2.cvtColor(img2, cv2.COLOR_BGR2GRAY)\n",
    "gray1 = img1\n",
    "gray2 = img2\n",
    "\n",
    "start_time = time.time()\n",
    "kp1, des1 = sift.detectAndCompute(gray1, None)\n",
    "kp2, des2 = sift.detectAndCompute(gray2, None)\n",
    "print('Elapsed time: %.6fs' % (time.time() - start_time))\n",
    "\n",
    "print('Image 1 - %d feature detected' % des1.shape[0])\n",
    "print('Image 2 - %d feature detected' % des2.shape[0])"
   ]
  },
  {
   "cell_type": "code",
   "execution_count": null,
   "metadata": {},
   "outputs": [],
   "source": [
    "# BFMatcher(Brute Force Matcher) with defalut setting\n",
    "bf = cv2.BFMatcher(cv2.NORM_L2)\n",
    "matches = bf.knnMatch(des1, des2, k=2)\n",
    "print('%d matches' % len(matches))"
   ]
  },
  {
   "cell_type": "code",
   "execution_count": null,
   "metadata": {},
   "outputs": [],
   "source": [
    "# Inspect matcher results\n",
    "print (type(matches))\n",
    "print (len(matches))\n",
    "print (type(matches[0]))\n",
    "print (len(matches[0]))"
   ]
  },
  {
   "cell_type": "code",
   "execution_count": null,
   "metadata": {},
   "outputs": [],
   "source": [
    "print (type(matches[0][0]))\n",
    "print (dir(matches[0][0]))"
   ]
  },
  {
   "cell_type": "code",
   "execution_count": null,
   "metadata": {},
   "outputs": [],
   "source": [
    "print (matches[0][0].distance)\n",
    "print (matches[0][0].queryIdx)\n",
    "print (matches[0][0].trainIdx)\n",
    "print (matches[0][0].imgIdx)\n",
    "print (matches[0][1].distance)\n",
    "print (matches[0][1].queryIdx)\n",
    "print (matches[0][1].trainIdx)\n",
    "print (matches[0][1].imgIdx)"
   ]
  },
  {
   "cell_type": "code",
   "execution_count": null,
   "metadata": {},
   "outputs": [],
   "source": [
    "# Apply ratio test as in David Rowe's paper\n",
    "good_matches = []\n",
    "for m, n in matches:\n",
    "    if m.distance < 0.75 * n.distance:\n",
    "        good_matches.append(m)\n",
    "print('%d matches' % len(good_matches))"
   ]
  },
  {
   "cell_type": "code",
   "execution_count": null,
   "metadata": {},
   "outputs": [],
   "source": [
    "# Display matches\n",
    "img3 = cv2.drawMatches(img1, kp1, img2, kp2, good_matches, None)\n",
    "plt.imshow(cv2.cvtColor(img3, cv2.COLOR_BGR2RGB))"
   ]
  },
  {
   "cell_type": "markdown",
   "metadata": {},
   "source": [
    "## 2. SIFT Mathing with Hellinger Distance"
   ]
  },
  {
   "cell_type": "code",
   "execution_count": null,
   "metadata": {},
   "outputs": [],
   "source": [
    "# L1 normalization\n",
    "des1 = des1 / np.repeat(np.sum(des1, axis = 1).reshape(des1.shape[0], 1), des1.shape[1], axis=1)\n",
    "des2 = des2 / np.repeat(np.sum(des2, axis = 1).reshape(des2.shape[0], 1), des2.shape[1], axis=1)\n",
    "\n",
    "# Calculate Hellinger distance for every feature pair\n",
    "dist_mat = np.sqrt(1.0 - np.dot(np.sqrt(des1), np.sqrt(des2).transpose()))\n",
    "\n",
    "# Match with ratio test\n",
    "min_arg = np.argsort(dist_mat, axis=1)\n",
    "good_matches = []\n",
    "for i in range(dist_mat.shape[0]):\n",
    "    m, n = min_arg[i][0:2]\n",
    "    if dist_mat[i][m] < dist_mat[i][n] * 0.75:\n",
    "        dmatch = cv2.DMatch(i, m, 0, dist_mat[i][m]) # _queryIdx, _trainIdx, _imgIdx, _distance\n",
    "        good_matches.append(dmatch)\n",
    "\n",
    "print('%d matches' % len(good_matches))"
   ]
  },
  {
   "cell_type": "code",
   "execution_count": null,
   "metadata": {},
   "outputs": [],
   "source": [
    "img4 = cv2.drawMatches(img1, kp1, img2, kp2, good_matches, None)\n",
    "plt.imshow(cv2.cvtColor(img4, cv2.COLOR_BGR2RGB))"
   ]
  },
  {
   "cell_type": "code",
   "execution_count": null,
   "metadata": {},
   "outputs": [],
   "source": []
  }
 ],
 "metadata": {
  "kernelspec": {
   "display_name": "Python 3",
   "language": "python",
   "name": "python3"
  },
  "language_info": {
   "codemirror_mode": {
    "name": "ipython",
    "version": 3
   },
   "file_extension": ".py",
   "mimetype": "text/x-python",
   "name": "python",
   "nbconvert_exporter": "python",
   "pygments_lexer": "ipython3",
   "version": "3.6.6"
  }
 },
 "nbformat": 4,
 "nbformat_minor": 1
}
